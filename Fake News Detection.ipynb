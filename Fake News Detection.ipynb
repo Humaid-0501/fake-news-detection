{
 "cells": [
  {
   "cell_type": "code",
   "execution_count": 2,
   "metadata": {
    "executionInfo": {
     "elapsed": 5,
     "status": "ok",
     "timestamp": 1638147028942,
     "user": {
      "displayName": "Anubhav Nanda",
      "photoUrl": "https://lh3.googleusercontent.com/a-/AOh14GiySqpm_jCexZpMBg2MhwjIMzasoIwQtveJnhQclw=s64",
      "userId": "04293353716308109241"
     },
     "user_tz": 300
    },
    "id": "ZwpznI_e3TL_"
   },
   "outputs": [],
   "source": [
    "import numpy as np\n",
    "import pandas as pd"
   ]
  },
  {
   "cell_type": "code",
   "execution_count": 33,
   "metadata": {
    "executionInfo": {
     "elapsed": 1157,
     "status": "ok",
     "timestamp": 1638147054162,
     "user": {
      "displayName": "Anubhav Nanda",
      "photoUrl": "https://lh3.googleusercontent.com/a-/AOh14GiySqpm_jCexZpMBg2MhwjIMzasoIwQtveJnhQclw=s64",
      "userId": "04293353716308109241"
     },
     "user_tz": 300
    },
    "id": "-4aduyAe3biE"
   },
   "outputs": [],
   "source": [
    "from nltk.tokenize import word_tokenize\n",
    "from nltk import pos_tag\n",
    "from nltk.corpus import stopwords\n",
    "from nltk.stem import WordNetLemmatizer\n",
    "from sklearn.preprocessing import LabelEncoder\n",
    "from collections import defaultdict\n",
    "from nltk.corpus import wordnet as wn\n",
    "from sklearn.feature_extraction.text import TfidfVectorizer\n",
    "from sklearn import model_selection, naive_bayes, svm\n",
    "from sklearn.metrics import accuracy_score, precision_score, recall_score, f1_score"
   ]
  },
  {
   "cell_type": "code",
   "execution_count": 4,
   "metadata": {
    "executionInfo": {
     "elapsed": 1206,
     "status": "ok",
     "timestamp": 1638147158518,
     "user": {
      "displayName": "Anubhav Nanda",
      "photoUrl": "https://lh3.googleusercontent.com/a-/AOh14GiySqpm_jCexZpMBg2MhwjIMzasoIwQtveJnhQclw=s64",
      "userId": "04293353716308109241"
     },
     "user_tz": 300
    },
    "id": "Z5e4az2E3bs_"
   },
   "outputs": [],
   "source": [
    "Corpus = pd.read_csv(\"train.csv\")"
   ]
  },
  {
   "cell_type": "code",
   "execution_count": 5,
   "metadata": {
    "colab": {
     "base_uri": "https://localhost:8080/",
     "height": 414
    },
    "executionInfo": {
     "elapsed": 146,
     "status": "ok",
     "timestamp": 1638147159626,
     "user": {
      "displayName": "Anubhav Nanda",
      "photoUrl": "https://lh3.googleusercontent.com/a-/AOh14GiySqpm_jCexZpMBg2MhwjIMzasoIwQtveJnhQclw=s64",
      "userId": "04293353716308109241"
     },
     "user_tz": 300
    },
    "id": "iHIxTSZD5TRw",
    "outputId": "2b734b9a-eff5-4c6e-9200-7d08dcbb9035"
   },
   "outputs": [
    {
     "name": "stdout",
     "output_type": "stream",
     "text": [
      "<class 'pandas.core.frame.DataFrame'>\n",
      "RangeIndex: 20800 entries, 0 to 20799\n",
      "Data columns (total 5 columns):\n",
      " #   Column  Non-Null Count  Dtype \n",
      "---  ------  --------------  ----- \n",
      " 0   id      20800 non-null  int64 \n",
      " 1   title   20242 non-null  object\n",
      " 2   author  18843 non-null  object\n",
      " 3   text    20761 non-null  object\n",
      " 4   label   20800 non-null  int64 \n",
      "dtypes: int64(2), object(3)\n",
      "memory usage: 812.6+ KB\n"
     ]
    },
    {
     "data": {
      "text/html": [
       "<div>\n",
       "<style scoped>\n",
       "    .dataframe tbody tr th:only-of-type {\n",
       "        vertical-align: middle;\n",
       "    }\n",
       "\n",
       "    .dataframe tbody tr th {\n",
       "        vertical-align: top;\n",
       "    }\n",
       "\n",
       "    .dataframe thead th {\n",
       "        text-align: right;\n",
       "    }\n",
       "</style>\n",
       "<table border=\"1\" class=\"dataframe\">\n",
       "  <thead>\n",
       "    <tr style=\"text-align: right;\">\n",
       "      <th></th>\n",
       "      <th>id</th>\n",
       "      <th>title</th>\n",
       "      <th>author</th>\n",
       "      <th>text</th>\n",
       "      <th>label</th>\n",
       "    </tr>\n",
       "  </thead>\n",
       "  <tbody>\n",
       "    <tr>\n",
       "      <th>0</th>\n",
       "      <td>0</td>\n",
       "      <td>House Dem Aide: We Didn’t Even See Comey’s Let...</td>\n",
       "      <td>Darrell Lucus</td>\n",
       "      <td>House Dem Aide: We Didn’t Even See Comey’s Let...</td>\n",
       "      <td>1</td>\n",
       "    </tr>\n",
       "    <tr>\n",
       "      <th>1</th>\n",
       "      <td>1</td>\n",
       "      <td>FLYNN: Hillary Clinton, Big Woman on Campus - ...</td>\n",
       "      <td>Daniel J. Flynn</td>\n",
       "      <td>Ever get the feeling your life circles the rou...</td>\n",
       "      <td>0</td>\n",
       "    </tr>\n",
       "    <tr>\n",
       "      <th>2</th>\n",
       "      <td>2</td>\n",
       "      <td>Why the Truth Might Get You Fired</td>\n",
       "      <td>Consortiumnews.com</td>\n",
       "      <td>Why the Truth Might Get You Fired October 29, ...</td>\n",
       "      <td>1</td>\n",
       "    </tr>\n",
       "    <tr>\n",
       "      <th>3</th>\n",
       "      <td>3</td>\n",
       "      <td>15 Civilians Killed In Single US Airstrike Hav...</td>\n",
       "      <td>Jessica Purkiss</td>\n",
       "      <td>Videos 15 Civilians Killed In Single US Airstr...</td>\n",
       "      <td>1</td>\n",
       "    </tr>\n",
       "    <tr>\n",
       "      <th>4</th>\n",
       "      <td>4</td>\n",
       "      <td>Iranian woman jailed for fictional unpublished...</td>\n",
       "      <td>Howard Portnoy</td>\n",
       "      <td>Print \\nAn Iranian woman has been sentenced to...</td>\n",
       "      <td>1</td>\n",
       "    </tr>\n",
       "  </tbody>\n",
       "</table>\n",
       "</div>"
      ],
      "text/plain": [
       "   id                                              title              author  \\\n",
       "0   0  House Dem Aide: We Didn’t Even See Comey’s Let...       Darrell Lucus   \n",
       "1   1  FLYNN: Hillary Clinton, Big Woman on Campus - ...     Daniel J. Flynn   \n",
       "2   2                  Why the Truth Might Get You Fired  Consortiumnews.com   \n",
       "3   3  15 Civilians Killed In Single US Airstrike Hav...     Jessica Purkiss   \n",
       "4   4  Iranian woman jailed for fictional unpublished...      Howard Portnoy   \n",
       "\n",
       "                                                text  label  \n",
       "0  House Dem Aide: We Didn’t Even See Comey’s Let...      1  \n",
       "1  Ever get the feeling your life circles the rou...      0  \n",
       "2  Why the Truth Might Get You Fired October 29, ...      1  \n",
       "3  Videos 15 Civilians Killed In Single US Airstr...      1  \n",
       "4  Print \\nAn Iranian woman has been sentenced to...      1  "
      ]
     },
     "execution_count": 5,
     "metadata": {},
     "output_type": "execute_result"
    }
   ],
   "source": [
    "Corpus.shape\n",
    "Corpus.info()\n",
    "Corpus.head()"
   ]
  },
  {
   "cell_type": "code",
   "execution_count": 6,
   "metadata": {
    "executionInfo": {
     "elapsed": 133,
     "status": "ok",
     "timestamp": 1638147165624,
     "user": {
      "displayName": "Anubhav Nanda",
      "photoUrl": "https://lh3.googleusercontent.com/a-/AOh14GiySqpm_jCexZpMBg2MhwjIMzasoIwQtveJnhQclw=s64",
      "userId": "04293353716308109241"
     },
     "user_tz": 300
    },
    "id": "xUKY-sUx3b40"
   },
   "outputs": [],
   "source": [
    "Corpus_WO_Label = Corpus.drop('label', axis=1)\n",
    "Corpus_Label = Corpus['label']"
   ]
  },
  {
   "cell_type": "code",
   "execution_count": 7,
   "metadata": {
    "colab": {
     "base_uri": "https://localhost:8080/"
    },
    "executionInfo": {
     "elapsed": 199,
     "status": "ok",
     "timestamp": 1638147168154,
     "user": {
      "displayName": "Anubhav Nanda",
      "photoUrl": "https://lh3.googleusercontent.com/a-/AOh14GiySqpm_jCexZpMBg2MhwjIMzasoIwQtveJnhQclw=s64",
      "userId": "04293353716308109241"
     },
     "user_tz": 300
    },
    "id": "_leeMXQI5tX0",
    "outputId": "021503d2-39ba-4056-af9e-4abc9e3ea99c"
   },
   "outputs": [
    {
     "data": {
      "text/plain": [
       "1    10413\n",
       "0    10387\n",
       "Name: label, dtype: int64"
      ]
     },
     "execution_count": 7,
     "metadata": {},
     "output_type": "execute_result"
    }
   ],
   "source": [
    "Corpus_Label.value_counts()"
   ]
  },
  {
   "cell_type": "code",
   "execution_count": 8,
   "metadata": {
    "colab": {
     "base_uri": "https://localhost:8080/"
    },
    "executionInfo": {
     "elapsed": 145,
     "status": "ok",
     "timestamp": 1638147170622,
     "user": {
      "displayName": "Anubhav Nanda",
      "photoUrl": "https://lh3.googleusercontent.com/a-/AOh14GiySqpm_jCexZpMBg2MhwjIMzasoIwQtveJnhQclw=s64",
      "userId": "04293353716308109241"
     },
     "user_tz": 300
    },
    "id": "R7WHXxVy3byn",
    "outputId": "f4daad36-8b64-413c-8ce1-dfcab3af8860"
   },
   "outputs": [
    {
     "name": "stdout",
     "output_type": "stream",
     "text": [
      "0        House Dem Aide: We Didn’t Even See Comey’s Let...\n",
      "1        Ever get the feeling your life circles the rou...\n",
      "2        Why the Truth Might Get You Fired October 29, ...\n",
      "3        Videos 15 Civilians Killed In Single US Airstr...\n",
      "4        Print \\nAn Iranian woman has been sentenced to...\n",
      "                               ...                        \n",
      "20795    Rapper T. I. unloaded on black celebrities who...\n",
      "20796    When the Green Bay Packers lost to the Washing...\n",
      "20797    The Macy’s of today grew from the union of sev...\n",
      "20798    NATO, Russia To Hold Parallel Exercises In Bal...\n",
      "20799      David Swanson is an author, activist, journa...\n",
      "Name: text, Length: 20800, dtype: object\n"
     ]
    }
   ],
   "source": [
    "print(Corpus['text'])"
   ]
  },
  {
   "cell_type": "code",
   "execution_count": 9,
   "metadata": {
    "colab": {
     "base_uri": "https://localhost:8080/"
    },
    "executionInfo": {
     "elapsed": 251647,
     "status": "ok",
     "timestamp": 1638147618892,
     "user": {
      "displayName": "Anubhav Nanda",
      "photoUrl": "https://lh3.googleusercontent.com/a-/AOh14GiySqpm_jCexZpMBg2MhwjIMzasoIwQtveJnhQclw=s64",
      "userId": "04293353716308109241"
     },
     "user_tz": 300
    },
    "id": "UjU6I7fM3b18",
    "outputId": "3a244b3c-8b5d-49c9-c0a9-10615c501563"
   },
   "outputs": [
    {
     "name": "stderr",
     "output_type": "stream",
     "text": [
      "[nltk_data] Downloading package punkt to /Users/humaid/nltk_data...\n",
      "[nltk_data]   Package punkt is already up-to-date!\n",
      "[nltk_data] Downloading package wordnet to /Users/humaid/nltk_data...\n",
      "[nltk_data]   Package wordnet is already up-to-date!\n",
      "[nltk_data] Downloading package averaged_perceptron_tagger to\n",
      "[nltk_data]     /Users/humaid/nltk_data...\n",
      "[nltk_data]   Package averaged_perceptron_tagger is already up-to-\n",
      "[nltk_data]       date!\n",
      "[nltk_data] Downloading package stopwords to\n",
      "[nltk_data]     /Users/humaid/nltk_data...\n",
      "[nltk_data]   Package stopwords is already up-to-date!\n"
     ]
    }
   ],
   "source": [
    "import nltk\n",
    "nltk.download('punkt')\n",
    "nltk.download('wordnet')\n",
    "nltk.download('averaged_perceptron_tagger')\n",
    "nltk.download('stopwords')\n",
    "# Pandas function to remove blank rows , if inplace is set to true, dataframe is updated without returning any value\n",
    "Corpus['text'].dropna(inplace=True)\n",
    "# Convert text to lowercase since python is case senstive\n",
    "Corpus['text'] = [str(text).lower() for text in Corpus['text']]\n",
    "# In this each text in Corpus will be broken into set of words\n",
    "Corpus['text']= [word_tokenize(str(text)) for text in Corpus['text']]"
   ]
  },
  {
   "cell_type": "code",
   "execution_count": 10,
   "metadata": {
    "executionInfo": {
     "elapsed": 146,
     "status": "ok",
     "timestamp": 1638147744078,
     "user": {
      "displayName": "Anubhav Nanda",
      "photoUrl": "https://lh3.googleusercontent.com/a-/AOh14GiySqpm_jCexZpMBg2MhwjIMzasoIwQtveJnhQclw=s64",
      "userId": "04293353716308109241"
     },
     "user_tz": 300
    },
    "id": "k1lMM84q9RfW"
   },
   "outputs": [],
   "source": [
    "# Creating a dictionary of pos_tags to understand the type of word whether it is noun / adjective / adverb / verb. \n",
    "# Default value of pos_tags is noun\n",
    "tag_map = defaultdict(lambda : wn.NOUN)\n",
    "tag_map['R'] = wn.ADV\n",
    "tag_map['V'] = wn.VERB\n",
    "tag_map['J'] = wn.ADJ"
   ]
  },
  {
   "cell_type": "code",
   "execution_count": 11,
   "metadata": {
    "id": "H17BobCW5gwx"
   },
   "outputs": [],
   "source": [
    "for index,text in enumerate(Corpus['text']):\n",
    "    final_words = []\n",
    "    word_Lemmatized = WordNetLemmatizer()\n",
    "    # pos_tag function provides whether the word is Noun/Verb/Adverb/Adjective or something else.\n",
    "    for word, tag in pos_tag(text):\n",
    "        # To remove stop words and consider only alphabetical words\n",
    "        if word not in stopwords.words('english') and word.isalpha():\n",
    "            final_word = word_Lemmatized.lemmatize(word,tag_map[tag[0]])\n",
    "            final_words.append(final_word)\n",
    "    # After each iteration, final_words will be stored in corpus\n",
    "    Corpus.loc[index,'text_final'] = str(final_words)"
   ]
  },
  {
   "cell_type": "code",
   "execution_count": 12,
   "metadata": {
    "id": "mL5iZs_gAFOR"
   },
   "outputs": [],
   "source": [
    "Train_Corpus_WO_Label, Val_Test_Corpus_WO_Label, Train_Label, Val_Test_Label = model_selection.train_test_split(Corpus['text_final'],Corpus['label'],test_size=0.4)\n",
    "Validation_Corpus_WO_Label, Test_Corpus_WO_Label, Validation_Label, Test_Label = model_selection.train_test_split(Val_Test_Corpus_WO_Label,Val_Test_Label,test_size=0.5)"
   ]
  },
  {
   "cell_type": "code",
   "execution_count": 13,
   "metadata": {
    "id": "RepYQ4hQAeOp"
   },
   "outputs": [],
   "source": [
    "Tfidf_vector = TfidfVectorizer(max_features=6000)\n",
    "Tfidf_vector.fit(Corpus['text_final'])\n",
    "Train_Corpus_WO_Label_Tfidf = Tfidf_vector.transform(Train_Corpus_WO_Label)\n",
    "Validation_Corpus_WO_Label_Tfidf = Tfidf_vector.transform(Validation_Corpus_WO_Label)"
   ]
  },
  {
   "cell_type": "code",
   "execution_count": 22,
   "metadata": {
    "id": "D4bWmJfUAihv"
   },
   "outputs": [
    {
     "name": "stdout",
     "output_type": "stream",
     "text": [
      "{'house': 2560, 'dem': 1408, 'aide': 142, 'even': 1885, 'see': 4735, 'comey': 1016, 'letter': 3090, 'jason': 2873, 'chaffetz': 835, 'tweet': 5558, 'october': 3673, 'subscribe': 5152, 'american': 202, 'utah': 5676, 'image': 2626, 'courtesy': 1232, 'michael': 3363, 'available': 404, 'creative': 1251, 'license': 3105, 'apology': 259, 'keith': 2949, 'doubt': 1627, 'bad': 430, 'person': 3928, 'world': 5902, 'director': 1527, 'james': 2864, 'accord': 36, 'democratic': 1413, 'look': 3164, 'like': 3114, 'also': 187, 'know': 2986, 'well': 5834, 'turn': 5554, 'send': 4751, 'announce': 233, 'fbi': 2038, 'email': 1749, 'may': 3295, 'relate': 4426, 'hillary': 2501, 'clinton': 948, 'server': 4772, 'ranking': 4323, 'democrat': 1412, 'relevant': 4435, 'committee': 1032, 'hear': 2459, 'find': 2090, 'via': 5719, 'one': 3704, 'republican': 4479, 'chairman': 838, 'notify': 3625, 'rank': 4322, 'member': 3328, 'intelligence': 2772, 'judiciary': 2922, 'oversight': 3786, 'agency': 127, 'review': 4541, 'recently': 4366, 'discover': 1547, 'order': 3736, 'contain': 1144, 'classified': 929, 'information': 2716, 'long': 3160, 'go': 2312, 'set': 4775, 'political': 4035, 'inform': 2715, 'learn': 3056, 'existence': 1935, 'appear': 265, 'pertinent': 3936, 'investigation': 2814, 'case': 790, 'reopen': 4462, 'course': 1230, 'actually': 68, 'say': 4680, 'light': 3113, 'unrelated': 5646, 'anthony': 242, 'weiner': 5830, 'teenager': 5318, 'apparently': 263, 'little': 3138, 'thing': 5375, 'fact': 1987, 'matter': 3290, 'already': 186, 'vow': 5764, 'initiate': 2726, 'least': 3059, 'two': 5564, 'year': 5932, 'worth': 5910, 'possibly': 4069, 'entire': 1815, 'term': 5343, 'think': 5376, 'work': 5897, 'briefly': 665, 'nation': 3525, 'head': 2451, 'realize': 4352, 'senior': 4752, 'sin': 4876, 'tell': 5326, 'bos': 617, 'check': 869, 'twitter': 5563, 'receive': 4364, 'government': 2332, 'reform': 4395, 'make': 3219, 'let': 3088, 'get': 2288, 'right': 4566, 'gop': 2324, 'major': 3217, 'development': 1485, 'potentially': 4077, 'politically': 4036, 'explosive': 1960, 'neither': 3560, 'colleague': 988, 'counterpart': 1222, 'instead': 2755, 'talk': 5284, 'daily': 1312, 'provide': 4233, 'advance': 93, 'notice': 3624, 'give': 2297, 'time': 5416, 'spin': 5022, 'machine': 3197, 'good': 2321, 'theater': 5365, 'nothing': 3623, 'far': 2018, 'suggest': 5179, 'anything': 252, 'however': 2565, 'act': 57, 'way': 5807, 'dan': 1321, 'model': 3423, 'responsibility': 4511, 'something': 4964, 'basic': 472, 'standard': 5061, 'fairness': 1999, 'grant': 2346, 'likely': 3116, 'answer': 240, 'sit': 4886, 'district': 1587, 'anchor': 215, 'cook': 1182, 'partisan': 3851, 'vote': 5760, 'index': 2687, 'mitt': 3414, 'romney': 4597, 'percent': 3906, 'moreover': 3458, 'leadership': 3048, 'full': 2228, 'support': 5201, 'plan': 3994, 'fish': 2104, 'mean': 3305, 'hot': 2557, 'example': 1907, 'become': 497, 'control': 1167, 'second': 4724, 'graduate': 2339, 'university': 5634, 'north': 3614, 'carolina': 781, 'consider': 1121, 'journalist': 2915, 'old': 3696, 'school': 4697, 'attempt': 370, 'religious': 4440, 'college': 993, 'succeed': 5165, 'nightmare': 3596, 'christian': 896, 'liberal': 3097, 'desire': 1457, 'stand': 5060, 'scar': 4686, 'silence': 4864, 'increase': 2678, 'survive': 5229, 'abusive': 21, 'marriage': 3266, 'follow': 2140, 'connect': 1107, 'facebook': 1984, 'click': 941, 'buy': 721, 'ever': 1889, 'feeling': 2051, 'life': 3108, 'circle': 907, 'rather': 4335, 'straight': 5110, 'line': 3123, 'toward': 5459, 'intend': 2774, 'destination': 1464, 'remain': 4444, 'big': 547, 'woman': 5891, 'campus': 745, 'massachusetts': 3279, 'everywhere': 1895, 'else': 1746, 'inauguration': 2667, 'dress': 1643, 'day': 1341, 'miss': 3405, 'forever': 2155, 'wear': 5815, 'wed': 5820, 'speaking': 4997, 'great': 2356, 'expectation': 1941, 'ago': 133, 'first': 2102, 'address': 79, 'class': 927, 'president': 4124, 'gather': 2258, 'student': 5138, 'need': 3550, 'debate': 1353, 'could': 1215, 'spokesman': 5029, 'kind': 2973, 'primary': 4145, 'unknown': 5635, 'seven': 4781, 'sister': 4885, 'glad': 2298, 'adam': 70, 'clear': 935, 'speak': 4995, 'today': 5427, 'classmate': 931, 'appoint': 274, 'charlie': 860, 'mccarthy': 3301, 'attendance': 372, 'glass': 2300, 'award': 413, 'wisdom': 5879, 'john': 2900, 'take': 5279, 'issue': 2850, 'previous': 4137, 'speaker': 4996, 'despite': 1462, 'win': 5869, 'election': 1731, 'seat': 4722, 'senate': 4749, 'since': 4877, 'edward': 1709, 'come': 1012, 'criticism': 1266, 'call': 736, 'empathy': 1765, 'goal': 2313, 'criticize': 1267, 'tactic': 5275, 'though': 5383, 'lament': 3009, 'black': 568, 'power': 4084, 'within': 5886, 'new': 3578, 'left': 3064, 'similar': 4869, 'word': 5896, 'brief': 663, 'trust': 5541, 'ironically': 2835, 'observe': 3657, 'ask': 329, 'want': 5781, 'everyone': 1893, 'lack': 3005, 'feel': 2050, 'others': 3754, 'generation': 2271, 'perhaps': 3915, 'understood': 5607, 'distrust': 1588, 'bust': 717, 'certainly': 831, 'understand': 5605, 'people': 3902, 'vast': 5696, 'conspiracy': 1127, 'benghazi': 527, 'voice': 5753, 'friday': 2212, 'load': 3143, 'compromise': 1072, 'road': 4577, 'horizon': 2544, 'trump': 5539, 'edge': 1701, 'question': 4285, 'immediately': 2631, 'prior': 4152, 'november': 3630, 'reason': 4356, 'closing': 956, 'describe': 1449, 'supporter': 5202, 'embrace': 1758, 'lie': 3106, 'con': 1074, 'alternative': 189, 'assault': 337, 'truth': 5542, 'fail': 1994, 'explain': 1951, 'choose': 892, 'history': 2512, 'among': 207, 'invent': 2811, 'attack': 368, 'mark': 3261, 'beginning': 505, 'end': 1781, 'free': 2202, 'society': 4945, 'offer': 3681, 'many': 3248, 'emerge': 1759, 'embark': 1752, 'upon': 5657, 'strange': 5113, 'trip': 5526, 'high': 2495, 'girl': 2294, 'politician': 4037, 'place': 3990, 'degree': 1391, 'significantly': 4863, 'comparison': 1046, 'show': 4840, 'back': 423, 'leader': 3047, 'view': 5730, 'politics': 4039, 'art': 316, 'possible': 4068, 'challenge': 840, 'practice': 4088, 'impossible': 2655, 'odd': 3674, 'white': 5849, 'wonder': 5892, 'current': 1298, 'station': 5072, 'point': 4026, 'ahead': 138, 'september': 4762, 'famously': 2013, 'dub': 1660, 'liar': 3096, 'bill': 551, 'conclude': 1084, 'mind': 3387, 'wedding': 5821, 'inspire': 2747, 'dangerous': 1325, 'might': 3371, 'fire': 2095, 'tension': 5340, 'analyst': 212, 'always': 192, 'honest': 2533, 'assessment': 343, 'result': 4520, 'latter': 3031, 'often': 3689, 'overwhelm': 3789, 'former': 2166, 'iraq': 2829, 'war': 5782, 'write': 5920, 'lawrence': 3040, 'foreign': 2152, 'policy': 4033, 'maker': 3220, 'repeatedly': 4466, 'choice': 889, 'insight': 2743, 'draw': 1641, 'following': 2142, 'analysis': 211, 'action': 58, 'play': 4004, 'united': 5630, 'state': 5069, 'lesson': 3087, 'probably': 4162, 'universal': 5632, 'early': 1679, 'spring': 5039, 'george': 2282, 'bush': 714, 'invasion': 2810, 'key': 2960, 'public': 4246, 'claim': 920, 'country': 1225, 'dictator': 1499, 'saddam': 4642, 'hussein': 2590, 'verge': 5708, 'develop': 1483, 'nuclear': 3633, 'weapon': 5814, 'hide': 2494, 'mass': 3278, 'destruction': 1467, 'real': 4348, 'beyond': 541, 'charge': 855, 'include': 2673, 'regime': 4404, 'change': 846, 'middle': 3368, 'east': 1687, 'vice': 5722, 'dick': 1497, 'oval': 3778, 'office': 3683, 'briefing': 664, 'cia': 905, 'present': 4119, 'chief': 880, 'staff': 5051, 'andy': 220, 'card': 769, 'photo': 3957, 'purpose': 4267, 'concentrate': 1077, 'belief': 513, 'hostile': 2555, 'close': 951, 'associate': 350, 'accept': 26, 'scenario': 4690, 'short': 4834, 'indeed': 2684, 'believe': 514, 'invade': 2809, 'try': 5543, 'never': 3576, 'evidence': 1896, 'difficult': 1508, 'rally': 4314, 'afghanistan': 118, 'baghdad': 434, 'prove': 4231, 'hard': 2430, 'supposedly': 5205, 'reliable': 4436, 'witness': 5888, 'iraqi': 2830, 'keep': 2948, 'adviser': 104, 'story': 5109, 'true': 5537, 'whose': 5852, 'worldview': 5903, 'literally': 3134, 'demand': 1409, 'overthrow': 3787, 'willing': 5866, 'tale': 5281, 'pending': 3895, 'atomic': 364, 'strong': 5133, 'lower': 3184, 'threshold': 5391, 'proof': 4201, 'repeat': 4465, 'assertion': 341, 'source': 4978, 'nationwide': 3530, 'campaign': 744, 'generate': 2270, 'fear': 2040, 'ally': 181, 'insist': 2744, 'inspector': 2745, 'program': 4185, 'chemical': 875, 'biological': 558, 'frustrate': 2221, 'administration': 84, 'soon': 4970, 'force': 2149, 'hand': 2416, 'march': 3254, 'launch': 3034, 'occupation': 3668, 'would': 5912, 'surely': 5213, 'social': 4942, 'science': 4699, 'rescue': 4486, 'various': 5694, 'thoroughly': 5382, 'shake': 4793, 'affair': 110, 'later': 3028, 'manager': 3231, 'still': 5097, 'sort': 4975, 'specifically': 5004, 'worker': 5898, 'put': 4271, 'help': 2477, 'protect': 4221, 'army': 307, 'snake': 4932, 'oil': 3692, 'et': 1869, 'al': 154, 'market': 3262, 'academic': 22, 'assistance': 348, 'ahmed': 140, 'national': 3526, 'congress': 1104, 'supplier': 5199, 'hidden': 2493, 'partnership': 3854, 'forge': 2156, 'serve': 4771, 'center': 824, 'independent': 2686, 'academy': 23, 'engineering': 1796, 'medicine': 3319, 'collaboration': 986, 'permanent': 3917, 'community': 1040, 'study': 5140, 'board': 590, 'coordinate': 1188, 'research': 4487, 'strengthen': 5122, 'security': 4734, 'effort': 1715, 'almost': 182, 'certain': 830, 'spy': 5042, 'detect': 1473, 'procedure': 4166, 'test': 5354, 'interrogation': 2798, 'difference': 1505, 'problem': 4164, 'believer': 515, 'simply': 4873, 'seem': 4739, 'assert': 340, 'personnel': 3933, 'thousand': 5386, 'desk': 1458, 'officer': 3684, 'specialist': 5000, 'closely': 953, 'approach': 279, 'pretty': 4132, 'syria': 5267, 'libya': 3103, 'israel': 2848, 'palestine': 3814, 'elsewhere': 1747, 'clapper': 921, 'barack': 459, 'obama': 3647, 'brennan': 656, 'credit': 1256, 'therefore': 5371, 'someone': 4963, 'feed': 2048, 'usually': 5675, 'accurate': 44, 'grasp': 2349, 'superior': 5196, 'appointment': 276, 'different': 1506, 'criterion': 1263, 'listen': 3132, 'charles': 858, 'council': 1217, 'yet': 5939, 'another': 239, 'organization': 3742, 'meeting': 3324, 'ground': 2373, 'refer': 4389, 'search': 4720, 'avoid': 409, 'declare': 1366, 'particularly': 3850, 'historically': 2511, 'broker': 679, 'must': 3506, 'match': 3283, 'fit': 2108, 'ideological': 2607, 'hit': 2513, 'cause': 803, 'group': 2374, 'attitude': 375, 'sell': 4747, 'democracy': 1411, 'saudi': 4675, 'arabia': 288, 'bashar': 471, 'peace': 3883, 'strategic': 5115, 'defense': 1383, 'initiative': 2727, 'star': 5066, 'glory': 2310, 'list': 3131, 'endless': 1784, 'sad': 4641, 'spend': 5015, 'million': 3384, 'dollar': 1608, 'improve': 2660, 'use': 5669, 'forget': 2157, 'able': 7, 'rise': 4571, 'lead': 3046, 'happen': 2423, 'determination': 1478, 'past': 3864, 'elite': 1743, 'destiny': 1465, 'capacity': 759, 'break': 646, 'relatively': 4431, 'hope': 2541, 'video': 5728, 'civilian': 918, 'kill': 2968, 'single': 4880, 'airstrike': 151, 'identify': 2605, 'rate': 4334, 'airstrikes': 152, 'engage': 1792, 'active': 60, 'combat': 1008, 'operation': 3716, 'missile': 3406, 'onto': 3709, 'military': 3378, 'drone': 1651, 'brian': 658, 'air': 145, 'bureau': 707, 'strike': 5127, 'last': 3024, 'month': 3447, 'loss': 3175, 'hospital': 2552, 'conduct': 1090, 'islamic': 2842, 'fighter': 2072, 'province': 4235, 'next': 3585, 'unusually': 5649, 'rapid': 4326, 'statement': 5070, 'injure': 2729, 'celebrate': 813, 'tribal': 5518, 'elder': 1727, 'return': 4531, 'man': 3227, 'name': 3517, 'owner': 3794, 'target': 5290, 'verify': 5709, 'identity': 2606, 'die': 1501, 'son': 4968, 'local': 3148, 'lose': 3173, 'three': 5390, 'involvement': 2824, 'deny': 1425, 'visit': 5746, 'phone': 3955, 'alone': 183, 'death': 1352, 'amount': 208, 'data': 1333, 'indicate': 2691, 'soldier': 4951, 'four': 2183, 'somalia': 4960, 'pair': 3810, 'eight': 1720, 'afghan': 117, 'policeman': 4032, 'capital': 760, 'jet': 2888, 'reportedly': 4471, 'police': 4031, 'checkpoint': 870, 'controversial': 1168, 'individual': 2697, 'pose': 4062, 'threat': 5388, 'directly': 1526, 'allegation': 172, 'citizen': 913, 'burn': 710, 'flag': 2112, 'street': 5120, 'city': 915, 'somali': 4959, 'occur': 3670, 'incident': 2671, 'investigate': 2813, 'print': 4151, 'iranian': 2828, 'sentence': 4756, 'six': 4889, 'prison': 4154, 'iran': 2827, 'revolutionary': 4547, 'guard': 2379, 'home': 2526, 'stone': 5104, 'wife': 5858, 'prisoner': 4155, 'human': 2574, 'activist': 63, 'publication': 4247, 'report': 4470, 'unit': 5628, 'arrest': 312, 'husband': 2589, 'raid': 4309, 'apartment': 257, 'without': 5887, 'warrant': 5793, 'draft': 1635, 'article': 318, 'publish': 4250, 'anyone': 251, 'narrative': 3520, 'watch': 5801, 'movie': 3484, 'law': 3036, 'mason': 3277, 'week': 5824, 'exclusive': 1921, 'clip': 949, 'breitbart': 655, 'news': 3580, 'discuss': 1552, 'loom': 3165, 'korea': 2991, 'donald': 1615, 'hollywood': 2523, 'leave': 3060, 'decide': 1361, 'bomb': 601, 'whole': 5851, 'behind': 509, 'everybody': 1891, 'except': 1910, 'fall': 2003, 'love': 3180, 'minute': 3399, 'transgender': 5492, 'toilet': 5430, 'surprise': 5219, 'celebrity': 815, 'syrian': 5268, 'save': 4677, 'environment': 1824, 'climate': 944, 'happy': 2425, 'tough': 5453, 'late': 3026, 'daniel': 1326, 'britain': 670, 'pop': 4048, 'flight': 2121, 'picture': 3969, 'sir': 4883, 'pass': 3857, 'airplane': 149, 'swim': 5254, 'living': 3140, 'lap': 3017, 'luxury': 3194, 'tap': 5288, 'ocean': 3671, 'window': 5871, 'throughout': 5396, 'artist': 322, 'pull': 4254, 'shade': 4791, 'disappear': 1534, 'quickly': 4288, 'animal': 227, 'per': 3904, 'leap': 3055, 'international': 2793, 'estimated': 1868, 'extra': 1972, 'mile': 3376, 'crew': 1257, 'instruct': 2760, 'pocket': 4020, 'plane': 3995, 'winner': 5874, 'fly': 2134, 'sometimes': 4965, 'hold': 2517, 'mere': 3345, 'inch': 2670, 'away': 416, 'face': 1983, 'eye': 1981, 'rumor': 4624, 'acquire': 53, 'london': 3158, 'perform': 3912, 'wind': 5870, 'princess': 4148, 'funeral': 2236, 'travel': 5506, 'routine': 4611, 'music': 3501, 'legend': 3071, 'every': 1890, 'row': 4613, 'tiny': 5420, 'dancer': 1323, 'rocket': 4587, 'handle': 2419, 'atlantic': 362, 'belt': 519, 'sign': 4858, 'tight': 5410, 'grip': 2370, 'poster': 4071, 'absolutely': 16, 'steven': 5093, 'hop': 2540, 'film': 2079, 'meantime': 3309, 'british': 671, 'icon': 2599, 'slowly': 4918, 'unfold': 5620, 'copy': 1193, 'whenever': 5841, 'trace': 5467, 'teeth': 5319, 'finger': 2093, 'gap': 2250, 'mouth': 3481, 'pilot': 3977, 'much': 3489, 'excitement': 1918, 'gaze': 2263, 'totally': 5450, 'unexpected': 5617, 'distant': 1577, 'corner': 1197, 'europe': 1878, 'computer': 1073, 'airport': 150, 'musician': 3503, 'paris': 3835, 'france': 2192, 'traditional': 5474, 'candidate': 752, 'sunday': 5192, 'represent': 4474, 'socialist': 4944, 'party': 3855, 'presidential': 4125, 'run': 4625, 'slogan': 4915, 'heart': 2462, 'beat': 494, 'best': 536, 'manuel': 3244, 'prime': 4146, 'minister': 3394, 'promote': 4197, 'background': 426, 'wide': 5853, 'margin': 3257, 'estimate': 1867, 'tonight': 5440, 'future': 2241, 'modern': 3425, 'victory': 5727, 'voter': 5761, 'hollande': 2522, 'december': 1358, 'seek': 4737, 'unlikely': 5640, 'widespread': 5856, 'chance': 844, 'round': 4608, 'voting': 5762, 'general': 2268, 'april': 286, 'deeply': 1375, 'divide': 1594, 'measure': 3311, 'popular': 4050, 'enthusiasm': 1813, 'low': 3183, 'number': 3634, 'contrast': 1163, 'conventional': 1173, 'throw': 5397, 'main': 3211, 'accuse': 47, 'pay': 3881, 'large': 3019, 'sum': 5185, 'money': 3439, 'parliamentary': 3840, 'legal': 3068, 'french': 2206, 'system': 5269, 'prosecutor': 4217, 'specialize': 5001, 'financial': 2086, 'electoral': 1733, 'allow': 180, 'multiple': 3491, 'top': 5443, 'enter': 1809, 'race': 4296, 'crowd': 1274, 'macron': 3198, 'economy': 1697, 'unless': 5638, 'withdraw': 5883, 'mainstream': 3214, 'extreme': 1976, 'marine': 3260, 'le': 3045, 'pen': 3893, 'expect': 1940, 'attribute': 380, 'part': 3842, 'leftist': 3065, 'appeal': 264, 'union': 5626, 'concerned': 1081, 'young': 5945, 'unlike': 5639, 'clearly': 937, 'distance': 1576, 'unpopular': 5643, 'especially': 1855, 'economic': 1693, 'thomas': 5380, 'youth': 5946, 'embody': 1756, 'perspective': 3934, 'build': 697, 'disappoint': 1535, 'abandon': 1, 'ideal': 2602, 'pressure': 4127, 'european': 1879, 'meet': 3323, 'budget': 694, 'restraint': 4517, 'struggle': 5137, 'labor': 3002, 'code': 974, 'attractive': 379, 'investor': 2818, 'encourage': 1780, 'business': 715, 'expand': 1938, 'ultimately': 5578, 'water': 5803, 'concrete': 1086, 'progress': 4188, 'roughly': 4607, 'unemployment': 5615, 'nearly': 3545, 'strongly': 5135, 'endorse': 1785, 'stimulus': 5098, 'promise': 4195, 'phase': 3946, 'income': 2675, 'supplement': 5198, 'euro': 1877, 'enough': 1803, 'scholarship': 4696, 'spar': 4992, 'mcdonald': 3303, 'contract': 1158, 'advocate': 108, 'fuel': 2225, 'driver': 1649, 'replace': 4467, 'vehicle': 5700, 'product': 4174, 'begin': 504, 'father': 2033, 'arsenal': 315, 'west': 5835, 'mother': 3470, 'secretary': 4728, 'movement': 3483, 'continue': 1156, 'mayor': 3297, 'schedule': 4692, 'highly': 2497, 'church': 904, 'detroit': 1480, 'saturday': 4673, 'participate': 3846, 'session': 4774, 'bishop': 563, 'wayne': 5808, 'jackson': 2859, 'faith': 2000, 'ministry': 3395, 'importance': 2651, 'team': 5305, 'script': 4713, 'submit': 5150, 'thursday': 5402, 'night': 3594, 'official': 3685, 'tour': 5454, 'neighborhood': 3558, 'ben': 520, 'carson': 785, 'native': 3531, 'excerpt': 1913, 'obtain': 3662, 'york': 5943, 'racial': 4298, 'evident': 1897, 'boil': 596, 'south': 4979, 'gun': 2390, 'bible': 544, 'slaughter': 4906, 'start': 5068, 'bring': 669, 'jesus': 2887, 'erase': 1844, 'america': 201, 'hire': 2505, 'retain': 4524, 'base': 467, 'merit': 3349, 'division': 1596, 'eliminate': 1742, 'equal': 1834, 'opportunity': 3723, 'access': 29, 'institution': 2758, 'lift': 3112, 'tax': 5294, 'spur': 5040, 'growth': 2376, 'enforcement': 1791, 'immigration': 2634, 'trade': 5469, 'deal': 1347, 'advantage': 95, 'workforce': 5899, 'important': 2652, 'quality': 4278, 'education': 1707, 'educational': 1708, 'likelihood': 3115, 'climb': 945, 'rid': 4558, 'common': 1034, 'core': 1195, 'sure': 5212, 'accountability': 39, 'focus': 2136, 'outcome': 3761, 'progressive': 4189, 'sustain': 5239, 'courage': 1229, 'do': 1601, 'child': 881, 'whatever': 5838, 'situation': 4888, 'together': 5429, 'perception': 3908, 'racist': 4301, 'african': 122, 'mccain': 3300, 'urban': 5664, 'area': 295, 'remember': 4450, 'concern': 1080, 'horrible': 2547, 'agenda': 128, 'reach': 4340, 'potential': 4076, 'job': 2897, 'raise': 4313, 'wage': 5770, 'option': 3731, 'parent': 3833, 'clean': 934, 'drug': 1655, 'welfare': 5833, 'qualify': 4277, 'bank': 451, 'loan': 3144, 'reduce': 4386, 'regulation': 4414, 'worship': 5909, 'worry': 5906, 'federal': 2045, 'threaten': 5389, 'liberty': 3101, 'conviction': 1178, 'vision': 5745, 'repeal': 4464, 'care': 771, 'health': 2456, 'afford': 115, 'regard': 4402, 'ethnicity': 1875, 'task': 5292, 'achieve': 48, 'highlight': 2496, 'factor': 1990, 'governance': 2331, 'regardless': 4403, 'array': 311, 'resident': 4496, 'side': 4852, 'proud': 4229, 'live': 3139, 'earth': 1683, 'affordable': 116, 'solution': 4957, 'healthcare': 2457, 'price': 4140, 'purchase': 4262, 'insurance': 2764, 'across': 56, 'saving': 4678, 'account': 38, 'belong': 517, 'transparency': 5499, 'shop': 4830, 'service': 4773, 'compete': 1051, 'illegally': 2618, 'block': 580, 'medicaid': 3315, 'ensure': 1808, 'cover': 1235, 'registered': 4408, 'undecided': 5597, 'lot': 3176, 'pastor': 3865, 'cast': 793, 'poll': 4040, 'neighbor': 3557, 'critical': 1265, 'create': 1249, 'unfortunately': 5622, 'color': 1001, 'historical': 2510, 'move': 3482, 'level': 3091, 'protection': 4222, 'civil': 917, 'utter': 5679, 'gain': 2244, 'favor': 2035, 'interested': 2785, 'prosperity': 4220, 'walk': 5773, 'partner': 3853, 'journey': 2916, 'flynn': 2135, 'resign': 4498, 'proposal': 4212, 'outline': 3766, 'sanction': 4661, 'russia': 4632, 'catch': 799, 'discussion': 1553, 'russian': 4633, 'ambassador': 196, 'ukraine': 5575, 'along': 184, 'push': 4270, 'cohen': 977, 'personal': 3930, 'lawyer': 3042, 'deliver': 1405, 'document': 1604, 'ukrainian': 5576, 'lawmaker': 3038, 'opposition': 3726, 'shape': 4798, 'paul': 3878, 'manafort': 3228, 'tie': 5408, 'heighten': 2471, 'scrutiny': 4715, 'eager': 1675, 'wade': 5768, 'scene': 4691, 'alike': 169, 'praise': 4089, 'vladimir': 5751, 'putin': 4272, 'alliance': 179, 'illegal': 2617, 'tip': 5421, 'interest': 2784, 'alarm': 157, 'diplomat': 1520, 'settle': 4778, 'conflict': 1098, 'cost': 1210, 'company': 1043, 'wire': 5877, 'transfer': 5489, 'corruption': 1208, 'oust': 3758, 'agent': 129, 'experience': 1945, 'several': 4783, 'examination': 1904, 'link': 3125, 'illicit': 2620, 'connection': 1109, 'involve': 2823, 'somewhat': 4966, 'questionable': 4286, 'plead': 4009, 'guilty': 2387, 'role': 4592, 'stock': 5101, 'manipulation': 3239, 'scheme': 4693, 'decade': 1357, 'mafia': 3203, 'half': 2407, 'jail': 2861, 'kiev': 2967, 'drop': 1652, 'motivate': 3473, 'unclear': 5592, 'seriously': 4769, 'diplomatic': 1521, 'entitle': 1817, 'behalf': 506, 'conference': 1091, 'warn': 5789, 'expert': 1948, 'agreement': 135, 'mistake': 3410, 'mixed': 3416, 'signal': 4859, 'relation': 4428, 'expense': 1943, 'january': 2868, 'men': 3335, 'propose': 4213, 'hotel': 2558, 'park': 3836, 'avenue': 405, 'manhattan': 3236, 'lobby': 3145, 'couch': 1214, 'restaurant': 4514, 'bar': 458, 'private': 4157, 'room': 4601, 'upper': 5658, 'floor': 2127, 'join': 2902, 'special': 4999, 'counsel': 1218, 'tower': 5461, 'republic': 4478, 'georgia': 2284, 'martial': 3271, 'venture': 5705, 'loyal': 3185, 'lieutenant': 3107, 'fix': 2111, 'compile': 1055, 'fund': 2232, 'opponent': 3722, 'representative': 4476, 'hacking': 2401, 'marry': 3268, 'relative': 4430, 'establish': 1863, 'tall': 5285, 'arrive': 314, 'washington': 5799, 'lady': 3007, 'melania': 3326, 'career': 772, 'mr': 3486, 'attend': 371, 'post': 4070, 'parliament': 3839, 'flee': 2119, 'moscow': 3465, 'amid': 204, 'protest': 4226, 'elect': 1729, 'bloc': 579, 'oppose': 3724, 'wealthy': 5813, 'businessman': 716, 'stance': 5059, 'absorb': 17, 'empire': 1769, 'estate': 1865, 'miami': 3362, 'athlete': 359, 'corrupt': 1207, 'considerable': 1122, 'wealth': 5812, 'fashion': 2026, 'nationalist': 3528, 'cleveland': 940, 'summer': 5188, 'convention': 1172, 'seize': 4742, 'principle': 4150, 'negotiator': 3556, 'saw': 4679, 'essentially': 1861, 'require': 4484, 'withdrawal': 5884, 'eastern': 1689, 'referendum': 4391, 'whether': 5844, 'crimea': 1259, 'territory': 5348, 'lease': 3058, 'reject': 4424, 'gross': 2372, 'violation': 5734, 'constitution': 1134, 'idea': 2601, 'pitch': 3986, 'openly': 3712, 'reaction': 4342, 'project': 4192, 'material': 3286, 'presumably': 4128, 'less': 3086, 'longtime': 3163, 'recent': 4365, 'really': 4353, 'bear': 492, 'soviet': 4985, 'grow': 2375, 'executive': 1926, 'firm': 2100, 'developer': 1484, 'halt': 2410, 'intent': 2778, 'determine': 1479, 'mutual': 3507, 'friend': 2214, 'touch': 5451, 'sense': 4753, 'stop': 5105, 'enemy': 1788, 'stroke': 5132, 'fraud': 2199, 'february': 2043, 'wait': 5771, 'response': 4510, 'organize': 3743, 'online': 3707, 'training': 5483, 'finance': 2085, 'billionaire': 553, 'soros': 4973, 'politico': 4038, 'earlier': 1678, 'profile': 4181, 'title': 5425, 'inside': 2741, 'note': 3622, 'cite': 912, 'amplify': 209, 'message': 3352, 'either': 1724, 'nonprofit': 3609, 'deep': 1373, 'breath': 652, 'constituent': 1132, 'guide': 2384, 'release': 4433, 'stay': 5077, 'tune': 5548, 'invitation': 2820, 'coalition': 968, 'manual': 3243, 'advise': 103, 'protester': 4227, 'hall': 2408, 'quietly': 4290, 'grab': 2335, 'front': 2219, 'spread': 5038, 'host': 2553, 'position': 4063, 'reinforce': 4422, 'impression': 2657, 'broad': 672, 'consensus': 1115, 'urge': 5665, 'express': 1964, 'event': 1887, 'platform': 4002, 'racism': 4300, 'safe': 4644, 'stage': 5054, 'republicans': 4480, 'obamacare': 3648, 'nbc': 3541, 'field': 2068, 'organizer': 3744, 'senator': 4750, 'defend': 1380, 'signature': 4860, 'deputy': 1442, 'apply': 273, 'engagement': 1793, 'previously': 4138, 'train': 5482, 'combined': 1011, 'register': 4407, 'dc': 1342, 'branch': 637, 'implicate': 2647, 'staffer': 5052, 'knock': 2985, 'massive': 3281, 'location': 3150, 'medium': 3322, 'financing': 2089, 'meanwhile': 3310, 'conservative': 1120, 'drive': 1648, 'donor': 1619, 'seemingly': 4740, 'outlet': 3765, 'personality': 3931, 'angel': 221, 'handful': 2417, 'fellow': 2054, 'channel': 847, 'bird': 560, 'dog': 1606, 'language': 3016, 'capitol': 763, 'insider': 2742, 'download': 1631, 'website': 5819, 'resist': 4500, 'congressional': 1105, 'utilize': 5678, 'form': 2161, 'basis': 474, 'en': 1776, 'flood': 2126, 'emphasis': 1767, 'add': 72, 'reporter': 4472, 'count': 1220, 'contributor': 1166, 'volunteer': 5758, 'success': 5166, 'paragraph': 3830, 'quote': 4294, 'blame': 570, 'fine': 2092, 'disclose': 1542, 'reader': 4344, 'serf': 4763, 'open': 3710, 'foundation': 2180, 'numerous': 3635, 'consultant': 1139, 'radical': 4304, 'la': 2999, 'detail': 1469, 'aid': 141, 'aclu': 52, 'addition': 76, 'working': 5900, 'family': 2011, 'victoria': 5726, 'impact': 2638, 'refugee': 4398, 'justice': 2936, 'recipient': 4370, 'currently': 1299, 'advisory': 106, 'migration': 3373, 'mention': 3340, 'association': 352, 'communication': 1037, 'unveil': 5650, 'third': 5379, 'series': 4767, 'direct': 1523, 'attendee': 373, 'pursue': 4268, 'jeremy': 2881, 'advocacy': 107, 'aaron': 0, 'klein': 2981, 'jerusalem': 2886, 'investigative': 2815, 'author': 394, 'weekend': 5826, 'radio': 4305, 'bbc': 488, 'produce': 4172, 'tv': 5557, 'programme': 4186, 'twist': 5562, 'muslim': 3505, 'sketch': 4894, 'offensive': 3680, 'trailer': 5481, 'slam': 4903, 'fun': 2230, 'terror': 5349, 'bound': 624, 'revolt': 4545, 'pic': 3966, 'page': 3804, 'user': 5672, 'taste': 5293, 'comedy': 1015, 'isi': 2839, 'brilliant': 668, 'agree': 134, 'sentiment': 4757, 'outrage': 3770, 'rap': 4324, 'abuse': 20, 'isolated': 2846, 'thanks': 5363, 'negative': 3552, 'stereotype': 5090, 'articulate': 319, 'broadcaster': 674, 'dare': 1329, 'mock': 3421, 'taxpayer': 5296, 'fee': 2047, 'funding': 2235, 'towards': 5460, 'production': 4175, 'wow': 5915, 'cameron': 742, 'suicide': 5181, 'lifestyle': 3110, 'green': 2361, 'age': 126, 'mystery': 3510, 'surround': 5225, 'nazi': 3540, 'germany': 2286, 'subject': 5148, 'observer': 3658, 'hitler': 2514, 'possess': 4065, 'largely': 3020, 'period': 3916, 'speculation': 5010, 'proven': 4232, 'researcher': 4488, 'mysterious': 3509, 'activity': 64, 'formerly': 2167, 'june': 2928, 'german': 2285, 'eventually': 1888, 'secret': 4727, 'around': 308, 'arctic': 294, 'treasure': 5509, 'hunter': 2585, 'primarily': 4144, 'tactical': 5276, 'weather': 5816, 'troop': 5530, 'warship': 5796, 'submarine': 5149, 'scientist': 4701, 'experiment': 1947, 'widely': 5854, 'speculate': 5009, 'contact': 1143, 'alien': 166, 'extraterrestrial': 1975, 'being': 511, 'institute': 2757, 'responsible': 4512, 'cultural': 1290, 'heavy': 2467, 'influence': 2711, 'found': 2179, 'july': 2926, 'richard': 4555, 'population': 4052, 'rule': 4621, 'supply': 5200, 'outpost': 3768, 'eat': 1691, 'infect': 2706, 'severely': 4785, 'ill': 2616, 'myth': 3511, 'island': 2844, 'land': 3010, 'locate': 3149, 'pole': 4030, 'discovery': 1548, 'affirm': 114, 'publicly': 4249, 'confirm': 1096, 'nominee': 3606, 'secretly': 4729, 'league': 3051, 'harry': 2436, 'reid': 4417, 'coordination': 1189, 'withhold': 5885, 'familiar': 2010, 'effect': 1710, 'refusal': 4399, 'puppet': 4261, 'final': 2083, 'scandal': 4685, 'fair': 1997, 'absent': 14, 'yes': 5937, 'troll': 5529, 'blog': 581, 'forum': 2174, 'solid': 4954, 'suspect': 5233, 'internet': 2795, 'leak': 3052, 'snowden': 4938, 'reveal': 4534, 'glenn': 2301, 'finally': 2084, 'western': 5836, 'uk': 5574, 'outfit': 3763, 'headquarters': 2453, 'joint': 2903, 'infiltrate': 2708, 'manipulate': 3238, 'discourse': 1546, 'disturb': 1589, 'value': 5689, 'speech': 5011, 'reality': 4351, 'propaganda': 4203, 'integrity': 2769, 'reporting': 4473, 'revelation': 4536, 'monitoring': 3442, 'youtube': 5947, 'blogger': 582, 'anonymous': 238, 'honey': 2535, 'trap': 5503, 'lure': 3192, 'sex': 4786, 'destructive': 1468, 'virus': 5742, 'elaborate': 1726, 'namely': 3518, 'technique': 5312, 'uncover': 5595, 'sink': 4881, 'inject': 2728, 'false': 2007, 'destroy': 1466, 'reputation': 4482, 'activism': 62, 'extremist': 1979, 'boast': 591, 'falsely': 2008, 'fake': 2001, 'victim': 5724, 'pretend': 4130, 'particular': 3849, 'slide': 4911, 'sting': 5099, 'canadian': 747, 'natural': 3533, 'random': 4319, 'divert': 1593, 'conversation': 1174, 'chat': 866, 'comment': 1023, 'section': 4730, 'attacker': 369, 'sway': 5243, 'opinion': 3720, 'canada': 746, 'segment': 4741, 'expose': 1962, 'monitor': 3441, 'track': 5468, 'obvious': 3663, 'weigh': 5828, 'correct': 1201, 'allegedly': 175, 'basically': 473, 'admit': 90, 'assume': 353, 'please': 4010, 'type': 5566, 'terrorist': 5351, 'sadly': 4643, 'passing': 3860, 'communicate': 1036, 'google': 2323, 'court': 1231, 'decision': 1362, 'commission': 1028, 'authority': 396, 'web': 5818, 'nervous': 3566, 'regulator': 4415, 'hill': 2500, 'worried': 5905, 'extent': 1970, 'indication': 2692, 'aggressive': 131, 'possibility': 4067, 'lobbyist': 3147, 'freak': 2201, 'prominent': 4194, 'writer': 5921, 'harvard': 2438, 'professor': 4180, 'version': 5713, 'column': 1005, 'newspaper': 3582, 'philosophy': 3953, 'amendment': 200, 'freedom': 2203, 'sexism': 4787, 'counter': 1221, 'shut': 4845, 'marketplace': 3264, 'rest': 4513, 'throat': 5394, 'roll': 4593, 'ignore': 2612, 'guess': 2381, 'disagree': 1532, 'hurt': 2588, 'delete': 1397, 'truly': 5538, 'amazing': 194, 'spot': 5034, 'fence': 2060, 'mess': 3351, 'confuse': 1101, 'denial': 1421, 'otherwise': 3755, 'date': 1335, 'legitimate': 3078, 'ufo': 5572, 'knowledge': 2987, 'solar': 4950, 'nut': 3639, 'fantastic': 2016, 'theory': 5368, 'planet': 3996, 'book': 608, 'ban': 446, 'boycott': 630, 'extremely': 1977, 'weird': 5831, 'joseph': 2910, 'egypt': 1718, 'plague': 3991, 'carbon': 768, 'dioxide': 1517, 'atmosphere': 363, 'lend': 3080, 'surface': 5214, 'twin': 5561, 'slightly': 4913, 'temperature': 5328, 'comfortable': 1018, 'entirely': 1816, 'blow': 587, 'embarrass': 1753, 'aspect': 330, 'rain': 4312, 'reserve': 4492, 'bounce': 623, 'game': 2248, 'remove': 4455, 'sun': 5191, 'process': 4170, 'dump': 1666, 'mar': 3250, 'originally': 3748, 'orbit': 3733, 'mankind': 3240, 'thick': 5373, 'magnetic': 3207, 'layer': 3044, 'filter': 2081, 'ruin': 4620, 'drag': 1636, 'closer': 954, 'quarter': 4280, 'cave': 806, 'sea': 4717, 'huge': 2572, 'size': 4891, 'sand': 4663, 'easy': 1690, 'ridicule': 4561, 'coast': 969, 'actual': 67, 'universe': 5633, 'billion': 552, 'galaxy': 2245, 'explanation': 1952, 'lane': 3015, 'civilization': 919, 'ii': 2613, 'amaze': 193, 'exactly': 1903, 'quite': 4292, 'crash': 1245, 'rig': 4564, 'explosion': 1959, 'gulf': 2389, 'virtually': 5740, 'none': 3607, 'wild': 5860, 'switch': 5259, 'offend': 3677, 'wrong': 5924, 'direction': 1524, 'unusual': 5648, 'moon': 3452, 'fairly': 1998, 'deposit': 1437, 'small': 4919, 'examine': 1905, 'ancient': 216, 'psychology': 4245, 'culture': 1291, 'heard': 2460, 'critic': 1264, 'scholar': 4695, 'scratch': 4708, 'accordance': 37, 'fancy': 2015, 'chaos': 849, 'read': 4343, 'upset': 5660, 'scientific': 4700, 'jupiter': 2932, 'thought': 5384, 'gas': 2256, 'giant': 2290, 'mike': 3374, 'brown': 686, 'original': 3747, 'gravity': 2354, 'somewhere': 4967, 'exist': 1934, 'complicate': 1063, 'finding': 2091, 'plot': 4015, 'angle': 225, 'telescope': 5324, 'observation': 3656, 'headline': 2452, 'hole': 2520, 'cloud': 959, 'object': 3651, 'accident': 31, 'significant': 4862, 'enormous': 1802, 'nasa': 3522, 'reply': 4469, 'journal': 2913, 'suggestion': 5180, 'awesome': 417, 'distraction': 1583, 'lengthy': 3082, 'formation': 2165, 'deserve': 1452, 'thank': 5362, 'record': 4378, 'salary': 4652, 'monthly': 3448, 'retire': 4527, 'steal': 5080, 'ready': 4346, 'master': 3282, 'sheep': 4807, 'sleep': 4909, 'peacefully': 3885, 'everything': 1894, 'sight': 4857, 'suspicious': 5238, 'stir': 5100, 'penalty': 3894, 'hang': 2421, 'battle': 484, 'advertiser': 100, 'angry': 226, 'lord': 3170, 'anger': 224, 'wrap': 5916, 'motivation': 3474, 'publisher': 4251, 'press': 4126, 'von': 5759, 'chuck': 903, 'instance': 2752, 'element': 1738, 'consist': 1124, 'coincidence': 981, 'censor': 820, 'apart': 256, 'regular': 4411, 'mostly': 3468, 'screen': 4710, 'ugly': 5573, 'creature': 1253, 'plastic': 4000, 'rich': 4554, 'chris': 894, 'purple': 4266, 'monster': 3445, 'outright': 3773, 'television': 5325, 'eric': 1846, 'blair': 569, 'viable': 5720, 'decree': 1369, 'justify': 2938, 'deter': 1476, 'tumor': 5547, 'body': 594, 'disease': 1554, 'refuse': 4400, 'gary': 2255, 'site': 4887, 'gov': 2329, 'conclusion': 1085, 'brain': 636, 'dead': 1344, 'guest': 2382, 'owe': 3792, 'gay': 2261, 'vet': 5716, 'distract': 1582, 'topic': 5444, 'intelligent': 2773, 'content': 1151, 'consistently': 1126, 'god': 2315, 'finish': 2094, 'motive': 3475, 'effective': 1711, 'veteran': 5717, 'hey': 2490, 'clue': 962, 'incredibly': 2682, 'hammer': 2413, 'tree': 5514, 'fruit': 2220, 'folk': 2139, 'pride': 4141, 'desperate': 1460, 'attention': 374, 'buck': 693, 'english': 1798, 'dimension': 1513, 'disorder': 1565, 'fat': 2029, 'jon': 2905, 'stewart': 5095, 'thinking': 5378, 'intellectual': 2771, 'unaware': 5587, 'neck': 3549, 'addict': 74, 'react': 4341, 'meaningful': 3307, 'potato': 4074, 'apple': 270, 'step': 5088, 'stick': 5096, 'drown': 1654, 'corporate': 1199, 'fox': 2185, 'sector': 4731, 'employee': 1771, 'tolerate': 5434, 'automatically': 402, 'diversity': 1592, 'male': 3225, 'constituency': 1131, 'wing': 5873, 'incentive': 2669, 'corporation': 1200, 'hiring': 2506, 'promotion': 4198, 'camp': 743, 'dissent': 1574, 'bother': 620, 'anyway': 253, 'garbage': 2251, 'id': 2600, 'recall': 4363, 'earnest': 1681, 'log': 3154, 'empty': 1775, 'pure': 4263, 'ca': 725, 'recommend': 4375, 'paper': 3824, 'cognitive': 976, 'dr': 1634, 'hate': 2443, 'complex': 1060, 'total': 5449, 'authoritarian': 395, 'illusion': 2623, 'privacy': 4156, 'teach': 5302, 'leaf': 3050, 'longer': 3161, 'tech': 5308, 'scary': 4688, 'captain': 764, 'yeah': 5931, 'guy': 2395, 'nsa': 3632, 'manage': 3229, 'camera': 741, 'presence': 4118, 'disaster': 1538, 'bit': 564, 'broadcast': 673, 'oh': 3690, 'sorry': 4974, 'junior': 2930, 'fascist': 2025, 'england': 1797, 'apparatus': 261, 'besides': 535, 'australia': 390, 'zealand': 5948, 'share': 4800, 'electronic': 1737, 'uncle': 5591, 'sam': 4657, 'network': 3572, 'prohibit': 4190, 'five': 2110, 'permit': 3920, 'thus': 5403, 'legally': 3070, 'violate': 5733, 'domestic': 1610, 'notion': 3626, 'imagine': 2628, 'pharma': 3944, 'minority': 3398, 'majority': 3218, 'bob': 593, 'correctly': 1203, 'deliberately': 1400, 'harass': 2427, 'commentator': 1025, 'wish': 5881, 'dnc': 1600, 'sound': 4977, 'ignorant': 2611, 'stupid': 5145, 'context': 1154, 'completely': 1059, 'sander': 4664, 'fight': 2071, 'player': 4005, 'foot': 2145, 'soccer': 4940, 'debut': 1356, 'columbus': 1004, 'ring': 4567, 'advice': 102, 'coach': 966, 'argentina': 297, 'demographic': 1415, 'trail': 5480, 'sport': 5033, 'season': 4721, 'feature': 2042, 'designate': 1454, 'portland': 4059, 'dallas': 1315, 'atlanta': 361, 'regularly': 4412, 'fade': 1993, 'anonymity': 237, 'quiet': 4289, 'ohio': 3691, 'diego': 1502, 'hometown': 2530, 'club': 961, 'daughter': 1336, 'moment': 3435, 'outside': 3774, 'spell': 5013, 'spain': 4988, 'northwest': 3617, 'arguably': 298, 'valuable': 5688, 'cup': 1293, 'championship': 843, 'transition': 5494, 'acquisition': 54, 'ease': 1685, 'technical': 5309, 'piece': 3970, 'region': 4405, 'shopping': 4832, 'overall': 3779, 'import': 2650, 'trend': 5516, 'reflect': 4393, 'shift': 4818, 'average': 406, 'maybe': 3296, 'ten': 5332, 'benefit': 526, 'risk': 4572, 'prospect': 4218, 'wave': 5806, 'talent': 5282, 'hudson': 2569, 'river': 4576, 'red': 4384, 'bull': 700, 'acknowledge': 51, 'italy': 2854, 'david': 1338, 'assurance': 355, 'shortly': 4836, 'enjoy': 1800, 'football': 2147, 'beauty': 496, 'fargo': 2021, 'topple': 5445, 'wednesday': 5822, 'departure': 1428, 'swift': 5252, 'stun': 5143, 'crisis': 1262, 'sale': 4653, 'banking': 453, 'extraordinary': 1974, 'industry': 2700, 'trouble': 5532, 'blatant': 574, 'contribute': 1164, 'instrument': 2762, 'mortgage': 3463, 'fundamentally': 2234, 'simple': 4872, 'intense': 2775, 'sham': 4795, 'customer': 1305, 'accumulate': 42, 'unauthorized': 5586, 'creation': 1250, 'ambitious': 198, 'twice': 5560, 'testify': 5355, 'vocal': 5752, 'timing': 5418, 'complete': 1058, 'internal': 2792, 'phony': 3956, 'earnings': 1682, 'pension': 3900, 'compensation': 1050, 'plus': 4018, 'erupt': 1849, 'dairy': 1313, 'farm': 2022, 'minnesota': 3396, 'emphasize': 1768, 'root': 4603, 'unable': 5583, 'testimony': 5356, 'remind': 4451, 'spent': 5017, 'wall': 5775, 'ability': 6, 'profit': 4182, 'banker': 452, 'earn': 1680, 'attract': 377, 'warren': 5794, 'shareholder': 4801, 'stake': 5056, 'respond': 4508, 'request': 4483, 'distinction': 1579, 'chase': 865, 'handling': 2420, 'inquiry': 2738, 'timothy': 5419, 'operate': 3714, 'san': 4660, 'francisco': 2195, 'management': 3230, 'grateful': 2351, 'commit': 1030, 'aside': 328, 'prepare': 4114, 'interview': 2802, 'los': 3172, 'angeles': 223, 'attorney': 376, 'resolve': 4503, 'provoke': 4240, 'furious': 2238, 'toxic': 5463, 'department': 1427, 'retail': 4522, 'extend': 1966, 'surrender': 5223, 'provision': 4237, 'adopt': 91, 'deploy': 1433, 'annual': 235, 'resignation': 4499, 'oscar': 3753, 'elizabeth': 1744, 'blast': 573, 'hearing': 2461, 'scam': 4683, 'dakota': 1314, 'innocent': 2735, 'clash': 926, 'mitchell': 3413, 'chairwoman': 839, 'afternoon': 124, 'pipeline': 3982, 'suppose': 5204, 'sacred': 4639, 'sioux': 4882, 'rock': 4585, 'negotiation': 3555, 'construction': 1137, 'bunch': 704, 'loretta': 3171, 'francis': 2194, 'medication': 3318, 'custody': 1303, 'county': 1226, 'tear': 5307, 'oklahoma': 3695, 'suffer': 5175, 'dozen': 1633, 'tribe': 5519, 'treatment': 5512, 'armed': 305, 'oregon': 3738, 'wildlife': 5862, 'refuge': 4397, 'arm': 304, 'fundamental': 2233, 'chant': 848, 'demonstrator': 1419, 'burst': 711, 'resource': 4506, 'separate': 4759, 'probe': 4163, 'inner': 2734, 'undergo': 5600, 'surpass': 5218, 'economist': 1696, 'gold': 2316, 'silver': 4868, 'cent': 823, 'shanghai': 4797, 'pm': 4019, 'est': 1862, 'recording': 4379, 'morning': 3460, 'nov': 3628, 'ny': 3642, 'exact': 1902, 'premium': 4112, 'china': 884, 'drain': 1637, 'mining': 3393, 'constantly': 1130, 'lawsuit': 3041, 'filing': 2077, 'tone': 5439, 'fell': 2053, 'yesterday': 5938, 'trading': 5472, 'ounce': 3757, 'global': 2303, 'necessary': 3547, 'file': 2075, 'respect': 4507, 'criminal': 1260, 'overnight': 3783, 'asian': 327, 'tuesday': 5545, 'barrel': 464, 'offshore': 3688, 'narrow': 3521, 'usa': 5668, 'shore': 4833, 'japan': 2869, 'deutsche': 1481, 'default': 1376, 'zero': 5949, 'hedge': 2468, 'asset': 344, 'bubble': 692, 'importantly': 2653, 'proxy': 4241, 'upcoming': 5652, 'philippine': 3952, 'duterte': 1671, 'retreat': 4530, 'venezuela': 5703, 'currency': 1297, 'rage': 4307, 'competition': 1052, 'ice': 2596, 'mine': 3388, 'guardian': 2380, 'iii': 2614, 'safety': 4647, 'dave': 1337, 'mail': 3210, 'abc': 3, 'impeachment': 2640, 'peter': 3939, 'kadzik': 2940, 'commentary': 1024, 'doj': 1607, 'rat': 4333, 'ship': 4821, 'employment': 1773, 'weak': 5809, 'consecutive': 1114, 'fed': 2044, 'hike': 2499, 'alert': 162, 'additional': 77, 'delivery': 1406, 'todd': 5428, 'wise': 5880, 'normal': 3612, 'interrupt': 2799, 'constitutional': 1135, 'exception': 1911, 'crazy': 1246, 'norm': 3611, 'stuff': 5141, 'performance': 3913, 'odds': 3675, 'buzzfeed': 724, 'specific': 5003, 'jeff': 2877, 'poor': 4046, 'although': 190, 'strategist': 5116, 'damage': 1317, 'ryan': 4635, 'fully': 2229, 'tent': 5341, 'fresh': 2210, 'quest': 4284, 'hour': 2559, 'jungle': 2929, 'endure': 1787, 'consciousness': 1113, 'moderate': 3424, 'powerful': 4085, 'spiritual': 5025, 'congressman': 1106, 'clothes': 957, 'projection': 4193, 'perfect': 3910, 'cabinet': 726, 'cut': 1306, 'fiscal': 2103, 'explode': 1955, 'mobilize': 3420, 'amazon': 195, 'forest': 2154, 'confident': 1094, 'grand': 2342, 'temporary': 5331, 'murphy': 3497, 'crime': 1258, 'monica': 3440, 'cnn': 965, 'jeffrey': 2879, 'studio': 5139, 'explore': 1958, 'jones': 2907, 'linda': 3122, 'actress': 66, 'sarah': 4669, 'drama': 1638, 'simpson': 4874, 'mogul': 3429, 'portray': 4061, 'golden': 2317, 'globe': 2309, 'tackle': 5274, 'hurricane': 2587, 'premier': 4110, 'assassination': 336, 'italian': 2853, 'designer': 1456, 'singer': 4879, 'martin': 3272, 'jerome': 2882, 'jeromeehudson': 2883, 'msnbc': 3488, 'joy': 2917, 'actor': 65, 'rob': 4579, 'mentally': 3339, 'cyber': 1307, 'warfare': 5785, 'anybody': 249, 'helm': 2475, 'stable': 5048, 'pam': 3817, 'pamkeynen': 3818, 'cop': 1191, 'pin': 3978, 'robbery': 4580, 'maria': 3258, 'wake': 5772, 'hatred': 2444, 'boston': 619, 'herald': 2483, 'sic': 4849, 'blue': 588, 'positive': 4064, 'allege': 173, 'sick': 4851, 'recover': 4381, 'due': 1663, 'cbs': 807, 'hoax': 2515, 'couple': 1228, 'unfortunate': 5621, 'circumstance': 911, 'smart': 4920, 'tag': 5277, 'gon': 2320, 'na': 3513, 'mislead': 3404, 'summon': 5190, 'abortion': 9, 'pill': 3975, 'latin': 3029, 'zika': 5950, 'outbreak': 3760, 'severe': 4784, 'birth': 561, 'defect': 1378, 'brazil': 641, 'ecuador': 1698, 'double': 1626, 'colombia': 996, 'el': 1725, 'salvador': 4656, 'honduras': 2532, 'doctor': 1602, 'restrict': 4518, 'terminate': 5345, 'pregnancy': 4106, 'caribbean': 776, 'warning': 5791, 'typically': 5568, 'principal': 4149, 'affect': 111, 'increased': 2679, 'contentious': 1152, 'treat': 5511, 'complication': 1065, 'restriction': 4519, 'pan': 3819, 'surge': 5215, 'infant': 2705, 'compare': 1045, 'defy': 1390, 'package': 3802, 'prescription': 4117, 'johnson': 2901, 'texas': 5358, 'austin': 389, 'baby': 422, 'discourage': 1545, 'sail': 4648, 'dutch': 1670, 'boat': 592, 'outlaw': 3764, 'combination': 1009, 'approve': 283, 'historic': 2509, 'convene': 1170, 'negotiate': 3554, 'treaty': 5513, 'possession': 4066, 'forward': 2175, 'dismay': 1562, 'failure': 1996, 'honor': 2537, 'obligation': 3654, 'danger': 1324, 'catastrophic': 798, 'consequence': 1117, 'consideration': 1123, 'strategy': 5117, 'medical': 3316, 'un': 5581, 'mexico': 3360, 'pledge': 4013, 'assembly': 339, 'geneva': 2274, 'limit': 3118, 'hundred': 2580, 'badly': 432, 'nato': 3532, 'umbrella': 5580, 'india': 2688, 'pakistan': 3811, 'netherlands': 3571, 'nonetheless': 3608, 'approval': 282, 'overwhelmingly': 3791, 'successful': 5167, 'uphold': 5656, 'occasion': 3665, 'lucky': 3188, 'detailed': 1470, 'mechanism': 3313, 'sooner': 4971, 'physician': 3964, 'federation': 2046, 'prevention': 4135, 'nobel': 3600, 'prize': 4160, 'urgent': 5667, 'militant': 3377, 'deadly': 1346, 'massacre': 3280, 'concert': 1082, 'manchester': 3232, 'jihadist': 2892, 'plant': 3999, 'gathering': 2259, 'closed': 952, 'abu': 19, 'allah': 171, 'achievement': 49, 'brother': 684, 'swear': 5244, 'islam': 2841, 'reference': 4390, 'arab': 287, 'defeat': 1377, 'cross': 1272, 'bless': 576, 'lone': 3159, 'revenge': 4537, 'warm': 5787, 'declaration': 1365, 'pray': 4090, 'aware': 414, 'happiness': 2424, 'border': 613, 'murder': 3494, 'ali': 165, 'correspondent': 1205, 'humiliate': 2578, 'min': 3386, 'battleground': 486, 'florida': 2128, 'deplorables': 1432, 'fort': 2170, 'stanford': 5064, 'venue': 5706, 'palm': 3816, 'beach': 489, 'turnout': 5556, 'nowhere': 3631, 'near': 3543, 'tend': 5334, 'space': 4987, 'pack': 3801, 'speaks': 4998, 'volume': 5756, 'nobody': 3601, 'enthusiastic': 1814, 'excite': 1917, 'stadium': 5050, 'indicator': 2693, 'definitely': 1388, 'monday': 3437, 'roger': 4590, 'ailes': 143, 'punish': 4259, 'complain': 1056, 'sexual': 4789, 'harassment': 2428, 'suit': 5182, 'supreme': 5210, 'winter': 5875, 'breach': 644, 'defender': 1382, 'cult': 1288, 'steep': 5084, 'intimidation': 2805, 'litigation': 3137, 'carlson': 779, 'leverage': 3092, 'dispute': 1570, 'pretext': 4131, 'arbitration': 290, 'figure': 2074, 'reilly': 4419, 'retaliation': 4526, 'publicity': 4248, 'pant': 3823, 'leg': 3066, 'joke': 2904, 'habit': 2398, 'preference': 4105, 'encounter': 1779, 'hostility': 2556, 'relationship': 4429, 'merely': 3346, 'episode': 1832, 'sole': 4952, 'arrange': 309, 'breast': 651, 'shine': 4820, 'chain': 836, 'magazine': 3204, 'spokeswoman': 5031, 'depart': 1426, 'tea': 5301, 'den': 1420, 'display': 1568, 'statue': 5074, 'roosevelt': 4602, 'baseball': 468, 'chicago': 878, 'cub': 1285, 'wooden': 5895, 'pregnant': 4107, 'intimate': 2803, 'setting': 4777, 'usual': 5674, 'impose': 2654, 'out': 3759, 'marble': 3252, 'crystal': 1284, 'sensitive': 4754, 'carefully': 774, 'exercise': 1928, 'technician': 5311, 'snip': 4935, 'interesting': 2786, 'lean': 3054, 'gesture': 2287, 'laugh': 3032, 'easily': 1686, 'collapse': 987, 'es': 1850, 'wary': 5797, 'split': 5027, 'unpredictable': 5645, 'stanley': 5065, 'recommendation': 4376, 'problematic': 4165, 'pentagon': 3901, 'inability': 2663, 'haunt': 2445, 'rebel': 4359, 'initially': 2725, 'tenure': 5342, 'symbolic': 5262, 'concession': 1083, 'reset': 4493, 'robert': 4581, 'gate': 2257, 'pick': 3967, 'secure': 4733, 'korean': 2992, 'navy': 3539, 'fierce': 2069, 'gear': 2265, 'provocation': 4238, 'dispatch': 1566, 'aircraft': 147, 'carrier': 783, 'coastal': 970, 'pacific': 3800, 'commander': 1022, 'yellow': 5934, 'chinese': 885, 'lay': 3043, 'yield': 5941, 'gut': 2394, 'marvel': 3273, 'persuade': 3935, 'underway': 5609, 'drink': 1646, 'skepticism': 4893, 'intention': 2779, 'bruce': 687, 'initial': 2724, 'rhetoric': 4552, 'felt': 2056, 'maneuver': 3235, 'instinct': 2756, 'breed': 654, 'bone': 606, 'cold': 983, 'nature': 3535, 'ted': 5315, 'cruz': 1282, 'demonstrate': 1417, 'anywhere': 254, 'appetite': 267, 'abroad': 11, 'establishment': 1864, 'reagan': 4347, 'kennedy': 2953, 'solve': 4958, 'terrorism': 5350, 'simultaneously': 4875, 'medal': 3314, 'lifelong': 3109, 'vital': 5749, 'intervention': 2801, 'harm': 2433, 'properly': 4206, 'dark': 1330, 'hawk': 2447, 'biography': 557, 'aftermath': 123, 'dream': 1642, 'astronaut': 357, 'rejection': 4425, 'gender': 2266, 'discrimination': 1551, 'vietnam': 5729, 'wisconsin': 5878, 'escalate': 1851, 'southeast': 4980, 'asia': 326, 'curious': 1296, 'arkansas': 303, 'physical': 3962, 'condition': 1089, 'lunch': 3190, 'breakfast': 648, 'hampshire': 2414, 'substitute': 5160, 'yale': 5929, 'suddenly': 5173, 'uniform': 5625, 'motif': 3471, 'ann': 229, 'henry': 2482, 'female': 2057, 'faculty': 1992, 'boundary': 625, 'consistent': 1125, 'exposure': 1963, 'compound': 1069, 'transport': 5501, 'helicopter': 2472, 'naval': 3536, 'facility': 1986, 'deepen': 1374, 'notorious': 3627, 'sniper': 4936, 'flower': 2131, 'teenage': 5317, 'lasting': 3025, 'chelsea': 874, 'midst': 3370, 'town': 5462, 'delegation': 1396, 'drum': 1656, 'mountain': 3478, 'acre': 55, 'rural': 4629, 'jefferson': 2878, 'fulfill': 2227, 'shoe': 4826, 'coffee': 975, 'table': 5272, 'beer': 502, 'dialogue': 1496, 'stretch': 5124, 'taliban': 5283, 'qaeda': 4274, 'valley': 5687, 'dinner': 1516, 'preparation': 4113, 'bee': 501, 'nest': 3567, 'excuse': 1923, 'authorize': 397, 'crush': 1281, 'tradition': 5473, 'patrick': 3872, 'jacob': 2860, 'preserve': 4121, 'aspire': 331, 'dig': 1510, 'boot': 611, 'andrew': 218, 'shapiro': 4799, 'perry': 3923, 'carter': 787, 'fourth': 2184, 'marshall': 3269, 'net': 3568, 'nickname': 3591, 'chamber': 841, 'colonel': 998, 'thanksgiving': 5364, 'installation': 2751, 'jack': 2857, 'architect': 291, 'hair': 2403, 'retired': 4528, 'accent': 25, 'urgency': 5666, 'dynamic': 1674, 'contractor': 1159, 'tank': 5287, 'parade': 3828, 'shrink': 4843, 'freshman': 2211, 'command': 1021, 'distinguish': 1580, 'haiti': 2404, 'sympathy': 5264, 'sacrifice': 4640, 'smell': 4924, 'strength': 5121, 'fool': 2144, 'instant': 2753, 'irish': 2832, 'polish': 4034, 'flash': 2115, 'escort': 1854, 'generally': 2269, 'logic': 3155, 'brigade': 666, 'argue': 299, 'rip': 4570, 'presentation': 4120, 'convince': 1179, 'predict': 4100, 'patrol': 3875, 'sunni': 5194, 'militia': 3379, 'casualty': 795, 'candidacy': 751, 'shadow': 4792, 'formidable': 2168, 'rival': 4575, 'formal': 2162, 'retirement': 4529, 'robust': 4584, 'zone': 5952, 'settlement': 4779, 'compelling': 1049, 'library': 3102, 'critique': 1268, 'hardly': 2432, 'mirror': 3402, 'weaken': 5810, 'dramatically': 1640, 'realistic': 4350, 'cultivate': 1289, 'ambition': 197, 'mix': 3415, 'humble': 2577, 'setback': 4776, 'classify': 930, 'mosul': 3469, 'battlefield': 485, 'subsequent': 5154, 'equip': 1838, 'corp': 1198, 'edit': 1702, 'reservation': 4491, 'valid': 5686, 'stability': 5047, 'ghost': 2289, 'memoir': 3332, 'confess': 1092, 'iowa': 2825, 'caucus': 802, 'concede': 1076, 'meaning': 3306, 'escalation': 1852, 'commitment': 1031, 'map': 3249, 'impressive': 2658, 'accompany': 33, 'deployment': 1434, 'crop': 1271, 'typical': 5567, 'presidency': 4123, 'central': 825, 'pet': 3938, 'envoy': 1828, 'hesitate': 2489, 'weed': 5823, 'planning': 3998, 'era': 1843, 'operator': 3719, 'frustration': 2222, 'proper': 4205, 'dependent': 1430, 'ego': 1717, 'deliberation': 1401, 'frame': 2190, 'joe': 2898, 'biden': 546, 'devil': 1487, 'portrait': 4060, 'neglect': 3553, 'remark': 4446, 'align': 168, 'dirty': 1529, 'tom': 5436, 'momentum': 3436, 'kick': 2962, 'prevail': 4133, 'argument': 300, 'deadline': 1345, 'karl': 2945, 'writing': 5923, 'cable': 727, 'carry': 784, 'dominate': 1613, 'meant': 3308, 'persistent': 3927, 'violence': 5735, 'legacy': 3067, 'reverse': 4540, 'bare': 461, 'similarly': 4870, 'douglas': 1629, 'brand': 638, 'jake': 2862, 'sullivan': 5184, 'de': 1343, 'brooklyn': 683, 'confront': 1099, 'utterly': 5680, 'credibility': 1254, 'spike': 5020, 'remarkable': 4447, 'desert': 1451, 'skeptical': 4892, 'maintain': 3215, 'proclaim': 4171, 'rand': 4318, 'kentucky': 2955, 'versus': 5714, 'reluctant': 4442, 'warrior': 5795, 'thwart': 5404, 'bernie': 532, 'vermont': 5711, 'racially': 4299, 'diverse': 1591, 'pivot': 3988, 'balance': 438, 'prospective': 4219, 'heavily': 2466, 'childhood': 882, 'kurd': 2994, 'partial': 3843, 'mood': 3450, 'equally': 1836, 'decline': 1367, 'lethal': 3089, 'style': 5146, 'predecessor': 4099, 'americans': 203, 'lifetime': 3111, 'define': 1387, 'century': 827, 'hopefully': 2543, 'smith': 4926, 'certificate': 833, 'elected': 1730, 'suppress': 5206, 'float': 2124, 'appropriate': 280, 'stress': 5123, 'error': 1848, 'pas': 3856, 'diminish': 1514, 'okay': 3694, 'audience': 384, 'disagreement': 1533, 'summarize': 5186, 'ian': 2595, 'deteriorate': 1477, 'necessity': 3548, 'orientation': 3745, 'investment': 2817, 'israeli': 2849, 'bright': 667, 'food': 2143, 'approximately': 284, 'equity': 1840, 'founder': 2181, 'entertainment': 1812, 'cash': 791, 'august': 388, 'takeover': 5280, 'parallel': 3831, 'canal': 748, 'route': 4610, 'construct': 1136, 'steer': 5085, 'southern': 4981, 'corridor': 1206, 'depend': 1429, 'export': 1961, 'undoubtedly': 5612, 'entity': 1819, 'facilitate': 1985, 'serious': 4768, 'beijing': 510, 'rear': 4355, 'boost': 610, 'becomes': 498, 'rail': 4310, 'port': 4056, 'mediterranean': 3321, 'benjamin': 528, 'netanyahu': 3569, 'assist': 347, 'poise': 4027, 'continent': 1155, 'effectively': 1712, 'satisfy': 4672, 'regional': 4406, 'assumption': 354, 'playing': 4006, 'persian': 3925, 'qatar': 4275, 'jordan': 2908, 'inaugural': 2666, 'transportation': 5502, 'path': 3869, 'whereas': 5842, 'integrate': 2767, 'entry': 1823, 'economically': 1694, 'salman': 4654, 'sheikh': 4811, 'exclusively': 1922, 'outlook': 3767, 'celebration': 814, 'independence': 2685, 'turmoil': 5553, 'cope': 1192, 'scope': 4702, 'busy': 718, 'scale': 4681, 'undercut': 5599, 'bid': 545, 'capable': 758, 'exit': 1937, 'brexit': 657, 'proponent': 4210, 'arrangement': 310, 'substantially': 5159, 'spending': 5016, 'populist': 4054, 'farage': 2019, 'undermine': 5603, 'sharply': 4804, 'pound': 4079, 'lion': 3127, 'subsidy': 5156, 'farmer': 2023, 'immediate': 2630, 'frankly': 2198, 'matthew': 3291, 'equivalent': 1841, 'pour': 4080, 'telegraph': 5322, 'unity': 5631, 'divisive': 1597, 'somehow': 4962, 'mainly': 3213, 'anxiety': 247, 'flow': 2130, 'norway': 3618, 'brussels': 689, 'enhance': 1799, 'difficulty': 1509, 'huffington': 2570, 'journalism': 2914, 'unite': 5629, 'self': 4746, 'pit': 3985, 'loose': 3167, 'labour': 3004, 'legislator': 3075, 'proceed': 4167, 'tony': 5441, 'economics': 1695, 'tariff': 5291, 'shield': 4817, 'globalization': 2307, 'editor': 1704, 'sky': 4901, 'upend': 5654, 'technology': 5314, 'testing': 5357, 'software': 4948, 'collection': 990, 'pipe': 3981, 'plunge': 4017, 'cheap': 867, 'tool': 5442, 'grocery': 2371, 'store': 5107, 'robot': 4583, 'traditionally': 5475, 'illustrate': 2624, 'offset': 3687, 'iron': 2833, 'relief': 4437, 'patch': 3867, 'recovery': 4382, 'kitchen': 2980, 'nationally': 3529, 'peak': 3886, 'productive': 4176, 'energy': 1789, 'renewable': 4459, 'portfolio': 4057, 'pennsylvania': 3898, 'manufacturer': 3246, 'drill': 1645, 'engineer': 1795, 'upward': 5662, 'nine': 3597, 'aviation': 407, 'slow': 4917, 'adapt': 71, 'efficient': 1714, 'collect': 989, 'enable': 1777, 'design': 1453, 'repair': 4463, 'increasingly': 2680, 'muscle': 3499, 'pioneer': 3980, 'producer': 4173, 'slash': 4905, 'fast': 2027, 'pump': 4256, 'instal': 2749, 'truck': 5535, 'fracture': 2188, 'transform': 5490, 'few': 2065, 'accurately': 45, 'sweet': 5250, 'squeeze': 5045, 'artificial': 320, 'learning': 3057, 'analyze': 213, 'silicon': 4866, 'pattern': 3877, 'transformation': 5491, 'math': 3287, 'swiss': 5258, 'houston': 2563, 'assemble': 338, 'advanced': 94, 'digital': 1511, 'industrial': 2699, 'equipment': 1839, 'dennis': 1422, 'rewrite': 4549, 'fluid': 2133, 'instantly': 2754, 'maintenance': 3216, 'mouse': 3480, 'revolution': 4546, 'provider': 4234, 'invest': 2812, 'client': 942, 'added': 73, 'employ': 1770, 'spill': 5021, 'slice': 4910, 'strain': 5111, 'needle': 3551, 'tablet': 5273, 'calculation': 732, 'manufacture': 3245, 'minimize': 3391, 'complexity': 1061, 'duty': 1672, 'panel': 3821, 'vanish': 5691, 'seed': 4736, 'bag': 433, 'corn': 1196, 'commodity': 1033, 'telephone': 5323, 'agriculture': 137, 'pesticide': 3937, 'monsanto': 3444, 'storm': 5108, 'merger': 3348, 'trait': 5484, 'louis': 3178, 'merge': 3347, 'dow': 1630, 'combine': 1010, 'switzerland': 5260, 'capability': 757, 'guarantee': 2378, 'regulatory': 4416, 'anticipate': 244, 'hurdle': 2586, 'debt': 1355, 'pact': 3803, 'reuters': 4532, 'extensive': 1969, 'famous': 2012, 'modify': 3428, 'jim': 2894, 'indiana': 2690, 'optimistic': 3730, 'input': 2737, 'accelerate': 24, 'competitive': 1053, 'offering': 3682, 'hamilton': 2412, 'ranch': 4317, 'screening': 4711, 'cycle': 1308, 'exchange': 1916, 'shock': 4825, 'orthodox': 3752, 'patriotic': 3874, 'preliminary': 4109, 'text': 5359, 'extremism': 1978, 'score': 4703, 'demonstration': 1418, 'detain': 1471, 'derive': 1445, 'absolute': 15, 'legitimacy': 3077, 'triumph': 5528, 'notably': 3621, 'festival': 2063, 'kremlin': 2993, 'teacher': 5303, 'village': 5732, 'reading': 4345, 'sing': 4878, 'communism': 1038, 'bell': 516, 'worldwide': 5904, 'prepared': 4115, 'undercover': 5598, 'incite': 2672, 'dignity': 1512, 'trial': 5517, 'municipal': 3493, 'disregard': 1571, 'prosecution': 4216, 'erode': 1847, 'civic': 916, 'ruling': 4623, 'breaking': 649, 'administrative': 85, 'structure': 5136, 'sharp': 4803, 'horrify': 2549, 'deport': 1435, 'grandchild': 2343, 'fate': 2032, 'persecution': 3924, 'blood': 583, 'violent': 5736, 'peaceful': 3884, 'resistance': 4501, 'alexander': 164, 'mild': 3375, 'unique': 5627, 'cry': 1283, 'religion': 4439, 'exempt': 1927, 'jewish': 2890, 'crackdown': 1242, 'roman': 4594, 'excessive': 1915, 'drinking': 1647, 'smoking': 4928, 'suspicion': 5237, 'objective': 3653, 'breathe': 653, 'unprecedented': 5644, 'relax': 4432, 'elector': 1732, 'petition': 3940, 'ballot': 443, 'personally': 3932, 'flip': 2123, 'overcome': 3780, 'penny': 3899, 'successfully': 5168, 'descend': 1447, 'disrupt': 1572, 'hashtag': 2440, 'riot': 4569, 'actively': 61, 'contrary': 1162, 'spirit': 5024, 'advisor': 105, 'item': 2855, 'resolution': 4502, 'officially': 3686, 'recognize': 4374, 'palestinian': 3815, 'bind': 556, 'undo': 5610, 'hell': 2473, 'holiday': 2521, 'legislation': 3073, 'rush': 4630, 'christmas': 899, 'stab': 5046, 'calendar': 733, 'disastrous': 1539, 'memory': 3334, 'roar': 4578, 'metal': 3354, 'highway': 2498, 'ride': 4559, 'deck': 1364, 'william': 5864, 'screw': 4712, 'mandate': 3233, 'reminder': 4452, 'king': 2974, 'witch': 5882, 'bury': 712, 'halloween': 2409, 'luther': 3193, 'nail': 3515, 'catholic': 801, 'door': 1621, 'foster': 2177, 'disguise': 1556, 'loved': 3181, 'paint': 3807, 'brush': 688, 'bias': 543, 'cease': 810, 'dumb': 1665, 'jersey': 2885, 'veil': 5701, 'temple': 5329, 'bottom': 622, 'teaching': 5304, 'nick': 3590, 'unhappy': 5623, 'duck': 1662, 'status': 5075, 'swamp': 5242, 'fill': 2078, 'dip': 1518, 'obscure': 3655, 'judge': 2919, 'bench': 521, 'garland': 2253, 'rick': 4556, 'ensue': 1807, 'knife': 2983, 'uncertainty': 5590, 'certainty': 832, 'allen': 177, 'fulfil': 2226, 'prophecy': 4208, 'http': 2567, 'jerry': 2884, 'mob': 3418, 'stamp': 5058, 'resort': 4505, 'character': 852, 'acceptance': 28, 'flaw': 2118, 'pardon': 3832, 'crook': 1270, 'wood': 5894, 'heal': 2454, 'bombing': 603, 'pat': 3866, 'em': 1748, 'patriot': 3873, 'shout': 4839, 'correctness': 1204, 'decent': 1359, 'equality': 1835, 'inequality': 2701, 'property': 4207, 'pursuit': 4269, 'tyranny': 5569, 'socialism': 4943, 'shred': 4842, 'poverty': 4081, 'greed': 2359, 'bread': 645, 'overseas': 3784, 'successor': 5169, 'beast': 493, 'evil': 1898, 'manifest': 3237, 'pleasure': 4012, 'christ': 895, 'kingdom': 2975, 'heaven': 2465, 'shower': 4841, 'blessing': 577, 'butter': 719, 'thread': 5387, 'podesta': 4022, 'capture': 766, 'waste': 5800, 'ngo': 3587, 'footage': 2146, 'brutal': 690, 'wield': 5857, 'tremendous': 5515, 'etc': 1870, 'derail': 1444, 'consume': 1140, 'label': 3001, 'stevens': 5094, 'implement': 2645, 'cuba': 1286, 'defensive': 1384, 'passenger': 3859, 'car': 767, 'cruel': 1278, 'punishment': 4260, 'dish': 1558, 'financially': 2087, 'collective': 991, 'killer': 2969, 'steel': 5082, 'genuine': 2278, 'interim': 2790, 'info': 2714, 'merkel': 3350, 'hunt': 2584, 'turkey': 5551, 'erdogan': 1845, 'transcript': 5488, 'turkish': 5552, 'daesh': 1311, 'reasonable': 4357, 'kirby': 2976, 'funny': 2237, 'distinct': 1578, 'manner': 3241, 'fortunately': 2172, 'ford': 2150, 'bike': 549, 'tesla': 5353, 'shooting': 4829, 'firmly': 2101, 'hostage': 2554, 'sovereign': 4983, 'freeze': 2205, 'meter': 3355, 'neocon': 3562, 'jar': 2871, 'kushner': 2996, 'bet': 537, 'va': 5681, 'enlist': 1801, 'breakdown': 647, 'ridiculous': 4562, 'unrest': 5647, 'theft': 5366, 'professional': 4179, 'california': 734, 'ton': 5438, 'hysteria': 2594, 'purely': 4264, 'operational': 3717, 'discount': 1544, 'enforce': 1790, 'magnitude': 3208, 'hrc': 2566, 'electorate': 1734, 'steve': 5092, 'fringe': 2218, 'viral': 5737, 'anthem': 241, 'follower': 2141, 'ad': 69, 'globalism': 2304, 'nationalism': 3527, 'enrich': 1804, 'servant': 4770, 'blind': 578, 'surveillance': 5226, 'disappointed': 1536, 'surprising': 5221, 'nose': 3619, 'fuck': 2224, 'bus': 713, 'damascus': 1319, 'shiite': 4819, 'hezbollah': 2491, 'lebanon': 3061, 'raqqa': 4330, 'ongoing': 3705, 'assad': 332, 'understanding': 5606, 'speed': 5012, 'timeline': 5417, 'aggression': 130, 'awful': 418, 'freely': 2204, 'cake': 730, 'assassinate': 335, 'pave': 3880, 'il': 2615, 'dismiss': 1563, 'description': 1450, 'intervene': 2800, 'killing': 2970, 'realdonaldtrump': 4349, 'cripple': 1261, 'hypocrisy': 2592, 'handgun': 2418, 'ownership': 3795, 'awr': 420, 'hawkins': 2448, 'columnist': 1006, 'bullet': 701, 'podcast': 4021, 'awrhawkins': 421, 'com': 1007, 'guideline': 2385, 'allergy': 178, 'peanut': 3887, 'opposite': 3725, 'behavior': 508, 'egg': 1716, 'cow': 1238, 'milk': 3380, 'diet': 1503, 'rag': 4306, 'introduction': 2808, 'update': 5653, 'delay': 1394, 'formula': 2169, 'wider': 5855, 'range': 4320, 'logical': 3156, 'enrol': 1805, 'protein': 4225, 'meal': 3304, 'participant': 3845, 'extract': 1973, 'introduce': 2807, 'hypothesis': 2593, 'immune': 2636, 'differently': 1507, 'substance': 5157, 'infection': 2707, 'newly': 3579, 'scan': 4684, 'swallow': 5241, 'dad': 1310, 'bond': 605, 'emotional': 1763, 'rev': 4533, 'lloyd': 3141, 'clinical': 947, 'frequency': 2207, 'echo': 1692, 'skin': 4898, 'frequently': 2209, 'excellent': 1909, 'patient': 3871, 'limited': 3120, 'sweden': 5246, 'cancer': 750, 'hip': 2504, 'trigger': 5524, 'diabetes': 1493, 'hormone': 2545, 'perfectly': 3911, 'crucial': 1276, 'raw': 4338, 'organic': 3740, 'plain': 3992, 'fare': 2020, 'vitamin': 5750, 'nutrient': 3640, 'rice': 4553, 'sugar': 5178, 'healthy': 2458, 'mineral': 3390, 'acid': 50, 'tissue': 5424, 'beneficial': 524, 'convert': 1175, 'hemp': 2480, 'flavor': 2117, 'fallout': 2005, 'lochte': 3151, 'rio': 4568, 'brazilian': 643, 'swimmer': 5255, 'olympic': 3701, 'clothing': 958, 'retailer': 4523, 'device': 1486, 'donate': 1616, 'portion': 4058, 'charity': 857, 'kim': 2972, 'removal': 4454, 'endorsement': 1786, 'olympics': 3702, 'renew': 4458, 'careful': 773, 'jimmy': 2895, 'janeiro': 2866, 'bathroom': 480, 'confrontation': 1100, 'matt': 3289, 'commercial': 1027, 'sponsor': 5032, 'girlfriend': 2295, 'prince': 4147, 'steam': 5081, 'photographer': 3959, 'album': 159, 'sent': 4755, 'select': 4744, 'assistant': 349, 'bureaucrat': 709, 'invite': 2821, 'kansa': 2943, 'sweep': 5248, 'perez': 3909, 'confidential': 1095, 'complaint': 1057, 'alleged': 174, 'correction': 1202, 'quo': 4293, 'inappropriate': 2665, 'reign': 4418, 'liability': 3095, 'atop': 365, 'rating': 4336, 'engine': 1794, 'attribution': 381, 'implication': 2648, 'hub': 2568, 'intrigue': 2806, 'murdoch': 3496, 'viewer': 5731, 'outsider': 3775, 'christopher': 900, 'sean': 4719, 'hannity': 2422, 'van': 5690, 'clause': 933, 'megyn': 3325, 'kelly': 2950, 'hint': 2503, 'investigator': 2816, 'embolden': 1757, 'appearance': 266, 'frequent': 2208, 'newsroom': 3583, 'evening': 1886, 'pace': 3799, 'theme': 5367, 'skirt': 4900, 'trademark': 5470, 'gordon': 2325, 'vacuum': 5684, 'edition': 1703, 'weight': 5829, 'aim': 144, 'brutality': 691, 'catastrophe': 797, 'aleppo': 161, 'reiterate': 4423, 'related': 4427, 'ap': 255, 'не': 5978, 'все': 5960, 'только': 5992, 'по': 5984, 'уже': 5994, 'но': 5979, 'что': 5995, 'как': 5973, 'на': 5976, 'было': 5959, 'бы': 5958, 'же': 5968, 'из': 5970, 'за': 5969, 'если': 5966, 'или': 5971, 'так': 5988, 'года': 5962, 'он': 5980, 'того': 5991, 'от': 5982, 'samsung': 4659, 'smartphone': 4921, 'mobile': 3419, 'bulk': 699, 'button': 720, 'virtual': 5739, 'restore': 4516, 'confidence': 1093, 'replacement': 4468, 'altogether': 191, 'revenue': 4538, 'wash': 5798, 'injury': 2731, 'poland': 4029, 'eu': 1876, 'migrant': 3372, 'consent': 1116, 'organisation': 3741, 'exert': 1929, 'contest': 1153, 'hungary': 2581, 'shoulder': 4838, 'solidarity': 4955, 'method': 3356, 'islamist': 2843, 'bridge': 662, 'humanity': 2576, 'awaken': 412, 'yoga': 5942, 'meditation': 3320, 'spark': 4994, 'commonly': 1035, 'render': 4457, 'neutral': 3574, 'pain': 3805, 'reduction': 4387, 'wound': 5913, 'healing': 2455, 'calm': 738, 'awake': 411, 'dirt': 1528, 'psychological': 4243, 'activate': 59, 'dna': 1599, 'smoke': 4927, 'harmful': 2434, 'bacteria': 429, 'essential': 1860, 'wonderful': 5893, 'organ': 3739, 'lung': 3191, 'gift': 2291, 'profound': 4184, 'depression': 1439, 'decrease': 1368, 'physically': 3963, 'emotionally': 1764, 'incorporate': 2677, 'accomplish': 34, 'sample': 4658, 'essence': 1859, 'therapy': 5369, 'cheer': 871, 'balkan': 440, 'unarmed': 5585, 'brotherhood': 685, 'defence': 1379, 'mount': 3477, 'variety': 5693, 'geopolitical': 2281, 'integration': 2768, 'cooperation': 1187, 'obstacle': 3660, 'membership': 3329, 'milo': 3385, 'fifth': 2070, 'trunews': 5540, 'app': 260, 'credible': 1255, 'bigotry': 548, 'shell': 4813, 'traffic': 5476, 'jump': 2927, 'cambridge': 740, 'curb': 1294, 'twenty': 5559, 'driving': 1650, 'feedback': 2049, 'nate': 3524, 'shame': 4796, 'mourn': 3479, 'thrill': 5392, 'countless': 1224, 'despair': 1459, 'reclaim': 4372, 'demonize': 1416, 'additionally': 78, 'paradigm': 3829, 'contradict': 1160, 'evolution': 1900, 'empower': 1774, 'implant': 2644, 'copyright': 1194, 'permission': 3919, 'strictly': 5126, 'database': 1334, 'affiliate': 113, 'rent': 4460, 'newsletter': 3581, 'jihad': 2891, 'thinker': 5377, 'chapter': 851, 'dedicate': 1370, 'extension': 1968, 'imperialism': 2643, 'suffering': 5176, 'prophet': 4209, 'characterize': 854, 'secular': 4732, 'christianity': 897, 'premise': 4111, 'origin': 3746, 'muhammad': 3490, 'obviously': 3664, 'alive': 170, 'verse': 5712, 'enact': 1778, 'surprisingly': 5222, 'evaluate': 1882, 'mandatory': 3234, 'imagination': 2627, 'strict': 5125, 'divine': 1595, 'controversy': 1169, 'victor': 5725, 'demise': 1410, 'pro': 4161, 'arena': 296, 'offender': 3678, 'novel': 3629, 'comprehensive': 1070, 'arabic': 289, 'interestingly': 2787, 'depict': 1431, 'roof': 4600, 'whatsoever': 5839, 'creator': 1252, 'useful': 5670, 'miracle': 3400, 'precisely': 4097, 'bizarre': 567, 'desperately': 1461, 'audio': 385, 'tape': 5289, 'ashamed': 325, 'sabotage': 4636, 'proportion': 4211, 'toss': 5448, 'category': 800, 'arizona': 302, 'bed': 499, 'survey': 5227, 'nevada': 3575, 'michigan': 3365, 'super': 5195, 'shot': 4837, 'soar': 4939, 'steady': 5079, 'deficit': 1386, 'tally': 5286, 'hat': 2441, 'bite': 565, 'hungry': 2583, 'cheese': 872, 'sauce': 4674, 'bowl': 627, 'concept': 1079, 'lately': 3027, 'genuinely': 2279, 'remedy': 4449, 'obesity': 3649, 'salad': 4651, 'bay': 487, 'devote': 1490, 'lab': 3000, 'ought': 3756, 'discipline': 1541, 'relieve': 4438, 'shed': 4806, 'pilgrim': 3974, 'faster': 2028, 'awareness': 415, 'excess': 1914, 'oversee': 3785, 'cliff': 943, 'visitor': 5747, 'lecture': 3062, 'pronounce': 4200, 'spoke': 5028, 'await': 410, 'plenty': 4014, 'pile': 3972, 'plate': 4001, 'prayer': 4091, 'gratitude': 2352, 'contemplate': 1146, 'expression': 1965, 'pause': 3879, 'custom': 1304, 'barrier': 465, 'cream': 1247, 'chip': 886, 'chef': 873, 'somebody': 4961, 'ingredient': 2720, 'tragic': 5479, 'trick': 5523, 'percentage': 3907, 'borrow': 616, 'priority': 4153, 'adjustment': 82, 'substantial': 5158, 'aisle': 153, 'burden': 706, 'distort': 1581, 'holding': 2519, 'payment': 3882, 'bankruptcy': 455, 'forth': 2171, 'exploit': 1956, 'relocate': 4441, 'alan': 156, 'berkeley': 530, 'rely': 4443, 'favorable': 2036, 'incoming': 2676, 'loser': 3174, 'glance': 2299, 'apparent': 262, 'overhaul': 3781, 'adjust': 81, 'trillion': 5525, 'jared': 2872, 'disruption': 1573, 'component': 1067, 'passion': 3861, 'shall': 4794, 'storage': 5106, 'royal': 4614, 'swedish': 5247, 'motor': 3476, 'electric': 1735, 'wheel': 5840, 'fan': 2014, 'strand': 5112, 'donna': 1618, 'nelson': 3561, 'function': 2231, 'compose': 1068, 'bend': 522, 'thin': 5374, 'complicated': 1064, 'ferry': 2062, 'cell': 816, 'envision': 1827, 'application': 272, 'stockholm': 5102, 'announcement': 234, 'external': 1971, 'ph': 3943, 'knight': 2984, 'queen': 4283, 'boeing': 595, 'safely': 4646, 'fiction': 2067, 'profitable': 4183, 'japanese': 2870, 'greek': 2360, 'physic': 3961, 'toxin': 5464, 'coming': 1020, 'memorial': 3333, 'literature': 3136, 'nytimes': 3644, 'evacuate': 1880, 'anna': 230, 'revise': 4542, 'quake': 4276, 'smash': 4922, 'davis': 1339, 'precise': 4096, 'boy': 629, 'beloved': 518, 'coal': 967, 'railroad': 4311, 'stranger': 5114, 'convey': 1176, 'vulnerable': 5766, 'hero': 2487, 'adventure': 96, 'sophisticated': 4972, 'australian': 391, 'sue': 5174, 'mental': 3337, 'arrival': 313, 'sheet': 4810, 'bedroom': 500, 'toll': 5435, 'wreck': 5917, 'transparent': 5500, 'rough': 4606, 'chill': 883, 'caution': 804, 'running': 4627, 'protective': 4223, 'stronghold': 5134, 'building': 698, 'liberate': 3098, 'jury': 2935, 'bundy': 705, 'conspire': 1128, 'prevent': 4134, 'fry': 2223, 'kenneth': 2954, 'morgan': 3459, 'stunning': 5144, 'lisa': 3130, 'neil': 3559, 'verdict': 5707, 'sanctuary': 4662, 'defendant': 1381, 'separately': 4760, 'nod': 3602, 'smile': 4925, 'rub': 4616, 'hug': 2571, 'kiss': 2978, 'gray': 2355, 'shirt': 4823, 'indictment': 2695, 'standoff': 5063, 'yell': 5933, 'courtroom': 1233, 'pleased': 4011, 'vega': 5698, 'fist': 2107, 'cox': 1240, 'prosecute': 4215, 'bolster': 599, 'juror': 2934, 'billy': 554, 'williams': 5865, 'sheriff': 4815, 'ward': 5783, 'peer': 3891, 'rare': 4331, 'proceeding': 4168, 'ram': 4315, 'horn': 2546, 'deliberate': 1399, 'indict': 2694, 'plea': 4008, 'eve': 1884, 'selection': 4745, 'stream': 5118, 'cooper': 1185, 'plug': 4016, 'ha': 2397, 'execute': 1924, 'nixon': 3599, 'watergate': 5804, 'swing': 5257, 'judicial': 2921, 'assess': 342, 'mall': 3226, 'scalia': 4682, 'ronald': 4599, 'nomination': 3605, 'kellyanne': 2951, 'conway': 1181, 'overlook': 3782, 'rebuild': 4361, 'descent': 1448, 'suppression': 5207, 'champion': 842, 'incredible': 2681, 'dust': 1669, 'agricultural': 136, 'heat': 2463, 'cooking': 1183, 'household': 2561, 'thumb': 5400, 'legendary': 3072, 'mold': 3433, 'bottle': 621, 'container': 1145, 'cool': 1184, 'fiber': 2066, 'soft': 4947, 'sufficient': 5177, 'soda': 4946, 'punch': 4257, 'expel': 1942, 'pot': 4073, 'insert': 2740, 'dry': 1658, 'ball': 441, 'survival': 5228, 'afraid': 120, 'inevitable': 2702, 'sudden': 5172, 'disproportionately': 1569, 'delight': 1404, 'rape': 4325, 'treason': 5508, 'devastate': 1482, 'flock': 2125, 'tim': 5415, 'kaine': 2942, 'sexist': 4788, 'friendly': 2215, 'box': 628, 'orlando': 3750, 'shooter': 4828, 'allegiance': 176, 'parenthood': 3834, 'melt': 3327, 'airline': 148, 'kasich': 2946, 'evacuation': 1881, 'dunham': 1667, 'delegate': 1395, 'colorado': 1002, 'basement': 469, 'susan': 5232, 'memo': 3331, 'accusation': 46, 'firearm': 2096, 'horror': 2550, 'shoot': 4827, 'mohammed': 3432, 'cartoon': 788, 'overwhelming': 3790, 'appropriation': 281, 'quit': 4291, 'missouri': 3409, 'electricity': 1736, 'mission': 3407, 'squad': 5043, 'humor': 2579, 'chart': 863, 'teen': 5316, 'depress': 1438, 'virginia': 5738, 'regain': 4401, 'impress': 2656, 'pope': 4049, 'planned': 3997, 'capitalism': 761, 'kerry': 2958, 'tourism': 5455, 'deductible': 1371, 'quantum': 4279, 'particle': 3848, 'pool': 4045, 'founding': 2182, 'apologize': 258, 'cowboy': 1239, 'diplomacy': 1519, 'inhabitant': 2721, 'slave': 4907, 'stall': 5057, 'prompt': 4199, 'enterprise': 1810, 'convenience': 1171, 'cuban': 1287, 'hack': 2399, 'making': 3222, 'ferguson': 2061, 'rename': 4456, 'shopper': 4831, 'nurse': 3637, 'wo': 5889, 'clock': 950, 'panic': 3822, 'crony': 1269, 'snow': 4937, 'nominate': 3604, 'foil': 2137, 'nfl': 3586, 'weekly': 5827, 'wag': 5769, 'fatally': 2031, 'ironic': 2834, 'instagram': 2748, 'kid': 2963, 'wildly': 5863, 'jay': 2874, 'carney': 780, 'warming': 5788, 'as': 323, 'skill': 4896, 'glove': 2311, 'cancel': 749, 'netflix': 3570, 'weakness': 5811, 'lgbt': 3094, 'ethnic': 1874, 'defiance': 1385, 'unfair': 5618, 'feminist': 2059, 'homeless': 2528, 'clown': 960, 'hispanic': 2507, 'proceeds': 4169, 'survivor': 5230, 'nancy': 3519, 'pelosi': 3892, 'drift': 1644, 'rubber': 4617, 'schumer': 4698, 'implementation': 2646, 'janet': 2867, 'elderly': 1728, 'mary': 3274, 'irs': 2838, 'insult': 2763, 'spam': 4989, 'nigeria': 3593, 'collins': 994, 'cemetery': 819, 'bomber': 602, 'lawn': 3039, 'marathon': 3251, 'vatican': 5697, 'bureaucracy': 708, 'michelle': 3364, 'calorie': 739, 'easter': 1688, 'mexican': 3359, 'banana': 447, 'escape': 1853, 'nutrition': 3641, 'assailant': 333, 'oppression': 3727, 'dance': 1322, 'bloomberg': 586, 'own': 3793, 'standing': 5062, 'thoughtful': 5385, 'meat': 3312, 'ceiling': 812, 'obstruction': 3661, 'statistic': 5073, 'inherit': 2723, 'greece': 2358, 'gradually': 2338, 'santa': 4667, 'nice': 3588, 'pig': 3971, 'shelf': 4812, 'leading': 3049, 'imam': 2629, 'mosque': 3466, 'egyptian': 1719, 'lake': 3008, 'tolerance': 5433, 'gore': 2326, 'moore': 3454, 'tout': 5458, 'expensive': 1944, 'outdated': 3762, 'framework': 2191, 'regulate': 4413, 'charm': 862, 'luck': 3187, 'regret': 4410, 'reward': 4548, 'recognition': 4373, 'continued': 1157, 'hamas': 2411, 'evolve': 1901, 'instruction': 2761, 'hook': 2539, 'hay': 2449, 'historian': 2508, 'cure': 1295, 'factory': 1991, 'conservation': 1118, 'tunnel': 5549, 'firefighter': 2097, 'phrase': 3960, 'harsh': 2437, 'jean': 2876, 'protocol': 4228, 'jacket': 2858, 'orleans': 3751, 'cocktail': 973, 'palace': 3813, 'mansion': 3242, 'garden': 2252, 'wine': 5872, 'damn': 1320, 'entitlement': 1818, 'extended': 1967, 'mentor': 3341, 'elevate': 1740, 'appreciate': 277, 'documentary': 1605, 'profession': 4178, 'mom': 3434, 'obsession': 3659, 'alongside': 185, 'terrible': 5346, 'till': 5412, 'surgeon': 5216, 'sibling': 4848, 'influential': 2712, 'inspiration': 2746, 'usher': 5673, 'bitter': 566, 'tragedy': 5478, 'auction': 383, 'alex': 163, 'louisiana': 3179, 'divorce': 1598, 'walker': 5774, 'entertain': 1811, 'recipe': 4369, 'barely': 462, 'summit': 5189, 'malaysia': 3223, 'alienate': 167, 'spotlight': 5035, 'dissident': 1575, 'sweeping': 5249, 'ross': 4604, 'communist': 1039, 'refrain': 4396, 'abruptly': 12, 'unleash': 5637, 'longstanding': 3162, 'embassy': 1754, 'harbor': 2429, 'fleet': 2120, 'grave': 2353, 'antonio': 246, 'reconciliation': 4377, 'height': 2470, 'favorite': 2037, 'myanmar': 3508, 'predominantly': 4103, 'northern': 3616, 'forecast': 2151, 'democrats': 1414, 'incumbent': 2683, 'polling': 4042, 'broadly': 675, 'barbara': 460, 'harris': 2435, 'maryland': 3275, 'maine': 3212, 'ron': 4598, 'kirk': 2977, 'illinois': 2621, 'blunt': 589, 'marco': 3255, 'rubio': 4619, 'coat': 971, 'pickup': 3968, 'tide': 5407, 'retake': 4525, 'uncertain': 5589, 'disgrace': 1555, 'realm': 4354, 'reside': 4494, 'whoever': 5850, 'reed': 4388, 'suspend': 5235, 'circuit': 908, 'precedent': 4093, 'workplace': 5901, 'administrator': 86, 'underscore': 5604, 'linger': 3124, 'privately': 4158, 'doom': 1620, 'faction': 1988, 'moral': 3455, 'dire': 1522, 'humanitarian': 2575, 'undertake': 5608, 'convoy': 1180, 'isil': 2840, 'graham': 2340, 'oligarch': 3697, 'string': 5129, 'displace': 1567, 'phenomenon': 3948, 'spectacular': 5007, 'runner': 4626, 'dive': 1590, 'miller': 3383, 'coverage': 1236, 'swimming': 5256, 'suburb': 5162, 'flare': 2114, 'fatal': 2030, 'tired': 5423, 'occasionally': 3667, 'philadelphia': 3950, 'columbia': 1003, 'alter': 188, 'equation': 1837, 'ammunition': 205, 'hacker': 2400, 'furniture': 2239, 'snap': 4933, 'band': 448, 'gawker': 2260, 'judgment': 2920, 'android': 219, 'iphone': 2826, 'backing': 427, 'sherman': 4816, 'indigenous': 2696, 'bloom': 585, 'weekday': 5825, 'advertisement': 99, 'colin': 984, 'kaepernick': 2941, 'anniversary': 232, 'homeland': 2527, 'immigrant': 2633, 'gang': 2249, 'directive': 1525, 'convict': 1177, 'offense': 3679, 'minor': 3397, 'deportation': 1436, 'postpone': 4072, 'translate': 5495, 'facto': 1989, 'stein': 5086, 'asylum': 358, 'detainee': 1472, 'detention': 1475, 'seeker': 4738, 'undocumented': 5611, 'transit': 5493, 'lee': 3063, 'smuggler': 4931, 'trafficking': 5477, 'underground': 5601, 'fearful': 2041, 'navigate': 3537, 'admission': 89, 'jurisdiction': 2933, 'latino': 3030, 'discriminate': 1550, 'bow': 626, 'contend': 1149, 'fragile': 2189, 'miner': 3389, 'citizenship': 914, 'prefer': 4104, 'applicant': 271, 'bribe': 659, 'cartel': 786, 'tyler': 5565, 'tribute': 5522, 'grief': 2366, 'ed': 1699, 'comedian': 1014, 'stephen': 5089, 'denver': 1424, 'terminal': 5344, 'square': 5044, 'modest': 3426, 'swell': 5251, 'unfairly': 5619, 'mad': 3199, 'chorus': 893, 'applaud': 268, 'lock': 3152, 'wander': 5779, 'crack': 1241, 'powder': 4082, 'improvement': 2661, 'microphone': 3366, 'applause': 269, 'entrance': 1820, 'cap': 756, 'silent': 4865, 'ticket': 5406, 'registration': 4409, 'passage': 3858, 'mohamed': 3430, 'born': 615, 'indian': 2689, 'dubious': 1661, 'unbelievable': 5588, 'birthday': 562, 'ear': 1677, 'subtle': 5161, 'song': 4969, 'welcome': 5832, 'poetry': 4025, 'listener': 3133, 'dealing': 1349, 'tennessee': 5337, 'serial': 4766, 'exciting': 1919, 'tense': 5339, 'slot': 4916, 'julian': 2924, 'tomorrow': 5437, 'subscription': 5153, 'awkward': 419, 'hbo': 2450, 'grapple': 2348, 'amy': 210, 'preview': 4136, 'anne': 231, 'broadway': 676, 'anymore': 250, 'essay': 1858, 'suck': 5170, 'helpful': 2478, 'howard': 2564, 'loud': 3177, 'pizza': 3989, 'performer': 3914, 'insane': 2739, 'angela': 222, 'writes': 5922, 'bold': 598, 'phoenix': 3954, 'maximum': 3294, 'accuracy': 43, 'rapidly': 4327, 'recession': 4368, 'housing': 2562, 'wolf': 5890, 'treasury': 5510, 'inflation': 2709, 'greg': 2364, 'trader': 5471, 'maduro': 3202, 'legislature': 3076, 'dictatorship': 1500, 'charter': 864, 'coup': 1227, 'contempt': 1148, 'denounce': 1423, 'kidnap': 2964, 'visible': 5744, 'venezuelan': 5704, 'popularity': 4051, 'stag': 5053, 'spanish': 4991, 'passport': 3863, 'carlos': 778, 'grievance': 2367, 'propel': 4204, 'overturn': 3788, 'unconstitutional': 5594, 'emergency': 1760, 'strip': 5130, 'crude': 1277, 'scare': 4687, 'absurd': 18, 'republish': 4481, 'charitable': 856, 'backlash': 428, 'precious': 4095, 'slavery': 4908, 'govern': 2330, 'silly': 4867, 'feminism': 2058, 'systemic': 5270, 'voluntary': 5757, 'thrive': 5393, 'anxious': 248, 'siriusxm': 4884, 'marlow': 3265, 'boom': 609, 'innovation': 2736, 'rome': 4596, 'guantánamo': 2377, 'vary': 5695, 'josh': 2911, 'refers': 4392, 'tribune': 5521, 'nevertheless': 3577, 'tribunal': 5520, 'ahmad': 139, 'bin': 555, 'yemen': 5935, 'laden': 3006, 'deem': 1372, 'visual': 5748, 'symbol': 5261, 'concentration': 1078, 'vibration': 5721, 'representation': 4475, 'spiral': 5023, 'necessarily': 3546, 'interaction': 2782, 'expansion': 1939, 'separation': 4761, 'th': 5360, 'consult': 1138, 'governor': 2334, 'ceo': 828, 'failed': 1995, 'respondent': 4509, 'kyle': 2998, 'juan': 2918, 'bronx': 680, 'hatch': 2442, 'quick': 4287, 'persist': 3926, 'outstanding': 3777, 'torture': 5447, 'visa': 5743, 'slip': 4914, 'routinely': 4612, 'compliance': 1062, 'justification': 2937, 'willingness': 5867, 'baltimore': 445, 'assure': 356, 'plaintiff': 3993, 'administer': 83, 'collectively': 992, 'cautious': 805, 'consumer': 1141, 'contribution': 1165, 'bargain': 463, 'identical': 2603, 'connecticut': 1108, 'nearby': 3544, 'menu': 3342, 'landmark': 3012, 'franklin': 2197, 'employer': 1772, 'assign': 345, 'emission': 1761, 'utility': 5677, 'hybrid': 2591, 'dealer': 1348, 'sustainable': 5240, 'greenhouse': 2362, 'buyer': 722, 'di': 1492, 'clarify': 922, 'haley': 2406, 'environmental': 1825, 'entrepreneur': 1822, 'beautiful': 495, 'disclosure': 1543, 'chest': 877, 'advertising': 101, 'feud': 2064, 'fortune': 2173, 'hick': 2492, 'pac': 3798, 'endanger': 1782, 'casino': 792, 'craft': 1243, 'bash': 470, 'opening': 3711, 'nasty': 3523, 'jam': 2863, 'disgust': 1557, 'ethic': 1871, 'honestly': 2534, 'collusion': 995, 'proudly': 4230, 'ordinary': 3737, 'joel': 2899, 'pollak': 4041, 'liken': 3117, 'dapl': 1328, 'potus': 4078, 'ceremony': 829, 'protector': 4224, 'sheeple': 4808, 'temporarily': 5330, 'evangelical': 1883, 'ultimate': 5577, 'irony': 2836, 'attach': 367, 'exhibit': 1931, 'restoration': 4515, 'motion': 3472, 'yemeni': 5936, 'tournament': 5457, 'legislative': 3074, 'prejudice': 4108, 'alabama': 155, 'warner': 5790, 'espn': 1857, 'disney': 1564, 'exceed': 1908, 'brady': 634, 'dylan': 1673, 'walter': 5778, 'remarkably': 4448, 'expire': 1950, 'sixth': 4890, 'met': 3353, 'landscape': 3013, 'soul': 4976, 'goodbye': 2322, 'chair': 837, 'loyalty': 3186, 'wherever': 5843, 'skip': 4899, 'assignment': 346, 'flat': 2116, 'circulate': 909, 'snapchat': 4934, 'caption': 765, 'lesley': 3085, 'peña': 3942, 'nieto': 3592, 'lover': 3182, 'throne': 5395, 'crown': 1275, 'uber': 5570, 'justin': 2939, 'immense': 2632, 'bleed': 575, 'airbnb': 146, 'stem': 5087, 'spectacle': 5006, 'miranda': 3401, 'kerr': 2957, 'khan': 2961, 'goldman': 2318, 'sachs': 4637, 'batch': 478, 'wikileaks': 5859, 'caller': 737, 'georgetown': 2283, 'appointee': 275, 'watchdog': 5802, 'lynch': 3195, 'notable': 3620, 'marc': 3253, 'supportive': 5203, 'bean': 491, 'recount': 4380, 'inaccurate': 2664, 'financier': 2088, 'recruit': 4383, 'lobbying': 3146, 'immunity': 2637, 'cooperate': 1186, 'kevin': 2959, 'accommodate': 32, 'comply': 1066, 'baker': 437, 'buzz': 723, 'format': 2164, 'mississippi': 3408, 'basketball': 476, 'underlying': 5602, 'dominance': 1611, 'associated': 351, 'magic': 3205, 'eagle': 1676, 'heritage': 2485, 'geographic': 2280, 'poet': 4024, 'clarke': 925, 'specie': 5002, 'coin': 979, 'exclude': 1920, 'provincial': 4236, 'contender': 1150, 'reception': 4367, 'beyoncé': 540, 'rapper': 4329, 'emotion': 1762, 'ritual': 4574, 'fabric': 1982, 'grandmother': 2345, 'lemon': 3079, 'preach': 4092, 'puerto': 4253, 'scream': 4709, 'photograph': 3958, 'costume': 1212, 'drought': 1653, 'strive': 5131, 'piano': 3965, 'guitar': 2388, 'medicare': 3317, 'mulvaney': 3492, 'cohn': 978, 'bannon': 457, 'fold': 2138, 'accomplishment': 35, 'emanuel': 1750, 'infrastructure': 2719, 'operating': 3715, 'harder': 2431, 'conscious': 1112, 'reversal': 4539, 'counselor': 1219, 'apprentice': 278, 'accountable': 40, 'cheryl': 876, 'mill': 3381, 'archive': 293, 'huma': 2573, 'abedin': 5, 'gentleman': 2277, 'privilege': 4159, 'variation': 5692, 'wipe': 5876, 'ideology': 2608, 'meme': 3330, 'fame': 2009, 'capitalist': 762, 'boss': 618, 'seattle': 4723, 'stack': 5049, 'resonate': 4504, 'inherent': 2722, 'hong': 2536, 'kong': 2990, 'taiwan': 5278, 'scramble': 4706, 'intimidate': 2804, 'sovereignty': 4984, 'vessel': 5715, 'provocative': 4239, 'xi': 5926, 'jinping': 2896, 'liberation': 3099, 'safeguard': 4645, 'cluster': 963, 'seizure': 4743, 'morality': 3457, 'bombshell': 604, 'rt': 4615, 'whistleblower': 5848, 'assange': 334, 'pilger': 3973, 'evoke': 1899, 'rigged': 4565, 'significance': 4861, 'morocco': 3461, 'rogue': 4591, 'smooth': 4929, 'perceive': 3905, 'gaddafi': 2243, 'libyan': 3104, 'tick': 5405, 'africa': 121, 'explicitly': 1954, 'trash': 5504, 'educate': 1706, 'brave': 640, 'publishing': 4252, 'isolation': 2847, 'sunlight': 5193, 'deprive': 1440, 'obey': 3650, 'formally': 2163, 'imprison': 2659, 'bang': 449, 'jonathan': 2906, 'radiation': 4303, 'greet': 2363, 'ambulance': 199, 'invisible': 2819, 'tennis': 5338, 'seal': 4718, 'noise': 3603, 'panama': 3820, 'bonus': 607, 'devise': 1488, 'crossing': 1273, 'vegetable': 5699, 'pakistani': 3812, 'omar': 3703, 'orange': 3732, 'commerce': 1026, 'wallace': 5776, 'scott': 4705, 'jennifer': 2880, 'interference': 2789, 'partly': 3852, 'adult': 92, 'normally': 3613, 'residence': 4495, 'scroll': 4714, 'infamous': 2704, 'calculate': 731, 'garner': 2254, 'marketing': 3263, 'definition': 1389, 'sheer': 4809, 'consumption': 1142, 'microsoft': 3367, 'ivanka': 2856, 'spectrum': 5008, 'thrust': 5398, 'married': 3267, 'naked': 3516, 'tehran': 5320, 'bilateral': 550, 'zionist': 5951, 'mohammad': 3431, 'cheat': 868, 'tilt': 5414, 'leaked': 3053, 'montana': 3446, 'sharia': 4802, 'pepper': 3903, 'brad': 633, 'veto': 5718, 'poison': 4028, 'informed': 2717, 'cannon': 755, 'sake': 4650, 'fracking': 2186, 'known': 2988, 'beneath': 523, 'illness': 2622, 'comfort': 1017, 'bronze': 681, 'lucrative': 3189, 'athletic': 360, 'landing': 3011, 'pedestrian': 3889, 'disappointment': 1537, 'competitor': 1054, 'beam': 490, 'aerial': 109, 'espionage': 1856, 'slap': 4904, 'foreigner': 2153, 'confusion': 1102, 'martha': 3270, 'prey': 4139, 'abraham': 10, 'influx': 2713, 'dramatic': 1639, 'commissioner': 1029, 'rust': 4634, 'linkedin': 3126, 'delicious': 1403, 'hindu': 2502, 'modi': 3427, 'laptop': 3018, 'surrogate': 5224, 'uprising': 5659, 'kurdish': 2995, 'cement': 818, 'nusra': 3638, 'dominant': 1612, 'der': 1443, 'isolate': 2845, 'depth': 1441, 'chronicle': 902, 'eligible': 1741, 'wilder': 5861, 'pundit': 4258, 'tourist': 5456, 'tel': 5321, 'aviv': 408, 'graphic': 2347, 'wounded': 5914, 'spokesperson': 5030, 'newt': 3584, 'gingrich': 2293, 'hail': 2402, 'duke': 1664, 'annually': 236, 'spray': 5037, 'jew': 2889, 'supremacist': 5208, 'painful': 3806, 'intentionally': 2780, 'participation': 3847, 'requirement': 4485, 'reveals': 4535, 'spouse': 5036, 'bully': 702, 'horrific': 2548, 'originate': 3749, 'simon': 4871, 'friendship': 2216, 'fault': 2034, 'jane': 2865, 'um': 5579, 'taylor': 5297, 'yiannopoulos': 5940, 'rebuke': 4362, 'embed': 1755, 'fantasy': 2017, 'coincide': 980, 'cafe': 728, 'rabbi': 4295, 'lo': 3142, 'rental': 4461, 'virtue': 5741, 'delta': 1407, 'downtown': 1632, 'preside': 4122, 'metro': 3357, 'jill': 2893, 'patron': 3876, 'spencer': 5014, 'output': 3769, 'monetary': 3438, 'striking': 5128, 'prediction': 4102, 'productivity': 4177, 'unesco': 5616, 'holy': 2525, 'constitute': 1133, 'makeup': 3221, 'automatic': 401, 'condemn': 1087, 'unacceptable': 5584, 'explicit': 1953, 'objection': 3652, 'outreach': 3772, 'dictate': 1498, 'betray': 538, 'bipartisan': 559, 'outrageous': 3771, 'manufacturing': 3247, 'distribute': 1585, 'fraction': 2187, 'spicer': 5019, 'lesbian': 3084, 'execution': 1925, 'heather': 2464, 'madonna': 3201, 'robinson': 4582, 'earthquake': 1684, 'chicken': 879, 'laboratory': 3003, 'haitian': 2405, 'colonial': 999, 'minimum': 3392, 'aggressively': 132, 'unemployed': 5614, 'solely': 4953, 'advertise': 98, 'donation': 1617, 'shelter': 4814, 'rubble': 4618, 'poorly': 4047, 'occupy': 3669, 'suite': 5183, 'classroom': 932, 'sweat': 5245, 'penn': 3897, 'sidewalk': 4854, 'soil': 4949, 'governmental': 2333, 'elementary': 1739, 'span': 4990, 'resentment': 4490, 'endeavor': 1783, 'christie': 898, 'cuomo': 1292, 'ethical': 1872, 'nonsense': 3610, 'trophy': 5531, 'statewide': 5071, 'monument': 3449, 'hunger': 2582, 'operative': 3718, 'herb': 2484, 'buffalo': 695, 'broken': 678, 'painting': 3809, 'tube': 5544, 'transaction': 5487, 'battalion': 482, 'permanently': 3918, 'ballistic': 442, 'centre': 826, 'mattis': 3292, 'charleston': 859, 'delicate': 1402, 'arise': 301, 'seller': 4748, 'imminent': 2635, 'classic': 928, 'decisive': 1363, 'told': 5432, 'tokyo': 5431, 'automaker': 400, 'baton': 481, 'rarely': 4332, 'auto': 399, 'practically': 4087, 'bankrupt': 454, 'curtain': 1302, 'whip': 5845, 'void': 5754, 'onstage': 3708, 'vague': 5685, 'lyric': 3196, 'bat': 477, 'dot': 1625, 'satan': 4670, 'flame': 2113, 'forgive': 2158, 'ireland': 2831, 'solo': 4956, 'knee': 2982, 'jose': 2909, 'mask': 3276, 'mercury': 3343, 'resemble': 4489, 'supremacy': 5209, 'genocide': 2276, 'condemnation': 1088, 'accessible': 30, 'psychologist': 4244, 'diagnose': 1494, 'anderson': 217, 'steele': 5083, 'lewis': 3093, 'inmate': 2733, 'genius': 2275, 'upside': 5661, 'zoo': 5953, 'conscience': 1111, 'uncomfortable': 5593, 'slight': 4912, 'larry': 3021, 'absence': 13, 'opt': 3728, 'stomach': 5103, 'ok': 3693, 'vacation': 5682, 'disabled': 1531, 'cousin': 1234, 'brag': 635, 'compassion': 1047, 'pedophile': 3890, 'epstein': 1833, 'deception': 1360, 'dishonest': 1559, 'bangladesh': 450, 'sphere': 5018, 'ranger': 4321, 'pharmaceutical': 3945, 'rein': 4420, 'mate': 3284, 'turner': 5555, 'globally': 2308, 'tpp': 5466, 'censorship': 821, 'imperative': 2641, 'nafta': 3514, 'naturally': 3534, 'eighth': 1721, 'secondary': 4725, 'bath': 479, 'cairo': 729, 'ruler': 4622, 'aboard': 8, 'pistol': 3984, 'siege': 4856, 'exile': 1933, 'carve': 789, 'oxygen': 3796, 'schmidt': 4694, 'grace': 2336, 'translation': 5496, 'seventh': 4782, 'hello': 2474, 'boyfriend': 631, 'rebellion': 4360, 'ray': 4339, 'literary': 3135, 'fisher': 2105, 'basket': 475, 'fossil': 2176, 'remains': 4445, 'remote': 4453, 'interpretation': 2797, 'sergey': 4765, 'backdrop': 424, 'tighten': 5411, 'artillery': 321, 'bore': 614, 'oct': 3672, 'afp': 119, 'unnecessary': 5642, 'costly': 1211, 'subsequently': 5155, 'clinic': 946, 'battery': 483, 'tire': 5422, 'potent': 4075, 'practical': 4086, 'injured': 2730, 'prohibition': 4191, 'revive': 4544, 'ta': 5271, 'surprised': 5220, 'golf': 2319, 'unnamed': 5641, 'install': 2750, 'horse': 2551, 'discharge': 1540, 'acceptable': 27, 'illegals': 2619, 'taxi': 5295, 'runway': 4628, 'phil': 3949, 'beside': 534, 'salt': 4655, 'landslide': 3014, 'resume': 4521, 'oakland': 3645, 'stark': 5067, 'impunity': 2662, 'alcohol': 160, 'certify': 834, 'reflection': 4394, 'puzzle': 4273, 'thereby': 5370, 'midnight': 3369, 'characteristic': 853, 'coordinator': 1190, 'experienced': 1946, 'guidance': 2383, 'din': 1515, 'interpret': 2796, 'dislike': 1560, 'whisper': 5846, 'rapist': 4328, 'existential': 1936, 'shrug': 4844, 'barry': 466, 'bennett': 529, 'pink': 3979, 'clarity': 923, 'scrap': 4707, 'hockey': 2516, 'beg': 503, 'rex': 4550, 'quarterback': 4281, 'suspension': 5236, 'scotland': 4704, 'damaging': 1318, 'cholesterol': 891, 'olive': 3699, 'juice': 2923, 'grain': 2341, 'rational': 4337, 'comprise': 1071, 'gaza': 2262, 'relentless': 4434, 'settler': 4780, 'kilometer': 2971, 'pollster': 4043, 'inevitably': 2703, 'worse': 5907, 'berlin': 531, 'ich': 2598, 'ein': 1722, 'yorker': 5944, 'traitor': 5485, 'constant': 1129, 'sow': 4986, 'shatter': 4805, 'sandy': 4666, 'intercept': 2783, 'swiftly': 5253, 'rifle': 4563, 'ski': 4895, 'intensify': 2776, 'badge': 431, 'lip': 3128, 'unlawful': 5636, 'drunk': 1657, 'irrelevant': 2837, 'everyday': 1892, 'felony': 2055, 'philip': 3951, 'julie': 2925, 'shit': 4824, 'parker': 3837, 'atrocity': 366, 'im': 2625, 'fighting': 2073, 'thug': 5399, 'conceal': 1075, 'doctrine': 1603, 'californian': 735, 'terrify': 5347, 'thompson': 5381, 'loot': 3168, 'lincoln': 3121, 'gunman': 2392, 'iceland': 2597, 'plausible': 4003, 'brock': 677, 'length': 3081, 'exhaust': 1930, 'guilt': 2386, 'vulnerability': 5765, 'cotton': 1213, 'yard': 5930, 'giuliani': 2296, 'nunes': 3636, 'dean': 1350, 'temper': 5327, 'closet': 955, 'koch': 2989, 'sideline': 4853, 'lawful': 3037, 'counterterrorism': 1223, 'wrongdoing': 5925, 'mitch': 3412, 'revival': 4543, 'architecture': 292, 'castro': 794, 'comeback': 1013, 'breakthrough': 650, 'gunshot': 2393, 'summary': 5187, 'smear': 4923, 'heel': 2469, 'conservatism': 1119, 'vicious': 5723, 'persona': 3929, 'millennials': 3382, 'oligarchy': 3698, 'troubled': 5533, 'homeowner': 2529, 'matrix': 3288, 'terry': 5352, 'smuggle': 4930, 'holder': 2518, 'brandon': 639, 'hopeful': 2542, 'colombian': 997, 'collaborate': 985, 'dos': 1623, 'blanket': 571, 'foul': 2178, 'predator': 4098, 'grandfather': 2344, 'dismantle': 1561, 'destabilize': 1463, 'promising': 4196, 'wrestle': 5918, 'logo': 3157, 'karen': 2944, 'toronto': 5446, 'playoff': 4007, 'identification': 2604, 'murray': 3498, 'gorsuch': 2328, 'confirmation': 1097, 'predictable': 4101, 'gamble': 2247, 'legalize': 3069, 'marijuana': 3259, 'cannabis': 754, 'sympathetic': 5263, 'oath': 3646, 'paperwork': 3825, 'technically': 5310, 'carl': 777, 'traveler': 5507, 'dawn': 1340, 'arthur': 317, 'cat': 796, 'globalists': 2306, 'theresa': 5372, 'invoke': 2822, 'presumptive': 4129, 'supervisor': 5197, 'institutional': 2759, 'del': 1392, 'misconduct': 3403, 'belgium': 512, 'tillerson': 5413, 'spite': 5026, 'powell': 4083, 'poem': 4023, 'tayyip': 5298, 'imply': 2649, 'goat': 2314, 'ankara': 228, 'chancellor': 845, 'clearance': 936, 'reprint': 4477, 'risky': 4573, 'inflict': 2710, 'kenya': 2956, 'ken': 2952, 'ethiopia': 1873, 'insurgent': 2766, 'afterward': 125, 'pulse': 4255, 'nightclub': 3595, 'mateen': 3285, 'surgery': 5217, 'insurer': 2765, 'trauma': 5505, 'disability': 1530, 'generous': 2272, 'circulation': 910, 'impeach': 2639, 'expertise': 1949, 'sochi': 4941, 'reassure': 4358, 'beneficiary': 525, 'то': 5990, 'до': 5964, 'сша': 5987, 'этом': 5998, 'том': 5993, 'это': 5997, 'также': 5989, 'более': 5956, 'мы': 5975, 'для': 5963, 'есть': 5967, 'его': 5965, 'которые': 5974, 'будет': 5957, 'han': 2415, 'falcon': 2002, 'dear': 1351, 'shortage': 4835, 'ya': 5927, 'más': 3512, 'se': 4716, 'que': 4282, 'su': 5147, 'una': 5582, 'te': 5300, 'pero': 3921, 'por': 4055, 'sudan': 5171, 'sus': 5231, 'chaotic': 850, 'prop': 4202, 'frank': 2196, 'examiner': 1906, 'satellite': 4671, 'covert': 1237, 'southwest': 4982, 'filmmaker': 2080, 'radar': 4302, 'symptom': 5265, 'greatly': 2357, 'northeast': 3615, 'ninth': 3598, 'orchestrate': 3735, 'stahl': 5055, 'steadily': 5078, 'optimism': 3729, 'laughter': 3033, 'gene': 2267, 'distress': 1584, 'conquer': 1110, 'friedman': 2213, 'homicide': 2531, 'skyrocket': 4902, 'worsen': 5908, 'technological': 5313, 'specify': 5005, 'debris': 1354, 'backer': 425, 'chronic': 901, 'carpet': 782, 'mnuchin': 3417, 'par': 3826, 'pew': 3941, 'sterling': 5091, 'hood': 2538, 'bloody': 584, 'mcconnell': 3302, 'filibuster': 2076, 'priest': 4143, 'da': 1309, 'er': 1842, 'nicht': 3589, 'sich': 4850, 'und': 5596, 'zu': 5954, 'editorial': 1705, 'sexually': 4790, 'saint': 4649, 'populism': 4053, 'fishing': 2106, 'domain': 1609, 'feinstein': 2052, 'baldwin': 439, 'discredit': 1549, 'interfere': 2788, 'tendency': 5335, 'mode': 3422, 'grid': 2365, 'las': 3022, 'como': 1042, 'entre': 1821, 'este': 1866, 'gallery': 2246, 'exhibition': 1932, 'laura': 3035, 'contemporary': 1147, 'cruise': 1279, 'bug': 696, 'charlotte': 861, 'occasional': 3666, 'congratulate': 1103, 'locker': 3153, 'shy': 4846, 'choke': 890, 'dope': 1622, 'les': 3083, 'cellphone': 817, 'rampant': 4316, 'incarceration': 2668, 'romantic': 4595, 'monopoly': 3443, 'interact': 2781, 'ellison': 1745, 'libertarian': 3100, 'uc': 5571, 'grim': 2369, 'grade': 2337, 'reckless': 4371, 'fitness': 2109, 'museum': 3500, 'exceptional': 1912, 'rockefeller': 4586, 'heroin': 2488, 'malcolm': 3224, 'mcauliffe': 3298, 'mccabe': 3299, 'mook': 3451, 'effectiveness': 1713, 'sputnik': 5041, 'upgrade': 5655, 'mentality': 3338, 'comparable': 1044, 'spare': 4993, 'rocky': 4588, 'apps': 285, 'fraudulent': 2200, 'fallon': 2004, 'baltic': 444, 'armored': 306, 'warhead': 5786, 'ceasefire': 811, 'brook': 682, 'syndrome': 5266, 'genetic': 2273, 'tobacco': 5426, 'flourish': 2129, 'watson': 5805, 'kate': 2947, 'wet': 5837, 'darkness': 1331, 'comic': 1019, 'metropolitan': 3358, 'subway': 5164, 'rider': 4560, 'commute': 1041, 'crumble': 1280, 'fin': 2082, 'fascism': 2024, 'bail': 435, 'rouge': 4605, 'diagnosis': 1495, 'candy': 753, 'cnbc': 964, 'pillar': 3976, 'zuckerberg': 5955, 'trans': 5486, 'sur': 5211, 'morale': 3456, 'opera': 3713, 'si': 4847, 'para': 3827, 'banner': 456, 'nerve': 3565, 'forbid': 2148, 'haram': 2426, 'compel': 1048, 'clerk': 939, 'weaver': 5817, 'detective': 1474, 'precinct': 4094, 'blasio': 572, 'intensity': 2777, 'behave': 507, 'suburban': 5163, 'musical': 3502, 'rachel': 4297, 'orchestra': 3734, 'stumble': 5142, 'unwilling': 5651, 'admire': 88, 'alaska': 158, 'max': 3293, 'neoliberal': 3564, 'distribution': 1586, 'abbott': 2, 'interior': 2791, 'reince': 4421, 'priebus': 4142, 'enrollment': 1806, 'madison': 3200, 'frighten': 2217, 'forgiveness': 2159, 'thailand': 5361, 'volkswagen': 5755, 'dhs': 1491, 'outspoken': 3776, 'passionate': 3862, 'junk': 2931, 'firing': 2099, 'msm': 3487, 'worthy': 5911, 'idiot': 2609, 'useless': 5671, 'mi': 3361, 'imperial': 2642, 'ignorance': 2610, 'troubling': 5534, 'designation': 1455, 'adequate': 80, 'reynolds': 4551, 'craig': 1244, 'mercy': 3344, 'epic': 1830, 'inclusion': 2674, 'sandwich': 4665, 'dam': 1316, 'toy': 5465, 'chocolate': 887, 'forgotten': 2160, 'onion': 3706, 'perpetrator': 3922, 'colony': 1000, 'coulter': 1216, 'indonesia': 2698, 'ancestor': 214, 'domination': 1614, 'gdp': 2264, 'admiral': 87, 'kuznetsov': 2997, 'turk': 5550, 'doug': 1628, 'lash': 3023, 'environmentalist': 1826, 'brick': 660, 'scatter': 4689, 'gunfire': 2391, 'sergeant': 4764, 'parking': 3838, 'menace': 3336, 'pollution': 4044, 'painter': 3808, 'emperor': 1766, 'очень': 5983, 'hawaii': 2446, 'injustice': 2732, 'murderer': 3495, 'liquid': 3129, 'furthermore': 2240, 'tuition': 5546, 'cleric': 938, 'purge': 4265, 'sacramento': 4638, 'subpoena': 5151, 'gilbert': 2292, 'vaccine': 5683, 'curry': 1300, 'proposition': 4214, 'glimpse': 2302, 'eddie': 1700, 'warehouse': 5784, 'globalist': 2305, 'epidemic': 1831, 'opioid': 3721, 'cocaine': 972, 'patience': 3870, 'infowars': 2718, 'istanbul': 2852, 'falluja': 2006, 'authentic': 393, 'flint': 2122, 'census': 822, 'differ': 1504, 'colbert': 982, 'moonlight': 3453, 'affected': 112, 'brics': 661, 'helmet': 2476, 'musk': 3504, 'curse': 1301, 'unidentified': 5624, 'clark': 924, 'kissinger': 2979, 'suspected': 5234, 'booth': 612, 'limitation': 3119, 'tiger': 5409, 'abe': 4, 'streep': 5119, 'walsh': 5777, 'flu': 2132, 'contradiction': 1161, 'thunder': 5401, 'harvest': 2439, 'devos': 1489, 'voucher': 5763, 'morris': 3462, 'wilson': 5868, 'autonomous': 403, 'tenant': 5333, 'residential': 4497, 'shipping': 4822, 'hence': 2481, 'accounting': 41, 'margaret': 3256, 'amnesty': 206, 'triple': 5527, 'firework': 2098, 'dose': 1624, 'magical': 3206, 'cigarette': 906, 'statute': 5076, 'adversary': 97, 'при': 5985, 'чтобы': 5996, 'россии': 5986, 'morton': 3464, 'griffin': 2368, 'vendor': 5702, 'jazz': 2875, 'epa': 1829, 'delaware': 1393, 'في': 5999, 'gym': 2396, 'durst': 1668, 'attraction': 378, 'mit': 3411, 'brace': 632, 'skilled': 4897, 'austria': 392, 'bharara': 542, 'warplane': 5792, 'veritas': 5710, 'creamer': 1248, 'brazile': 642, 'embargo': 1751, 'transmission': 5497, 'их': 5972, 'rico': 4557, 'teammate': 5306, 'phelps': 3947, 'bake': 436, 'addiction': 75, 'prescribe': 4116, 'savage': 4676, 'pirate': 3983, 'wrestling': 5919, 'santiago': 4668, 'kidney': 2966, 'navigation': 3538, 'grass': 2350, 'whistle': 5847, 'nypd': 3643, 'seoul': 4758, 'choi': 888, 'du': 1659, 'secrecy': 4726, 'oliver': 3700, 'holocaust': 2524, 'delhi': 1398, 'yahoo': 5928, 'они': 5981, 'transmit': 5498, 'pearl': 3888, 'internationally': 2794, 'des': 1446, 'rodriguez': 4589, 'wang': 5780, 'hemisphere': 2479, 'franchise': 2193, 'trudeau': 5536, 'joshua': 2912, 'beverage': 539, 'fda': 2039, 'autism': 398, 'intel': 2770, 'parole': 3841, 'cardinal': 770, 'neoconservative': 3563, 'bolton': 600, 'exxon': 1980, 'neural': 3573, 'peninsula': 3896, 'bump': 703, 'pa': 3797, 'cargo': 775, 'programming': 4187, 'exploitation': 1957, 'rousseff': 4609, 'gorka': 2327, 'pittsburgh': 3987, 'kidnapping': 2965, 'audit': 386, 'cdc': 808, 'mosquito': 3467, 'maher': 3209, 'pruitt': 4242, 'ash': 324, 'dans': 1327, 'ce': 809, 'une': 5613, 'au': 382, 'russell': 4631, 'loophole': 3166, 'partially': 3844, 'hernandez': 2486, 'antibiotic': 243, 'cosby': 1209, 'lopez': 3169, 'ist': 2851, 'auf': 387, 'das': 1332, 'für': 2242, 'boko': 597, 'uranium': 5663, 'teneo': 5336, 'mp': 3485, 'patent': 3868, 'eine': 1723, 'вы': 5961, 'rahami': 4308, 'berry': 533, 'sie': 4855, 'нас': 5977, 'neanderthal': 3542, 'touchdown': 5452, 'antidoping': 245, 'wada': 5767, 'tb': 5299, 'redstone': 4385, 'oesterlund': 3676}\n"
     ]
    }
   ],
   "source": [
    "print(Tfidf_vector.vocabulary_)"
   ]
  },
  {
   "cell_type": "code",
   "execution_count": 15,
   "metadata": {
    "id": "FoDWrDF9A3RX"
   },
   "outputs": [
    {
     "name": "stdout",
     "output_type": "stream",
     "text": [
      "Naive Bayes Accuracy Score ->  87.11538461538461\n"
     ]
    }
   ],
   "source": [
    "nb = naive_bayes.MultinomialNB()\n",
    "nb.fit(Train_Corpus_WO_Label_Tfidf,Train_Label)\n",
    "# Validation dataset used for predicting labels\n",
    "predictions_NB = nb.predict(Validation_Corpus_WO_Label_Tfidf)\n",
    "print(\"Naive Bayes Accuracy Score -> \",accuracy_score(predictions_NB, Validation_Label)*100)"
   ]
  },
  {
   "cell_type": "code",
   "execution_count": 47,
   "metadata": {},
   "outputs": [
    {
     "name": "stdout",
     "output_type": "stream",
     "text": [
      "linear scale 1.0 2 SVM F1 Score ->  93.30432680686489\n",
      "linear scale 2.0 2 SVM F1 Score ->  93.08510638297872\n",
      "linear scale 3.0 2 SVM F1 Score ->  92.95910960561336\n",
      "linear scale 4.0 2 SVM F1 Score ->  92.51569290197973\n",
      "linear scale 5.0 2 SVM F1 Score ->  92.37063778580024\n",
      "linear auto 1.0 2 SVM F1 Score ->  93.30432680686489\n",
      "linear auto 2.0 2 SVM F1 Score ->  93.08510638297872\n",
      "linear auto 3.0 2 SVM F1 Score ->  92.95910960561336\n",
      "linear auto 4.0 2 SVM F1 Score ->  92.51569290197973\n",
      "linear auto 5.0 2 SVM F1 Score ->  92.37063778580024\n",
      "poly scale 1.0 2 SVM F1 Score ->  92.98329355608591\n",
      "poly scale 2.0 2 SVM F1 Score ->  93.13959028108623\n",
      "poly scale 3.0 2 SVM F1 Score ->  93.04533586517921\n",
      "poly scale 4.0 2 SVM F1 Score ->  93.01775147928993\n",
      "poly scale 5.0 2 SVM F1 Score ->  92.89256198347108\n",
      "poly scale 1.0 3 SVM F1 Score ->  90.87885985748217\n",
      "poly scale 2.0 3 SVM F1 Score ->  91.11111111111111\n",
      "poly scale 3.0 3 SVM F1 Score ->  90.97320169252468\n",
      "poly scale 4.0 3 SVM F1 Score ->  91.00702576112411\n",
      "poly scale 5.0 3 SVM F1 Score ->  90.87098276665114\n",
      "poly scale 1.0 4 SVM F1 Score ->  89.00963200790319\n",
      "poly scale 2.0 4 SVM F1 Score ->  89.24496236950716\n",
      "poly scale 3.0 4 SVM F1 Score ->  89.77735216662677\n",
      "poly scale 4.0 4 SVM F1 Score ->  89.24958833215715\n",
      "poly scale 5.0 4 SVM F1 Score ->  88.84758364312269\n",
      "poly scale 1.0 5 SVM F1 Score ->  70.74707470747073\n",
      "poly scale 2.0 5 SVM F1 Score ->  74.2890307603018\n",
      "poly scale 3.0 5 SVM F1 Score ->  77.84297289745739\n",
      "poly scale 4.0 5 SVM F1 Score ->  85.46301086394206\n",
      "poly scale 5.0 5 SVM F1 Score ->  88.07738814993952\n",
      "poly auto 1.0 2 SVM F1 Score ->  66.66666666666666\n",
      "poly auto 2.0 2 SVM F1 Score ->  66.66666666666666\n",
      "poly auto 3.0 2 SVM F1 Score ->  66.66666666666666\n",
      "poly auto 4.0 2 SVM F1 Score ->  66.66666666666666\n",
      "poly auto 5.0 2 SVM F1 Score ->  66.66666666666666\n",
      "poly auto 1.0 3 SVM F1 Score ->  66.66666666666666\n",
      "poly auto 2.0 3 SVM F1 Score ->  66.66666666666666\n",
      "poly auto 3.0 3 SVM F1 Score ->  66.66666666666666\n",
      "poly auto 4.0 3 SVM F1 Score ->  66.66666666666666\n",
      "poly auto 5.0 3 SVM F1 Score ->  66.66666666666666\n",
      "poly auto 1.0 4 SVM F1 Score ->  66.66666666666666\n",
      "poly auto 2.0 4 SVM F1 Score ->  66.66666666666666\n",
      "poly auto 3.0 4 SVM F1 Score ->  66.66666666666666\n",
      "poly auto 4.0 4 SVM F1 Score ->  66.66666666666666\n",
      "poly auto 5.0 4 SVM F1 Score ->  66.66666666666666\n",
      "poly auto 1.0 5 SVM F1 Score ->  66.66666666666666\n",
      "poly auto 2.0 5 SVM F1 Score ->  66.66666666666666\n",
      "poly auto 3.0 5 SVM F1 Score ->  66.66666666666666\n",
      "poly auto 4.0 5 SVM F1 Score ->  66.66666666666666\n",
      "poly auto 5.0 5 SVM F1 Score ->  66.66666666666666\n",
      "rbf scale 1.0 2 SVM F1 Score ->  93.5366739288308\n",
      "rbf scale 2.0 2 SVM F1 Score ->  94.01255432158378\n",
      "rbf scale 3.0 2 SVM F1 Score ->  94.12048192771084\n",
      "rbf scale 4.0 2 SVM F1 Score ->  94.06657018813313\n",
      "rbf scale 5.0 2 SVM F1 Score ->  94.12048192771084\n",
      "rbf auto 1.0 2 SVM F1 Score ->  66.66666666666666\n",
      "rbf auto 2.0 2 SVM F1 Score ->  66.66666666666666\n",
      "rbf auto 3.0 2 SVM F1 Score ->  66.66666666666666\n",
      "rbf auto 4.0 2 SVM F1 Score ->  66.66666666666666\n",
      "rbf auto 5.0 2 SVM F1 Score ->  66.66666666666666\n",
      "sigmoid scale 1.0 2 SVM F1 Score ->  93.0717054263566\n",
      "sigmoid scale 2.0 2 SVM F1 Score ->  92.97610427226648\n",
      "sigmoid scale 3.0 2 SVM F1 Score ->  92.3076923076923\n",
      "sigmoid scale 4.0 2 SVM F1 Score ->  91.77384130065519\n",
      "sigmoid scale 5.0 2 SVM F1 Score ->  91.80804653417354\n",
      "sigmoid auto 1.0 2 SVM F1 Score ->  66.66666666666666\n",
      "sigmoid auto 2.0 2 SVM F1 Score ->  66.66666666666666\n",
      "sigmoid auto 3.0 2 SVM F1 Score ->  66.66666666666666\n",
      "sigmoid auto 4.0 2 SVM F1 Score ->  66.66666666666666\n",
      "sigmoid auto 5.0 2 SVM F1 Score ->  66.66666666666666\n"
     ]
    }
   ],
   "source": [
    "SVM_Kernels = ['linear', 'poly', 'rbf', 'sigmoid']\n",
    "SVM_Gammas = ['scale','auto']\n",
    "SVM_C = [1.0,2.0,3.0,4.0,5.0]\n",
    "SVM_Degrees = [2,3,4,5]\n",
    "SVM_Prediction = np.empty((0,8))\n",
    "for svm_kernel in SVM_Kernels:\n",
    "    for svm_gamma in SVM_Gammas:\n",
    "        for svm_degree in SVM_Degrees:\n",
    "            for svm_c in SVM_C:\n",
    "                if svm_kernel != 'poly' and svm_degree != 2:\n",
    "                    continue\n",
    "                SVM = svm.SVC(C=svm_c, kernel=svm_kernel, gamma=svm_gamma,degree=svm_degree)\n",
    "                SVM.fit(Train_Corpus_WO_Label_Tfidf,Train_Label)\n",
    "                predictions_SVM = SVM.predict(Validation_Corpus_WO_Label_Tfidf)\n",
    "                print(svm_kernel , svm_gamma , svm_c, svm_degree,\"SVM F1 Score -> \",f1_score(Validation_Label,predictions_SVM)*100)\n",
    "                SVM_Prediction = np.append(SVM_Prediction, np.array([[svm_kernel, svm_gamma, svm_c, svm_degree,accuracy_score(Validation_Label,predictions_SVM)*100,precision_score(Validation_Label, predictions_SVM)*100,recall_score(Validation_Label, predictions_SVM)*100,f1_score(Validation_Label,predictions_SVM)*100]]), axis=0)\n",
    "\n"
   ]
  },
  {
   "cell_type": "code",
   "execution_count": 44,
   "metadata": {},
   "outputs": [
    {
     "name": "stdout",
     "output_type": "stream",
     "text": [
      "[LibLinear]liblinear l1 1.0 250 Logistic Regression F1 Score ->  92.48916706788638\n",
      "[LibLinear]liblinear l1 1.0 500 Logistic Regression F1 Score ->  92.48916706788638\n",
      "[LibLinear]liblinear l1 1.0 1000 Logistic Regression F1 Score ->  92.48916706788638\n",
      "[LibLinear]liblinear l1 1.0 1500 Logistic Regression F1 Score ->  92.48916706788638\n",
      "[LibLinear]liblinear l1 1.0 2500 Logistic Regression F1 Score ->  92.48916706788638\n",
      "[LibLinear]liblinear l1 2.0 250 Logistic Regression F1 Score ->  93.56078808265256\n",
      "[LibLinear]liblinear l1 2.0 500 Logistic Regression F1 Score ->  93.56078808265256\n",
      "[LibLinear]liblinear l1 2.0 1000 Logistic Regression F1 Score ->  93.56078808265256\n",
      "[LibLinear]liblinear l1 2.0 1500 Logistic Regression F1 Score ->  93.56078808265256\n",
      "[LibLinear]liblinear l1 2.0 2500 Logistic Regression F1 Score ->  93.56078808265256\n",
      "[LibLinear]liblinear l1 3.0 250 Logistic Regression F1 Score ->  93.46781940441883\n",
      "[LibLinear]liblinear l1 3.0 500 Logistic Regression F1 Score ->  93.46781940441883\n",
      "[LibLinear]liblinear l1 3.0 1000 Logistic Regression F1 Score ->  93.46781940441883\n",
      "[LibLinear]liblinear l1 3.0 1500 Logistic Regression F1 Score ->  93.46781940441883\n",
      "[LibLinear]liblinear l1 3.0 2500 Logistic Regression F1 Score ->  93.46781940441883\n",
      "[LibLinear]liblinear l1 4.0 250 Logistic Regression F1 Score ->  93.41346153846153\n",
      "[LibLinear]liblinear l1 4.0 500 Logistic Regression F1 Score ->  93.41346153846153\n",
      "[LibLinear]liblinear l1 4.0 1000 Logistic Regression F1 Score ->  93.41346153846153\n",
      "[LibLinear]liblinear l1 4.0 1500 Logistic Regression F1 Score ->  93.41346153846153\n",
      "[LibLinear]liblinear l1 4.0 2500 Logistic Regression F1 Score ->  93.41346153846153\n",
      "[LibLinear]liblinear l1 5.0 250 Logistic Regression F1 Score ->  93.52898725042098\n",
      "[LibLinear]liblinear l1 5.0 500 Logistic Regression F1 Score ->  93.52898725042098\n",
      "[LibLinear]liblinear l1 5.0 1000 Logistic Regression F1 Score ->  93.52898725042098\n",
      "[LibLinear]liblinear l1 5.0 1500 Logistic Regression F1 Score ->  93.52898725042098\n",
      "[LibLinear]liblinear l1 5.0 2500 Logistic Regression F1 Score ->  93.52898725042098\n",
      "[LibLinear]liblinear l2 1.0 250 Logistic Regression F1 Score ->  92.61583011583011\n",
      "[LibLinear]liblinear l2 1.0 500 Logistic Regression F1 Score ->  92.61583011583011\n",
      "[LibLinear]liblinear l2 1.0 1000 Logistic Regression F1 Score ->  92.61583011583011\n",
      "[LibLinear]liblinear l2 1.0 1500 Logistic Regression F1 Score ->  92.61583011583011\n",
      "[LibLinear]liblinear l2 1.0 2500 Logistic Regression F1 Score ->  92.61583011583011\n",
      "[LibLinear]liblinear l2 2.0 250 Logistic Regression F1 Score ->  93.04683727667793\n",
      "[LibLinear]liblinear l2 2.0 500 Logistic Regression F1 Score ->  93.04683727667793\n",
      "[LibLinear]liblinear l2 2.0 1000 Logistic Regression F1 Score ->  93.04683727667793\n",
      "[LibLinear]liblinear l2 2.0 1500 Logistic Regression F1 Score ->  93.04683727667793\n",
      "[LibLinear]liblinear l2 2.0 2500 Logistic Regression F1 Score ->  93.04683727667793\n",
      "[LibLinear]liblinear l2 3.0 250 Logistic Regression F1 Score ->  93.14340898116852\n",
      "[LibLinear]liblinear l2 3.0 500 Logistic Regression F1 Score ->  93.14340898116852\n",
      "[LibLinear]liblinear l2 3.0 1000 Logistic Regression F1 Score ->  93.14340898116852\n",
      "[LibLinear]liblinear l2 3.0 1500 Logistic Regression F1 Score ->  93.14340898116852\n",
      "[LibLinear]liblinear l2 3.0 2500 Logistic Regression F1 Score ->  93.14340898116852\n",
      "[LibLinear]liblinear l2 4.0 250 Logistic Regression F1 Score ->  93.21747525947383\n",
      "[LibLinear]liblinear l2 4.0 500 Logistic Regression F1 Score ->  93.21747525947383\n",
      "[LibLinear]liblinear l2 4.0 1000 Logistic Regression F1 Score ->  93.21747525947383\n",
      "[LibLinear]liblinear l2 4.0 1500 Logistic Regression F1 Score ->  93.21747525947383\n",
      "[LibLinear]liblinear l2 4.0 2500 Logistic Regression F1 Score ->  93.21747525947383\n",
      "[LibLinear]liblinear l2 5.0 250 Logistic Regression F1 Score ->  93.18511358144032\n",
      "[LibLinear]liblinear l2 5.0 500 Logistic Regression F1 Score ->  93.18511358144032\n",
      "[LibLinear]liblinear l2 5.0 1000 Logistic Regression F1 Score ->  93.18511358144032\n",
      "[LibLinear]liblinear l2 5.0 1500 Logistic Regression F1 Score ->  93.18511358144032\n",
      "[LibLinear]liblinear l2 5.0 2500 Logistic Regression F1 Score ->  93.18511358144032\n"
     ]
    },
    {
     "name": "stderr",
     "output_type": "stream",
     "text": [
      "[Parallel(n_jobs=1)]: Using backend SequentialBackend with 1 concurrent workers.\n"
     ]
    },
    {
     "name": "stdout",
     "output_type": "stream",
     "text": [
      "convergence after 98 epochs took 4 seconds\n",
      "saga l1 1.0 250 Logistic Regression F1 Score ->  92.48916706788638\n"
     ]
    },
    {
     "name": "stderr",
     "output_type": "stream",
     "text": [
      "[Parallel(n_jobs=1)]: Done   1 out of   1 | elapsed:    3.8s finished\n",
      "[Parallel(n_jobs=1)]: Using backend SequentialBackend with 1 concurrent workers.\n"
     ]
    },
    {
     "name": "stdout",
     "output_type": "stream",
     "text": [
      "convergence after 98 epochs took 4 seconds\n",
      "saga l1 1.0 500 Logistic Regression F1 Score ->  92.48916706788638\n"
     ]
    },
    {
     "name": "stderr",
     "output_type": "stream",
     "text": [
      "[Parallel(n_jobs=1)]: Done   1 out of   1 | elapsed:    3.9s finished\n",
      "[Parallel(n_jobs=1)]: Using backend SequentialBackend with 1 concurrent workers.\n"
     ]
    },
    {
     "name": "stdout",
     "output_type": "stream",
     "text": [
      "convergence after 98 epochs took 4 seconds\n",
      "saga l1 1.0 1000 Logistic Regression F1 Score ->  92.48916706788638\n"
     ]
    },
    {
     "name": "stderr",
     "output_type": "stream",
     "text": [
      "[Parallel(n_jobs=1)]: Done   1 out of   1 | elapsed:    3.8s finished\n",
      "[Parallel(n_jobs=1)]: Using backend SequentialBackend with 1 concurrent workers.\n"
     ]
    },
    {
     "name": "stdout",
     "output_type": "stream",
     "text": [
      "convergence after 98 epochs took 3 seconds\n",
      "saga l1 1.0 1500 Logistic Regression F1 Score ->  92.48916706788638\n"
     ]
    },
    {
     "name": "stderr",
     "output_type": "stream",
     "text": [
      "[Parallel(n_jobs=1)]: Done   1 out of   1 | elapsed:    3.8s finished\n",
      "[Parallel(n_jobs=1)]: Using backend SequentialBackend with 1 concurrent workers.\n"
     ]
    },
    {
     "name": "stdout",
     "output_type": "stream",
     "text": [
      "convergence after 98 epochs took 4 seconds\n",
      "saga l1 1.0 2500 Logistic Regression F1 Score ->  92.48916706788638\n"
     ]
    },
    {
     "name": "stderr",
     "output_type": "stream",
     "text": [
      "[Parallel(n_jobs=1)]: Done   1 out of   1 | elapsed:    4.3s finished\n",
      "[Parallel(n_jobs=1)]: Using backend SequentialBackend with 1 concurrent workers.\n"
     ]
    },
    {
     "name": "stdout",
     "output_type": "stream",
     "text": [
      "convergence after 223 epochs took 13 seconds\n",
      "saga l1 2.0 250 Logistic Regression F1 Score ->  93.56078808265256\n"
     ]
    },
    {
     "name": "stderr",
     "output_type": "stream",
     "text": [
      "[Parallel(n_jobs=1)]: Done   1 out of   1 | elapsed:   13.4s finished\n",
      "[Parallel(n_jobs=1)]: Using backend SequentialBackend with 1 concurrent workers.\n"
     ]
    },
    {
     "name": "stdout",
     "output_type": "stream",
     "text": [
      "convergence after 223 epochs took 13 seconds\n",
      "saga l1 2.0 500 Logistic Regression F1 Score ->  93.56078808265256\n"
     ]
    },
    {
     "name": "stderr",
     "output_type": "stream",
     "text": [
      "[Parallel(n_jobs=1)]: Done   1 out of   1 | elapsed:   13.3s finished\n",
      "[Parallel(n_jobs=1)]: Using backend SequentialBackend with 1 concurrent workers.\n"
     ]
    },
    {
     "name": "stdout",
     "output_type": "stream",
     "text": [
      "convergence after 223 epochs took 14 seconds\n",
      "saga l1 2.0 1000 Logistic Regression F1 Score ->  93.56078808265256\n"
     ]
    },
    {
     "name": "stderr",
     "output_type": "stream",
     "text": [
      "[Parallel(n_jobs=1)]: Done   1 out of   1 | elapsed:   13.1s finished\n",
      "[Parallel(n_jobs=1)]: Using backend SequentialBackend with 1 concurrent workers.\n"
     ]
    },
    {
     "name": "stdout",
     "output_type": "stream",
     "text": [
      "convergence after 223 epochs took 13 seconds\n",
      "saga l1 2.0 1500 Logistic Regression F1 Score ->  93.56078808265256\n"
     ]
    },
    {
     "name": "stderr",
     "output_type": "stream",
     "text": [
      "[Parallel(n_jobs=1)]: Done   1 out of   1 | elapsed:   13.8s finished\n",
      "[Parallel(n_jobs=1)]: Using backend SequentialBackend with 1 concurrent workers.\n"
     ]
    },
    {
     "name": "stdout",
     "output_type": "stream",
     "text": [
      "convergence after 223 epochs took 12 seconds\n",
      "saga l1 2.0 2500 Logistic Regression F1 Score ->  93.56078808265256\n"
     ]
    },
    {
     "name": "stderr",
     "output_type": "stream",
     "text": [
      "[Parallel(n_jobs=1)]: Done   1 out of   1 | elapsed:   12.0s finished\n",
      "[Parallel(n_jobs=1)]: Using backend SequentialBackend with 1 concurrent workers.\n"
     ]
    },
    {
     "name": "stdout",
     "output_type": "stream",
     "text": [
      "max_iter reached after 19 seconds\n",
      "saga l1 3.0 250 Logistic Regression F1 Score ->  93.4902714388662\n"
     ]
    },
    {
     "name": "stderr",
     "output_type": "stream",
     "text": [
      "/Users/humaid/anaconda3/lib/python3.8/site-packages/sklearn/linear_model/_sag.py:328: ConvergenceWarning: The max_iter was reached which means the coef_ did not converge\n",
      "  warnings.warn(\"The max_iter was reached which means \"\n",
      "[Parallel(n_jobs=1)]: Done   1 out of   1 | elapsed:   18.6s finished\n",
      "[Parallel(n_jobs=1)]: Using backend SequentialBackend with 1 concurrent workers.\n"
     ]
    },
    {
     "name": "stdout",
     "output_type": "stream",
     "text": [
      "convergence after 349 epochs took 23 seconds\n",
      "saga l1 3.0 500 Logistic Regression F1 Score ->  93.46781940441883\n"
     ]
    },
    {
     "name": "stderr",
     "output_type": "stream",
     "text": [
      "[Parallel(n_jobs=1)]: Done   1 out of   1 | elapsed:   22.7s finished\n",
      "[Parallel(n_jobs=1)]: Using backend SequentialBackend with 1 concurrent workers.\n"
     ]
    },
    {
     "name": "stdout",
     "output_type": "stream",
     "text": [
      "convergence after 349 epochs took 21 seconds\n",
      "saga l1 3.0 1000 Logistic Regression F1 Score ->  93.46781940441883\n"
     ]
    },
    {
     "name": "stderr",
     "output_type": "stream",
     "text": [
      "[Parallel(n_jobs=1)]: Done   1 out of   1 | elapsed:   21.6s finished\n",
      "[Parallel(n_jobs=1)]: Using backend SequentialBackend with 1 concurrent workers.\n"
     ]
    },
    {
     "name": "stdout",
     "output_type": "stream",
     "text": [
      "convergence after 349 epochs took 22 seconds\n",
      "saga l1 3.0 1500 Logistic Regression F1 Score ->  93.46781940441883\n"
     ]
    },
    {
     "name": "stderr",
     "output_type": "stream",
     "text": [
      "[Parallel(n_jobs=1)]: Done   1 out of   1 | elapsed:   21.7s finished\n",
      "[Parallel(n_jobs=1)]: Using backend SequentialBackend with 1 concurrent workers.\n"
     ]
    },
    {
     "name": "stdout",
     "output_type": "stream",
     "text": [
      "convergence after 349 epochs took 22 seconds\n",
      "saga l1 3.0 2500 Logistic Regression F1 Score ->  93.46781940441883\n"
     ]
    },
    {
     "name": "stderr",
     "output_type": "stream",
     "text": [
      "[Parallel(n_jobs=1)]: Done   1 out of   1 | elapsed:   21.5s finished\n",
      "[Parallel(n_jobs=1)]: Using backend SequentialBackend with 1 concurrent workers.\n"
     ]
    },
    {
     "name": "stdout",
     "output_type": "stream",
     "text": [
      "max_iter reached after 17 seconds\n",
      "saga l1 4.0 250 Logistic Regression F1 Score ->  93.36857280153772\n"
     ]
    },
    {
     "name": "stderr",
     "output_type": "stream",
     "text": [
      "/Users/humaid/anaconda3/lib/python3.8/site-packages/sklearn/linear_model/_sag.py:328: ConvergenceWarning: The max_iter was reached which means the coef_ did not converge\n",
      "  warnings.warn(\"The max_iter was reached which means \"\n",
      "[Parallel(n_jobs=1)]: Done   1 out of   1 | elapsed:   17.7s finished\n",
      "[Parallel(n_jobs=1)]: Using backend SequentialBackend with 1 concurrent workers.\n"
     ]
    },
    {
     "name": "stdout",
     "output_type": "stream",
     "text": [
      "max_iter reached after 36 seconds\n",
      "saga l1 4.0 500 Logistic Regression F1 Score ->  93.43907714491708\n"
     ]
    },
    {
     "name": "stderr",
     "output_type": "stream",
     "text": [
      "/Users/humaid/anaconda3/lib/python3.8/site-packages/sklearn/linear_model/_sag.py:328: ConvergenceWarning: The max_iter was reached which means the coef_ did not converge\n",
      "  warnings.warn(\"The max_iter was reached which means \"\n",
      "[Parallel(n_jobs=1)]: Done   1 out of   1 | elapsed:   36.1s finished\n",
      "[Parallel(n_jobs=1)]: Using backend SequentialBackend with 1 concurrent workers.\n"
     ]
    },
    {
     "name": "stdout",
     "output_type": "stream",
     "text": [
      "convergence after 551 epochs took 39 seconds\n",
      "saga l1 4.0 1000 Logistic Regression F1 Score ->  93.43907714491708\n"
     ]
    },
    {
     "name": "stderr",
     "output_type": "stream",
     "text": [
      "[Parallel(n_jobs=1)]: Done   1 out of   1 | elapsed:   38.9s finished\n",
      "[Parallel(n_jobs=1)]: Using backend SequentialBackend with 1 concurrent workers.\n"
     ]
    },
    {
     "name": "stdout",
     "output_type": "stream",
     "text": [
      "convergence after 551 epochs took 38 seconds\n",
      "saga l1 4.0 1500 Logistic Regression F1 Score ->  93.43907714491708\n"
     ]
    },
    {
     "name": "stderr",
     "output_type": "stream",
     "text": [
      "[Parallel(n_jobs=1)]: Done   1 out of   1 | elapsed:   37.6s finished\n",
      "[Parallel(n_jobs=1)]: Using backend SequentialBackend with 1 concurrent workers.\n"
     ]
    },
    {
     "name": "stdout",
     "output_type": "stream",
     "text": [
      "convergence after 551 epochs took 38 seconds\n",
      "saga l1 4.0 2500 Logistic Regression F1 Score ->  93.43907714491708\n"
     ]
    },
    {
     "name": "stderr",
     "output_type": "stream",
     "text": [
      "[Parallel(n_jobs=1)]: Done   1 out of   1 | elapsed:   37.7s finished\n",
      "[Parallel(n_jobs=1)]: Using backend SequentialBackend with 1 concurrent workers.\n"
     ]
    },
    {
     "name": "stdout",
     "output_type": "stream",
     "text": [
      "max_iter reached after 21 seconds\n",
      "saga l1 5.0 250 Logistic Regression F1 Score ->  93.52587244283995\n"
     ]
    },
    {
     "name": "stderr",
     "output_type": "stream",
     "text": [
      "/Users/humaid/anaconda3/lib/python3.8/site-packages/sklearn/linear_model/_sag.py:328: ConvergenceWarning: The max_iter was reached which means the coef_ did not converge\n",
      "  warnings.warn(\"The max_iter was reached which means \"\n",
      "[Parallel(n_jobs=1)]: Done   1 out of   1 | elapsed:   20.9s finished\n",
      "[Parallel(n_jobs=1)]: Using backend SequentialBackend with 1 concurrent workers.\n"
     ]
    },
    {
     "name": "stdout",
     "output_type": "stream",
     "text": [
      "max_iter reached after 36 seconds\n",
      "saga l1 5.0 500 Logistic Regression F1 Score ->  93.55459355459355\n"
     ]
    },
    {
     "name": "stderr",
     "output_type": "stream",
     "text": [
      "/Users/humaid/anaconda3/lib/python3.8/site-packages/sklearn/linear_model/_sag.py:328: ConvergenceWarning: The max_iter was reached which means the coef_ did not converge\n",
      "  warnings.warn(\"The max_iter was reached which means \"\n",
      "[Parallel(n_jobs=1)]: Done   1 out of   1 | elapsed:   36.8s finished\n",
      "[Parallel(n_jobs=1)]: Using backend SequentialBackend with 1 concurrent workers.\n"
     ]
    },
    {
     "name": "stdout",
     "output_type": "stream",
     "text": [
      "convergence after 846 epochs took 64 seconds\n",
      "saga l1 5.0 1000 Logistic Regression F1 Score ->  93.53209906227458\n"
     ]
    },
    {
     "name": "stderr",
     "output_type": "stream",
     "text": [
      "[Parallel(n_jobs=1)]: Done   1 out of   1 | elapsed:  1.1min finished\n",
      "[Parallel(n_jobs=1)]: Using backend SequentialBackend with 1 concurrent workers.\n"
     ]
    },
    {
     "name": "stdout",
     "output_type": "stream",
     "text": [
      "convergence after 846 epochs took 63 seconds\n",
      "saga l1 5.0 1500 Logistic Regression F1 Score ->  93.53209906227458\n"
     ]
    },
    {
     "name": "stderr",
     "output_type": "stream",
     "text": [
      "[Parallel(n_jobs=1)]: Done   1 out of   1 | elapsed:  1.0min finished\n",
      "[Parallel(n_jobs=1)]: Using backend SequentialBackend with 1 concurrent workers.\n"
     ]
    },
    {
     "name": "stdout",
     "output_type": "stream",
     "text": [
      "convergence after 846 epochs took 60 seconds\n",
      "saga l1 5.0 2500 Logistic Regression F1 Score ->  93.53209906227458\n"
     ]
    },
    {
     "name": "stderr",
     "output_type": "stream",
     "text": [
      "[Parallel(n_jobs=1)]: Done   1 out of   1 | elapsed:  1.0min finished\n",
      "[Parallel(n_jobs=1)]: Using backend SequentialBackend with 1 concurrent workers.\n"
     ]
    },
    {
     "name": "stdout",
     "output_type": "stream",
     "text": [
      "convergence after 19 epochs took 1 seconds\n",
      "saga l2 1.0 250 Logistic Regression F1 Score ->  92.61583011583011\n"
     ]
    },
    {
     "name": "stderr",
     "output_type": "stream",
     "text": [
      "[Parallel(n_jobs=1)]: Done   1 out of   1 | elapsed:    0.4s finished\n",
      "[Parallel(n_jobs=1)]: Using backend SequentialBackend with 1 concurrent workers.\n"
     ]
    },
    {
     "name": "stdout",
     "output_type": "stream",
     "text": [
      "convergence after 19 epochs took 0 seconds\n",
      "saga l2 1.0 500 Logistic Regression F1 Score ->  92.61583011583011\n"
     ]
    },
    {
     "name": "stderr",
     "output_type": "stream",
     "text": [
      "[Parallel(n_jobs=1)]: Done   1 out of   1 | elapsed:    0.4s finished\n",
      "[Parallel(n_jobs=1)]: Using backend SequentialBackend with 1 concurrent workers.\n"
     ]
    },
    {
     "name": "stdout",
     "output_type": "stream",
     "text": [
      "convergence after 19 epochs took 1 seconds\n",
      "saga l2 1.0 1000 Logistic Regression F1 Score ->  92.61583011583011\n"
     ]
    },
    {
     "name": "stderr",
     "output_type": "stream",
     "text": [
      "[Parallel(n_jobs=1)]: Done   1 out of   1 | elapsed:    0.4s finished\n",
      "[Parallel(n_jobs=1)]: Using backend SequentialBackend with 1 concurrent workers.\n"
     ]
    },
    {
     "name": "stdout",
     "output_type": "stream",
     "text": [
      "convergence after 19 epochs took 0 seconds\n",
      "saga l2 1.0 1500 Logistic Regression F1 Score ->  92.61583011583011\n"
     ]
    },
    {
     "name": "stderr",
     "output_type": "stream",
     "text": [
      "[Parallel(n_jobs=1)]: Done   1 out of   1 | elapsed:    0.4s finished\n",
      "[Parallel(n_jobs=1)]: Using backend SequentialBackend with 1 concurrent workers.\n"
     ]
    },
    {
     "name": "stdout",
     "output_type": "stream",
     "text": [
      "convergence after 19 epochs took 0 seconds\n",
      "saga l2 1.0 2500 Logistic Regression F1 Score ->  92.61583011583011\n"
     ]
    },
    {
     "name": "stderr",
     "output_type": "stream",
     "text": [
      "[Parallel(n_jobs=1)]: Done   1 out of   1 | elapsed:    0.4s finished\n",
      "[Parallel(n_jobs=1)]: Using backend SequentialBackend with 1 concurrent workers.\n"
     ]
    },
    {
     "name": "stdout",
     "output_type": "stream",
     "text": [
      "convergence after 19 epochs took 1 seconds\n",
      "saga l2 2.0 250 Logistic Regression F1 Score ->  93.04683727667793\n"
     ]
    },
    {
     "name": "stderr",
     "output_type": "stream",
     "text": [
      "[Parallel(n_jobs=1)]: Done   1 out of   1 | elapsed:    0.4s finished\n",
      "[Parallel(n_jobs=1)]: Using backend SequentialBackend with 1 concurrent workers.\n"
     ]
    },
    {
     "name": "stdout",
     "output_type": "stream",
     "text": [
      "convergence after 19 epochs took 0 seconds\n",
      "saga l2 2.0 500 Logistic Regression F1 Score ->  93.04683727667793\n"
     ]
    },
    {
     "name": "stderr",
     "output_type": "stream",
     "text": [
      "[Parallel(n_jobs=1)]: Done   1 out of   1 | elapsed:    0.4s finished\n",
      "[Parallel(n_jobs=1)]: Using backend SequentialBackend with 1 concurrent workers.\n"
     ]
    },
    {
     "name": "stdout",
     "output_type": "stream",
     "text": [
      "convergence after 19 epochs took 1 seconds\n",
      "saga l2 2.0 1000 Logistic Regression F1 Score ->  93.04683727667793\n"
     ]
    },
    {
     "name": "stderr",
     "output_type": "stream",
     "text": [
      "[Parallel(n_jobs=1)]: Done   1 out of   1 | elapsed:    0.4s finished\n",
      "[Parallel(n_jobs=1)]: Using backend SequentialBackend with 1 concurrent workers.\n"
     ]
    },
    {
     "name": "stdout",
     "output_type": "stream",
     "text": [
      "convergence after 19 epochs took 0 seconds\n",
      "saga l2 2.0 1500 Logistic Regression F1 Score ->  93.04683727667793\n"
     ]
    },
    {
     "name": "stderr",
     "output_type": "stream",
     "text": [
      "[Parallel(n_jobs=1)]: Done   1 out of   1 | elapsed:    0.4s finished\n",
      "[Parallel(n_jobs=1)]: Using backend SequentialBackend with 1 concurrent workers.\n"
     ]
    },
    {
     "name": "stdout",
     "output_type": "stream",
     "text": [
      "convergence after 19 epochs took 0 seconds\n",
      "saga l2 2.0 2500 Logistic Regression F1 Score ->  93.04683727667793\n"
     ]
    },
    {
     "name": "stderr",
     "output_type": "stream",
     "text": [
      "[Parallel(n_jobs=1)]: Done   1 out of   1 | elapsed:    0.4s finished\n",
      "[Parallel(n_jobs=1)]: Using backend SequentialBackend with 1 concurrent workers.\n"
     ]
    },
    {
     "name": "stdout",
     "output_type": "stream",
     "text": [
      "convergence after 24 epochs took 1 seconds\n",
      "saga l2 3.0 250 Logistic Regression F1 Score ->  93.14340898116852\n"
     ]
    },
    {
     "name": "stderr",
     "output_type": "stream",
     "text": [
      "[Parallel(n_jobs=1)]: Done   1 out of   1 | elapsed:    0.5s finished\n",
      "[Parallel(n_jobs=1)]: Using backend SequentialBackend with 1 concurrent workers.\n"
     ]
    },
    {
     "name": "stdout",
     "output_type": "stream",
     "text": [
      "convergence after 24 epochs took 1 seconds\n",
      "saga l2 3.0 500 Logistic Regression F1 Score ->  93.14340898116852\n"
     ]
    },
    {
     "name": "stderr",
     "output_type": "stream",
     "text": [
      "[Parallel(n_jobs=1)]: Done   1 out of   1 | elapsed:    0.5s finished\n",
      "[Parallel(n_jobs=1)]: Using backend SequentialBackend with 1 concurrent workers.\n"
     ]
    },
    {
     "name": "stdout",
     "output_type": "stream",
     "text": [
      "convergence after 24 epochs took 0 seconds\n",
      "saga l2 3.0 1000 Logistic Regression F1 Score ->  93.14340898116852\n"
     ]
    },
    {
     "name": "stderr",
     "output_type": "stream",
     "text": [
      "[Parallel(n_jobs=1)]: Done   1 out of   1 | elapsed:    0.5s finished\n",
      "[Parallel(n_jobs=1)]: Using backend SequentialBackend with 1 concurrent workers.\n"
     ]
    },
    {
     "name": "stdout",
     "output_type": "stream",
     "text": [
      "convergence after 24 epochs took 1 seconds\n",
      "saga l2 3.0 1500 Logistic Regression F1 Score ->  93.14340898116852\n"
     ]
    },
    {
     "name": "stderr",
     "output_type": "stream",
     "text": [
      "[Parallel(n_jobs=1)]: Done   1 out of   1 | elapsed:    0.5s finished\n",
      "[Parallel(n_jobs=1)]: Using backend SequentialBackend with 1 concurrent workers.\n"
     ]
    },
    {
     "name": "stdout",
     "output_type": "stream",
     "text": [
      "convergence after 24 epochs took 0 seconds\n",
      "saga l2 3.0 2500 Logistic Regression F1 Score ->  93.14340898116852\n"
     ]
    },
    {
     "name": "stderr",
     "output_type": "stream",
     "text": [
      "[Parallel(n_jobs=1)]: Done   1 out of   1 | elapsed:    0.5s finished\n",
      "[Parallel(n_jobs=1)]: Using backend SequentialBackend with 1 concurrent workers.\n"
     ]
    },
    {
     "name": "stdout",
     "output_type": "stream",
     "text": [
      "convergence after 30 epochs took 1 seconds\n",
      "saga l2 4.0 250 Logistic Regression F1 Score ->  93.21419946872736\n"
     ]
    },
    {
     "name": "stderr",
     "output_type": "stream",
     "text": [
      "[Parallel(n_jobs=1)]: Done   1 out of   1 | elapsed:    0.6s finished\n",
      "[Parallel(n_jobs=1)]: Using backend SequentialBackend with 1 concurrent workers.\n"
     ]
    },
    {
     "name": "stdout",
     "output_type": "stream",
     "text": [
      "convergence after 30 epochs took 0 seconds\n",
      "saga l2 4.0 500 Logistic Regression F1 Score ->  93.21419946872736\n"
     ]
    },
    {
     "name": "stderr",
     "output_type": "stream",
     "text": [
      "[Parallel(n_jobs=1)]: Done   1 out of   1 | elapsed:    0.6s finished\n",
      "[Parallel(n_jobs=1)]: Using backend SequentialBackend with 1 concurrent workers.\n"
     ]
    },
    {
     "name": "stdout",
     "output_type": "stream",
     "text": [
      "convergence after 30 epochs took 1 seconds\n",
      "saga l2 4.0 1000 Logistic Regression F1 Score ->  93.21419946872736\n"
     ]
    },
    {
     "name": "stderr",
     "output_type": "stream",
     "text": [
      "[Parallel(n_jobs=1)]: Done   1 out of   1 | elapsed:    0.6s finished\n",
      "[Parallel(n_jobs=1)]: Using backend SequentialBackend with 1 concurrent workers.\n"
     ]
    },
    {
     "name": "stdout",
     "output_type": "stream",
     "text": [
      "convergence after 30 epochs took 1 seconds\n",
      "saga l2 4.0 1500 Logistic Regression F1 Score ->  93.21419946872736\n"
     ]
    },
    {
     "name": "stderr",
     "output_type": "stream",
     "text": [
      "[Parallel(n_jobs=1)]: Done   1 out of   1 | elapsed:    0.6s finished\n",
      "[Parallel(n_jobs=1)]: Using backend SequentialBackend with 1 concurrent workers.\n"
     ]
    },
    {
     "name": "stdout",
     "output_type": "stream",
     "text": [
      "convergence after 30 epochs took 0 seconds\n",
      "saga l2 4.0 2500 Logistic Regression F1 Score ->  93.21419946872736\n"
     ]
    },
    {
     "name": "stderr",
     "output_type": "stream",
     "text": [
      "[Parallel(n_jobs=1)]: Done   1 out of   1 | elapsed:    0.6s finished\n",
      "[Parallel(n_jobs=1)]: Using backend SequentialBackend with 1 concurrent workers.\n"
     ]
    },
    {
     "name": "stdout",
     "output_type": "stream",
     "text": [
      "convergence after 33 epochs took 1 seconds\n",
      "saga l2 5.0 250 Logistic Regression F1 Score ->  93.15929417452259\n"
     ]
    },
    {
     "name": "stderr",
     "output_type": "stream",
     "text": [
      "[Parallel(n_jobs=1)]: Done   1 out of   1 | elapsed:    0.6s finished\n",
      "[Parallel(n_jobs=1)]: Using backend SequentialBackend with 1 concurrent workers.\n"
     ]
    },
    {
     "name": "stdout",
     "output_type": "stream",
     "text": [
      "convergence after 33 epochs took 0 seconds\n",
      "saga l2 5.0 500 Logistic Regression F1 Score ->  93.15929417452259\n"
     ]
    },
    {
     "name": "stderr",
     "output_type": "stream",
     "text": [
      "[Parallel(n_jobs=1)]: Done   1 out of   1 | elapsed:    0.7s finished\n",
      "[Parallel(n_jobs=1)]: Using backend SequentialBackend with 1 concurrent workers.\n"
     ]
    },
    {
     "name": "stdout",
     "output_type": "stream",
     "text": [
      "convergence after 33 epochs took 1 seconds\n",
      "saga l2 5.0 1000 Logistic Regression F1 Score ->  93.15929417452259\n"
     ]
    },
    {
     "name": "stderr",
     "output_type": "stream",
     "text": [
      "[Parallel(n_jobs=1)]: Done   1 out of   1 | elapsed:    0.7s finished\n",
      "[Parallel(n_jobs=1)]: Using backend SequentialBackend with 1 concurrent workers.\n"
     ]
    },
    {
     "name": "stdout",
     "output_type": "stream",
     "text": [
      "convergence after 33 epochs took 1 seconds\n",
      "saga l2 5.0 1500 Logistic Regression F1 Score ->  93.15929417452259\n"
     ]
    },
    {
     "name": "stderr",
     "output_type": "stream",
     "text": [
      "[Parallel(n_jobs=1)]: Done   1 out of   1 | elapsed:    0.6s finished\n",
      "[Parallel(n_jobs=1)]: Using backend SequentialBackend with 1 concurrent workers.\n"
     ]
    },
    {
     "name": "stdout",
     "output_type": "stream",
     "text": [
      "convergence after 33 epochs took 0 seconds\n",
      "saga l2 5.0 2500 Logistic Regression F1 Score ->  93.15929417452259\n"
     ]
    },
    {
     "name": "stderr",
     "output_type": "stream",
     "text": [
      "[Parallel(n_jobs=1)]: Done   1 out of   1 | elapsed:    0.6s finished\n",
      "[Parallel(n_jobs=1)]: Using backend SequentialBackend with 1 concurrent workers.\n"
     ]
    },
    {
     "name": "stdout",
     "output_type": "stream",
     "text": [
      "max_iter reached after 5 seconds\n",
      "saga none 1.0 250 Logistic Regression F1 Score ->  92.24843524313914\n"
     ]
    },
    {
     "name": "stderr",
     "output_type": "stream",
     "text": [
      "/Users/humaid/anaconda3/lib/python3.8/site-packages/sklearn/linear_model/_sag.py:328: ConvergenceWarning: The max_iter was reached which means the coef_ did not converge\n",
      "  warnings.warn(\"The max_iter was reached which means \"\n",
      "[Parallel(n_jobs=1)]: Done   1 out of   1 | elapsed:    4.8s finished\n",
      "[Parallel(n_jobs=1)]: Using backend SequentialBackend with 1 concurrent workers.\n"
     ]
    },
    {
     "name": "stdout",
     "output_type": "stream",
     "text": [
      "max_iter reached after 10 seconds\n",
      "saga none 1.0 500 Logistic Regression F1 Score ->  92.18186191965358\n"
     ]
    },
    {
     "name": "stderr",
     "output_type": "stream",
     "text": [
      "/Users/humaid/anaconda3/lib/python3.8/site-packages/sklearn/linear_model/_sag.py:328: ConvergenceWarning: The max_iter was reached which means the coef_ did not converge\n",
      "  warnings.warn(\"The max_iter was reached which means \"\n",
      "[Parallel(n_jobs=1)]: Done   1 out of   1 | elapsed:    9.6s finished\n",
      "[Parallel(n_jobs=1)]: Using backend SequentialBackend with 1 concurrent workers.\n"
     ]
    },
    {
     "name": "stdout",
     "output_type": "stream",
     "text": [
      "max_iter reached after 20 seconds\n",
      "saga none 1.0 1000 Logistic Regression F1 Score ->  92.13375030069761\n"
     ]
    },
    {
     "name": "stderr",
     "output_type": "stream",
     "text": [
      "/Users/humaid/anaconda3/lib/python3.8/site-packages/sklearn/linear_model/_sag.py:328: ConvergenceWarning: The max_iter was reached which means the coef_ did not converge\n",
      "  warnings.warn(\"The max_iter was reached which means \"\n",
      "[Parallel(n_jobs=1)]: Done   1 out of   1 | elapsed:   19.9s finished\n",
      "[Parallel(n_jobs=1)]: Using backend SequentialBackend with 1 concurrent workers.\n"
     ]
    },
    {
     "name": "stdout",
     "output_type": "stream",
     "text": [
      "convergence after 1470 epochs took 30 seconds\n",
      "saga none 1.0 1500 Logistic Regression F1 Score ->  92.05967276227142\n"
     ]
    },
    {
     "name": "stderr",
     "output_type": "stream",
     "text": [
      "[Parallel(n_jobs=1)]: Done   1 out of   1 | elapsed:   29.7s finished\n",
      "[Parallel(n_jobs=1)]: Using backend SequentialBackend with 1 concurrent workers.\n"
     ]
    },
    {
     "name": "stdout",
     "output_type": "stream",
     "text": [
      "convergence after 1470 epochs took 28 seconds\n",
      "saga none 1.0 2500 Logistic Regression F1 Score ->  92.05967276227142\n"
     ]
    },
    {
     "name": "stderr",
     "output_type": "stream",
     "text": [
      "[Parallel(n_jobs=1)]: Done   1 out of   1 | elapsed:   28.7s finished\n",
      "/Users/humaid/anaconda3/lib/python3.8/site-packages/sklearn/linear_model/_logistic.py:1322: UserWarning: Setting penalty='none' will ignore the C and l1_ratio parameters\n",
      "  warnings.warn(\n",
      "[Parallel(n_jobs=1)]: Using backend SequentialBackend with 1 concurrent workers.\n"
     ]
    },
    {
     "name": "stdout",
     "output_type": "stream",
     "text": [
      "max_iter reached after 5 seconds\n",
      "saga none 2.0 250 Logistic Regression F1 Score ->  92.24843524313914\n"
     ]
    },
    {
     "name": "stderr",
     "output_type": "stream",
     "text": [
      "/Users/humaid/anaconda3/lib/python3.8/site-packages/sklearn/linear_model/_sag.py:328: ConvergenceWarning: The max_iter was reached which means the coef_ did not converge\n",
      "  warnings.warn(\"The max_iter was reached which means \"\n",
      "[Parallel(n_jobs=1)]: Done   1 out of   1 | elapsed:    4.9s finished\n",
      "/Users/humaid/anaconda3/lib/python3.8/site-packages/sklearn/linear_model/_logistic.py:1322: UserWarning: Setting penalty='none' will ignore the C and l1_ratio parameters\n",
      "  warnings.warn(\n",
      "[Parallel(n_jobs=1)]: Using backend SequentialBackend with 1 concurrent workers.\n"
     ]
    },
    {
     "name": "stdout",
     "output_type": "stream",
     "text": [
      "max_iter reached after 10 seconds\n",
      "saga none 2.0 500 Logistic Regression F1 Score ->  92.18186191965358\n"
     ]
    },
    {
     "name": "stderr",
     "output_type": "stream",
     "text": [
      "/Users/humaid/anaconda3/lib/python3.8/site-packages/sklearn/linear_model/_sag.py:328: ConvergenceWarning: The max_iter was reached which means the coef_ did not converge\n",
      "  warnings.warn(\"The max_iter was reached which means \"\n",
      "[Parallel(n_jobs=1)]: Done   1 out of   1 | elapsed:    9.6s finished\n",
      "/Users/humaid/anaconda3/lib/python3.8/site-packages/sklearn/linear_model/_logistic.py:1322: UserWarning: Setting penalty='none' will ignore the C and l1_ratio parameters\n",
      "  warnings.warn(\n",
      "[Parallel(n_jobs=1)]: Using backend SequentialBackend with 1 concurrent workers.\n"
     ]
    },
    {
     "name": "stdout",
     "output_type": "stream",
     "text": [
      "max_iter reached after 20 seconds\n",
      "saga none 2.0 1000 Logistic Regression F1 Score ->  92.13375030069761\n"
     ]
    },
    {
     "name": "stderr",
     "output_type": "stream",
     "text": [
      "/Users/humaid/anaconda3/lib/python3.8/site-packages/sklearn/linear_model/_sag.py:328: ConvergenceWarning: The max_iter was reached which means the coef_ did not converge\n",
      "  warnings.warn(\"The max_iter was reached which means \"\n",
      "[Parallel(n_jobs=1)]: Done   1 out of   1 | elapsed:   19.9s finished\n",
      "/Users/humaid/anaconda3/lib/python3.8/site-packages/sklearn/linear_model/_logistic.py:1322: UserWarning: Setting penalty='none' will ignore the C and l1_ratio parameters\n",
      "  warnings.warn(\n",
      "[Parallel(n_jobs=1)]: Using backend SequentialBackend with 1 concurrent workers.\n"
     ]
    },
    {
     "name": "stdout",
     "output_type": "stream",
     "text": [
      "convergence after 1470 epochs took 30 seconds\n",
      "saga none 2.0 1500 Logistic Regression F1 Score ->  92.05967276227142\n"
     ]
    },
    {
     "name": "stderr",
     "output_type": "stream",
     "text": [
      "[Parallel(n_jobs=1)]: Done   1 out of   1 | elapsed:   30.5s finished\n",
      "/Users/humaid/anaconda3/lib/python3.8/site-packages/sklearn/linear_model/_logistic.py:1322: UserWarning: Setting penalty='none' will ignore the C and l1_ratio parameters\n",
      "  warnings.warn(\n",
      "[Parallel(n_jobs=1)]: Using backend SequentialBackend with 1 concurrent workers.\n"
     ]
    },
    {
     "name": "stdout",
     "output_type": "stream",
     "text": [
      "convergence after 1470 epochs took 32 seconds\n",
      "saga none 2.0 2500 Logistic Regression F1 Score ->  92.05967276227142\n"
     ]
    },
    {
     "name": "stderr",
     "output_type": "stream",
     "text": [
      "[Parallel(n_jobs=1)]: Done   1 out of   1 | elapsed:   31.7s finished\n",
      "/Users/humaid/anaconda3/lib/python3.8/site-packages/sklearn/linear_model/_logistic.py:1322: UserWarning: Setting penalty='none' will ignore the C and l1_ratio parameters\n",
      "  warnings.warn(\n",
      "[Parallel(n_jobs=1)]: Using backend SequentialBackend with 1 concurrent workers.\n"
     ]
    },
    {
     "name": "stdout",
     "output_type": "stream",
     "text": [
      "max_iter reached after 5 seconds\n",
      "saga none 3.0 250 Logistic Regression F1 Score ->  92.24843524313914\n"
     ]
    },
    {
     "name": "stderr",
     "output_type": "stream",
     "text": [
      "/Users/humaid/anaconda3/lib/python3.8/site-packages/sklearn/linear_model/_sag.py:328: ConvergenceWarning: The max_iter was reached which means the coef_ did not converge\n",
      "  warnings.warn(\"The max_iter was reached which means \"\n",
      "[Parallel(n_jobs=1)]: Done   1 out of   1 | elapsed:    5.3s finished\n",
      "/Users/humaid/anaconda3/lib/python3.8/site-packages/sklearn/linear_model/_logistic.py:1322: UserWarning: Setting penalty='none' will ignore the C and l1_ratio parameters\n",
      "  warnings.warn(\n",
      "[Parallel(n_jobs=1)]: Using backend SequentialBackend with 1 concurrent workers.\n"
     ]
    },
    {
     "name": "stdout",
     "output_type": "stream",
     "text": [
      "max_iter reached after 11 seconds\n",
      "saga none 3.0 500 Logistic Regression F1 Score ->  92.18186191965358\n"
     ]
    },
    {
     "name": "stderr",
     "output_type": "stream",
     "text": [
      "/Users/humaid/anaconda3/lib/python3.8/site-packages/sklearn/linear_model/_sag.py:328: ConvergenceWarning: The max_iter was reached which means the coef_ did not converge\n",
      "  warnings.warn(\"The max_iter was reached which means \"\n",
      "[Parallel(n_jobs=1)]: Done   1 out of   1 | elapsed:   11.0s finished\n",
      "/Users/humaid/anaconda3/lib/python3.8/site-packages/sklearn/linear_model/_logistic.py:1322: UserWarning: Setting penalty='none' will ignore the C and l1_ratio parameters\n",
      "  warnings.warn(\n",
      "[Parallel(n_jobs=1)]: Using backend SequentialBackend with 1 concurrent workers.\n"
     ]
    },
    {
     "name": "stdout",
     "output_type": "stream",
     "text": [
      "max_iter reached after 22 seconds\n",
      "saga none 3.0 1000 Logistic Regression F1 Score ->  92.13375030069761\n"
     ]
    },
    {
     "name": "stderr",
     "output_type": "stream",
     "text": [
      "/Users/humaid/anaconda3/lib/python3.8/site-packages/sklearn/linear_model/_sag.py:328: ConvergenceWarning: The max_iter was reached which means the coef_ did not converge\n",
      "  warnings.warn(\"The max_iter was reached which means \"\n",
      "[Parallel(n_jobs=1)]: Done   1 out of   1 | elapsed:   21.2s finished\n",
      "/Users/humaid/anaconda3/lib/python3.8/site-packages/sklearn/linear_model/_logistic.py:1322: UserWarning: Setting penalty='none' will ignore the C and l1_ratio parameters\n",
      "  warnings.warn(\n",
      "[Parallel(n_jobs=1)]: Using backend SequentialBackend with 1 concurrent workers.\n"
     ]
    },
    {
     "name": "stdout",
     "output_type": "stream",
     "text": [
      "convergence after 1470 epochs took 32 seconds\n",
      "saga none 3.0 1500 Logistic Regression F1 Score ->  92.05967276227142\n"
     ]
    },
    {
     "name": "stderr",
     "output_type": "stream",
     "text": [
      "[Parallel(n_jobs=1)]: Done   1 out of   1 | elapsed:   32.7s finished\n",
      "/Users/humaid/anaconda3/lib/python3.8/site-packages/sklearn/linear_model/_logistic.py:1322: UserWarning: Setting penalty='none' will ignore the C and l1_ratio parameters\n",
      "  warnings.warn(\n",
      "[Parallel(n_jobs=1)]: Using backend SequentialBackend with 1 concurrent workers.\n"
     ]
    },
    {
     "name": "stdout",
     "output_type": "stream",
     "text": [
      "convergence after 1470 epochs took 33 seconds\n",
      "saga none 3.0 2500 Logistic Regression F1 Score ->  92.05967276227142\n"
     ]
    },
    {
     "name": "stderr",
     "output_type": "stream",
     "text": [
      "[Parallel(n_jobs=1)]: Done   1 out of   1 | elapsed:   32.3s finished\n",
      "/Users/humaid/anaconda3/lib/python3.8/site-packages/sklearn/linear_model/_logistic.py:1322: UserWarning: Setting penalty='none' will ignore the C and l1_ratio parameters\n",
      "  warnings.warn(\n",
      "[Parallel(n_jobs=1)]: Using backend SequentialBackend with 1 concurrent workers.\n"
     ]
    },
    {
     "name": "stdout",
     "output_type": "stream",
     "text": [
      "max_iter reached after 5 seconds\n",
      "saga none 4.0 250 Logistic Regression F1 Score ->  92.24843524313914\n"
     ]
    },
    {
     "name": "stderr",
     "output_type": "stream",
     "text": [
      "/Users/humaid/anaconda3/lib/python3.8/site-packages/sklearn/linear_model/_sag.py:328: ConvergenceWarning: The max_iter was reached which means the coef_ did not converge\n",
      "  warnings.warn(\"The max_iter was reached which means \"\n",
      "[Parallel(n_jobs=1)]: Done   1 out of   1 | elapsed:    5.4s finished\n",
      "/Users/humaid/anaconda3/lib/python3.8/site-packages/sklearn/linear_model/_logistic.py:1322: UserWarning: Setting penalty='none' will ignore the C and l1_ratio parameters\n",
      "  warnings.warn(\n",
      "[Parallel(n_jobs=1)]: Using backend SequentialBackend with 1 concurrent workers.\n"
     ]
    },
    {
     "name": "stdout",
     "output_type": "stream",
     "text": [
      "max_iter reached after 10 seconds\n",
      "saga none 4.0 500 Logistic Regression F1 Score ->  92.18186191965358\n"
     ]
    },
    {
     "name": "stderr",
     "output_type": "stream",
     "text": [
      "/Users/humaid/anaconda3/lib/python3.8/site-packages/sklearn/linear_model/_sag.py:328: ConvergenceWarning: The max_iter was reached which means the coef_ did not converge\n",
      "  warnings.warn(\"The max_iter was reached which means \"\n",
      "[Parallel(n_jobs=1)]: Done   1 out of   1 | elapsed:   10.2s finished\n",
      "/Users/humaid/anaconda3/lib/python3.8/site-packages/sklearn/linear_model/_logistic.py:1322: UserWarning: Setting penalty='none' will ignore the C and l1_ratio parameters\n",
      "  warnings.warn(\n",
      "[Parallel(n_jobs=1)]: Using backend SequentialBackend with 1 concurrent workers.\n"
     ]
    },
    {
     "name": "stdout",
     "output_type": "stream",
     "text": [
      "max_iter reached after 20 seconds\n",
      "saga none 4.0 1000 Logistic Regression F1 Score ->  92.13375030069761\n"
     ]
    },
    {
     "name": "stderr",
     "output_type": "stream",
     "text": [
      "/Users/humaid/anaconda3/lib/python3.8/site-packages/sklearn/linear_model/_sag.py:328: ConvergenceWarning: The max_iter was reached which means the coef_ did not converge\n",
      "  warnings.warn(\"The max_iter was reached which means \"\n",
      "[Parallel(n_jobs=1)]: Done   1 out of   1 | elapsed:   20.2s finished\n",
      "/Users/humaid/anaconda3/lib/python3.8/site-packages/sklearn/linear_model/_logistic.py:1322: UserWarning: Setting penalty='none' will ignore the C and l1_ratio parameters\n",
      "  warnings.warn(\n",
      "[Parallel(n_jobs=1)]: Using backend SequentialBackend with 1 concurrent workers.\n"
     ]
    },
    {
     "name": "stdout",
     "output_type": "stream",
     "text": [
      "convergence after 1470 epochs took 29 seconds\n",
      "saga none 4.0 1500 Logistic Regression F1 Score ->  92.05967276227142\n"
     ]
    },
    {
     "name": "stderr",
     "output_type": "stream",
     "text": [
      "[Parallel(n_jobs=1)]: Done   1 out of   1 | elapsed:   28.3s finished\n",
      "/Users/humaid/anaconda3/lib/python3.8/site-packages/sklearn/linear_model/_logistic.py:1322: UserWarning: Setting penalty='none' will ignore the C and l1_ratio parameters\n",
      "  warnings.warn(\n",
      "[Parallel(n_jobs=1)]: Using backend SequentialBackend with 1 concurrent workers.\n"
     ]
    },
    {
     "name": "stdout",
     "output_type": "stream",
     "text": [
      "convergence after 1470 epochs took 28 seconds\n",
      "saga none 4.0 2500 Logistic Regression F1 Score ->  92.05967276227142\n"
     ]
    },
    {
     "name": "stderr",
     "output_type": "stream",
     "text": [
      "[Parallel(n_jobs=1)]: Done   1 out of   1 | elapsed:   28.1s finished\n",
      "/Users/humaid/anaconda3/lib/python3.8/site-packages/sklearn/linear_model/_logistic.py:1322: UserWarning: Setting penalty='none' will ignore the C and l1_ratio parameters\n",
      "  warnings.warn(\n",
      "[Parallel(n_jobs=1)]: Using backend SequentialBackend with 1 concurrent workers.\n"
     ]
    },
    {
     "name": "stdout",
     "output_type": "stream",
     "text": [
      "max_iter reached after 5 seconds\n",
      "saga none 5.0 250 Logistic Regression F1 Score ->  92.24843524313914\n"
     ]
    },
    {
     "name": "stderr",
     "output_type": "stream",
     "text": [
      "/Users/humaid/anaconda3/lib/python3.8/site-packages/sklearn/linear_model/_sag.py:328: ConvergenceWarning: The max_iter was reached which means the coef_ did not converge\n",
      "  warnings.warn(\"The max_iter was reached which means \"\n",
      "[Parallel(n_jobs=1)]: Done   1 out of   1 | elapsed:    5.0s finished\n",
      "/Users/humaid/anaconda3/lib/python3.8/site-packages/sklearn/linear_model/_logistic.py:1322: UserWarning: Setting penalty='none' will ignore the C and l1_ratio parameters\n",
      "  warnings.warn(\n",
      "[Parallel(n_jobs=1)]: Using backend SequentialBackend with 1 concurrent workers.\n"
     ]
    },
    {
     "name": "stdout",
     "output_type": "stream",
     "text": [
      "max_iter reached after 10 seconds\n",
      "saga none 5.0 500 Logistic Regression F1 Score ->  92.18186191965358\n"
     ]
    },
    {
     "name": "stderr",
     "output_type": "stream",
     "text": [
      "/Users/humaid/anaconda3/lib/python3.8/site-packages/sklearn/linear_model/_sag.py:328: ConvergenceWarning: The max_iter was reached which means the coef_ did not converge\n",
      "  warnings.warn(\"The max_iter was reached which means \"\n",
      "[Parallel(n_jobs=1)]: Done   1 out of   1 | elapsed:    9.9s finished\n",
      "/Users/humaid/anaconda3/lib/python3.8/site-packages/sklearn/linear_model/_logistic.py:1322: UserWarning: Setting penalty='none' will ignore the C and l1_ratio parameters\n",
      "  warnings.warn(\n",
      "[Parallel(n_jobs=1)]: Using backend SequentialBackend with 1 concurrent workers.\n"
     ]
    },
    {
     "name": "stdout",
     "output_type": "stream",
     "text": [
      "max_iter reached after 20 seconds\n",
      "saga none 5.0 1000 Logistic Regression F1 Score ->  92.13375030069761\n"
     ]
    },
    {
     "name": "stderr",
     "output_type": "stream",
     "text": [
      "/Users/humaid/anaconda3/lib/python3.8/site-packages/sklearn/linear_model/_sag.py:328: ConvergenceWarning: The max_iter was reached which means the coef_ did not converge\n",
      "  warnings.warn(\"The max_iter was reached which means \"\n",
      "[Parallel(n_jobs=1)]: Done   1 out of   1 | elapsed:   20.2s finished\n",
      "/Users/humaid/anaconda3/lib/python3.8/site-packages/sklearn/linear_model/_logistic.py:1322: UserWarning: Setting penalty='none' will ignore the C and l1_ratio parameters\n",
      "  warnings.warn(\n",
      "[Parallel(n_jobs=1)]: Using backend SequentialBackend with 1 concurrent workers.\n"
     ]
    },
    {
     "name": "stdout",
     "output_type": "stream",
     "text": [
      "convergence after 1470 epochs took 34 seconds\n",
      "saga none 5.0 1500 Logistic Regression F1 Score ->  92.05967276227142\n"
     ]
    },
    {
     "name": "stderr",
     "output_type": "stream",
     "text": [
      "[Parallel(n_jobs=1)]: Done   1 out of   1 | elapsed:   34.2s finished\n",
      "/Users/humaid/anaconda3/lib/python3.8/site-packages/sklearn/linear_model/_logistic.py:1322: UserWarning: Setting penalty='none' will ignore the C and l1_ratio parameters\n",
      "  warnings.warn(\n",
      "[Parallel(n_jobs=1)]: Using backend SequentialBackend with 1 concurrent workers.\n"
     ]
    },
    {
     "name": "stdout",
     "output_type": "stream",
     "text": [
      "convergence after 1470 epochs took 32 seconds\n",
      "saga none 5.0 2500 Logistic Regression F1 Score ->  92.05967276227142\n"
     ]
    },
    {
     "name": "stderr",
     "output_type": "stream",
     "text": [
      "[Parallel(n_jobs=1)]: Done   1 out of   1 | elapsed:   32.0s finished\n",
      "[Parallel(n_jobs=1)]: Using backend SequentialBackend with 1 concurrent workers.\n"
     ]
    },
    {
     "name": "stdout",
     "output_type": "stream",
     "text": [
      "convergence after 17 epochs took 1 seconds\n",
      "sag l2 1.0 250 Logistic Regression F1 Score ->  92.61583011583011\n"
     ]
    },
    {
     "name": "stderr",
     "output_type": "stream",
     "text": [
      "[Parallel(n_jobs=1)]: Done   1 out of   1 | elapsed:    0.3s finished\n",
      "[Parallel(n_jobs=1)]: Using backend SequentialBackend with 1 concurrent workers.\n"
     ]
    },
    {
     "name": "stdout",
     "output_type": "stream",
     "text": [
      "convergence after 17 epochs took 0 seconds\n",
      "sag l2 1.0 500 Logistic Regression F1 Score ->  92.61583011583011\n"
     ]
    },
    {
     "name": "stderr",
     "output_type": "stream",
     "text": [
      "[Parallel(n_jobs=1)]: Done   1 out of   1 | elapsed:    0.3s finished\n",
      "[Parallel(n_jobs=1)]: Using backend SequentialBackend with 1 concurrent workers.\n"
     ]
    },
    {
     "name": "stdout",
     "output_type": "stream",
     "text": [
      "convergence after 17 epochs took 0 seconds\n",
      "sag l2 1.0 1000 Logistic Regression F1 Score ->  92.61583011583011\n"
     ]
    },
    {
     "name": "stderr",
     "output_type": "stream",
     "text": [
      "[Parallel(n_jobs=1)]: Done   1 out of   1 | elapsed:    0.3s finished\n",
      "[Parallel(n_jobs=1)]: Using backend SequentialBackend with 1 concurrent workers.\n"
     ]
    },
    {
     "name": "stdout",
     "output_type": "stream",
     "text": [
      "convergence after 17 epochs took 1 seconds\n",
      "sag l2 1.0 1500 Logistic Regression F1 Score ->  92.61583011583011\n"
     ]
    },
    {
     "name": "stderr",
     "output_type": "stream",
     "text": [
      "[Parallel(n_jobs=1)]: Done   1 out of   1 | elapsed:    0.3s finished\n",
      "[Parallel(n_jobs=1)]: Using backend SequentialBackend with 1 concurrent workers.\n"
     ]
    },
    {
     "name": "stdout",
     "output_type": "stream",
     "text": [
      "convergence after 17 epochs took 0 seconds\n",
      "sag l2 1.0 2500 Logistic Regression F1 Score ->  92.61583011583011\n"
     ]
    },
    {
     "name": "stderr",
     "output_type": "stream",
     "text": [
      "[Parallel(n_jobs=1)]: Done   1 out of   1 | elapsed:    0.3s finished\n",
      "[Parallel(n_jobs=1)]: Using backend SequentialBackend with 1 concurrent workers.\n"
     ]
    },
    {
     "name": "stdout",
     "output_type": "stream",
     "text": [
      "convergence after 22 epochs took 0 seconds\n",
      "sag l2 2.0 250 Logistic Regression F1 Score ->  93.02100941801498\n"
     ]
    },
    {
     "name": "stderr",
     "output_type": "stream",
     "text": [
      "[Parallel(n_jobs=1)]: Done   1 out of   1 | elapsed:    0.4s finished\n",
      "[Parallel(n_jobs=1)]: Using backend SequentialBackend with 1 concurrent workers.\n"
     ]
    },
    {
     "name": "stdout",
     "output_type": "stream",
     "text": [
      "convergence after 22 epochs took 1 seconds\n",
      "sag l2 2.0 500 Logistic Regression F1 Score ->  93.02100941801498\n"
     ]
    },
    {
     "name": "stderr",
     "output_type": "stream",
     "text": [
      "[Parallel(n_jobs=1)]: Done   1 out of   1 | elapsed:    0.4s finished\n",
      "[Parallel(n_jobs=1)]: Using backend SequentialBackend with 1 concurrent workers.\n"
     ]
    },
    {
     "name": "stdout",
     "output_type": "stream",
     "text": [
      "convergence after 22 epochs took 0 seconds\n",
      "sag l2 2.0 1000 Logistic Regression F1 Score ->  93.02100941801498\n"
     ]
    },
    {
     "name": "stderr",
     "output_type": "stream",
     "text": [
      "[Parallel(n_jobs=1)]: Done   1 out of   1 | elapsed:    0.4s finished\n",
      "[Parallel(n_jobs=1)]: Using backend SequentialBackend with 1 concurrent workers.\n"
     ]
    },
    {
     "name": "stdout",
     "output_type": "stream",
     "text": [
      "convergence after 22 epochs took 1 seconds\n",
      "sag l2 2.0 1500 Logistic Regression F1 Score ->  93.02100941801498\n"
     ]
    },
    {
     "name": "stderr",
     "output_type": "stream",
     "text": [
      "[Parallel(n_jobs=1)]: Done   1 out of   1 | elapsed:    0.4s finished\n",
      "[Parallel(n_jobs=1)]: Using backend SequentialBackend with 1 concurrent workers.\n"
     ]
    },
    {
     "name": "stdout",
     "output_type": "stream",
     "text": [
      "convergence after 22 epochs took 0 seconds\n",
      "sag l2 2.0 2500 Logistic Regression F1 Score ->  93.02100941801498\n"
     ]
    },
    {
     "name": "stderr",
     "output_type": "stream",
     "text": [
      "[Parallel(n_jobs=1)]: Done   1 out of   1 | elapsed:    0.4s finished\n",
      "[Parallel(n_jobs=1)]: Using backend SequentialBackend with 1 concurrent workers.\n"
     ]
    },
    {
     "name": "stdout",
     "output_type": "stream",
     "text": [
      "convergence after 25 epochs took 0 seconds\n",
      "sag l2 3.0 250 Logistic Regression F1 Score ->  93.16920106203234\n"
     ]
    },
    {
     "name": "stderr",
     "output_type": "stream",
     "text": [
      "[Parallel(n_jobs=1)]: Done   1 out of   1 | elapsed:    0.5s finished\n",
      "[Parallel(n_jobs=1)]: Using backend SequentialBackend with 1 concurrent workers.\n"
     ]
    },
    {
     "name": "stdout",
     "output_type": "stream",
     "text": [
      "convergence after 25 epochs took 1 seconds\n",
      "sag l2 3.0 500 Logistic Regression F1 Score ->  93.16920106203234\n"
     ]
    },
    {
     "name": "stderr",
     "output_type": "stream",
     "text": [
      "[Parallel(n_jobs=1)]: Done   1 out of   1 | elapsed:    0.5s finished\n",
      "[Parallel(n_jobs=1)]: Using backend SequentialBackend with 1 concurrent workers.\n"
     ]
    },
    {
     "name": "stdout",
     "output_type": "stream",
     "text": [
      "convergence after 25 epochs took 0 seconds\n",
      "sag l2 3.0 1000 Logistic Regression F1 Score ->  93.16920106203234\n"
     ]
    },
    {
     "name": "stderr",
     "output_type": "stream",
     "text": [
      "[Parallel(n_jobs=1)]: Done   1 out of   1 | elapsed:    0.5s finished\n",
      "[Parallel(n_jobs=1)]: Using backend SequentialBackend with 1 concurrent workers.\n"
     ]
    },
    {
     "name": "stdout",
     "output_type": "stream",
     "text": [
      "convergence after 25 epochs took 1 seconds\n",
      "sag l2 3.0 1500 Logistic Regression F1 Score ->  93.16920106203234\n"
     ]
    },
    {
     "name": "stderr",
     "output_type": "stream",
     "text": [
      "[Parallel(n_jobs=1)]: Done   1 out of   1 | elapsed:    0.5s finished\n",
      "[Parallel(n_jobs=1)]: Using backend SequentialBackend with 1 concurrent workers.\n"
     ]
    },
    {
     "name": "stdout",
     "output_type": "stream",
     "text": [
      "convergence after 25 epochs took 0 seconds\n",
      "sag l2 3.0 2500 Logistic Regression F1 Score ->  93.16920106203234\n"
     ]
    },
    {
     "name": "stderr",
     "output_type": "stream",
     "text": [
      "[Parallel(n_jobs=1)]: Done   1 out of   1 | elapsed:    0.4s finished\n",
      "[Parallel(n_jobs=1)]: Using backend SequentialBackend with 1 concurrent workers.\n"
     ]
    },
    {
     "name": "stdout",
     "output_type": "stream",
     "text": [
      "convergence after 27 epochs took 1 seconds\n",
      "sag l2 4.0 250 Logistic Regression F1 Score ->  93.21747525947383\n"
     ]
    },
    {
     "name": "stderr",
     "output_type": "stream",
     "text": [
      "[Parallel(n_jobs=1)]: Done   1 out of   1 | elapsed:    0.5s finished\n",
      "[Parallel(n_jobs=1)]: Using backend SequentialBackend with 1 concurrent workers.\n"
     ]
    },
    {
     "name": "stdout",
     "output_type": "stream",
     "text": [
      "convergence after 27 epochs took 1 seconds\n",
      "sag l2 4.0 500 Logistic Regression F1 Score ->  93.21747525947383\n"
     ]
    },
    {
     "name": "stderr",
     "output_type": "stream",
     "text": [
      "[Parallel(n_jobs=1)]: Done   1 out of   1 | elapsed:    0.6s finished\n",
      "[Parallel(n_jobs=1)]: Using backend SequentialBackend with 1 concurrent workers.\n"
     ]
    },
    {
     "name": "stdout",
     "output_type": "stream",
     "text": [
      "convergence after 27 epochs took 0 seconds\n",
      "sag l2 4.0 1000 Logistic Regression F1 Score ->  93.21747525947383\n"
     ]
    },
    {
     "name": "stderr",
     "output_type": "stream",
     "text": [
      "[Parallel(n_jobs=1)]: Done   1 out of   1 | elapsed:    0.5s finished\n",
      "[Parallel(n_jobs=1)]: Using backend SequentialBackend with 1 concurrent workers.\n"
     ]
    },
    {
     "name": "stdout",
     "output_type": "stream",
     "text": [
      "convergence after 27 epochs took 1 seconds\n",
      "sag l2 4.0 1500 Logistic Regression F1 Score ->  93.21747525947383\n"
     ]
    },
    {
     "name": "stderr",
     "output_type": "stream",
     "text": [
      "[Parallel(n_jobs=1)]: Done   1 out of   1 | elapsed:    0.6s finished\n",
      "[Parallel(n_jobs=1)]: Using backend SequentialBackend with 1 concurrent workers.\n"
     ]
    },
    {
     "name": "stdout",
     "output_type": "stream",
     "text": [
      "convergence after 27 epochs took 0 seconds\n",
      "sag l2 4.0 2500 Logistic Regression F1 Score ->  93.21747525947383\n"
     ]
    },
    {
     "name": "stderr",
     "output_type": "stream",
     "text": [
      "[Parallel(n_jobs=1)]: Done   1 out of   1 | elapsed:    0.6s finished\n",
      "[Parallel(n_jobs=1)]: Using backend SequentialBackend with 1 concurrent workers.\n"
     ]
    },
    {
     "name": "stdout",
     "output_type": "stream",
     "text": [
      "convergence after 27 epochs took 1 seconds\n",
      "sag l2 5.0 250 Logistic Regression F1 Score ->  93.21092051220101\n"
     ]
    },
    {
     "name": "stderr",
     "output_type": "stream",
     "text": [
      "[Parallel(n_jobs=1)]: Done   1 out of   1 | elapsed:    0.6s finished\n",
      "[Parallel(n_jobs=1)]: Using backend SequentialBackend with 1 concurrent workers.\n"
     ]
    },
    {
     "name": "stdout",
     "output_type": "stream",
     "text": [
      "convergence after 27 epochs took 1 seconds\n",
      "sag l2 5.0 500 Logistic Regression F1 Score ->  93.21092051220101\n"
     ]
    },
    {
     "name": "stderr",
     "output_type": "stream",
     "text": [
      "[Parallel(n_jobs=1)]: Done   1 out of   1 | elapsed:    0.8s finished\n",
      "[Parallel(n_jobs=1)]: Using backend SequentialBackend with 1 concurrent workers.\n"
     ]
    },
    {
     "name": "stdout",
     "output_type": "stream",
     "text": [
      "convergence after 27 epochs took 1 seconds\n",
      "sag l2 5.0 1000 Logistic Regression F1 Score ->  93.21092051220101\n"
     ]
    },
    {
     "name": "stderr",
     "output_type": "stream",
     "text": [
      "[Parallel(n_jobs=1)]: Done   1 out of   1 | elapsed:    0.8s finished\n",
      "[Parallel(n_jobs=1)]: Using backend SequentialBackend with 1 concurrent workers.\n"
     ]
    },
    {
     "name": "stdout",
     "output_type": "stream",
     "text": [
      "convergence after 27 epochs took 0 seconds\n",
      "sag l2 5.0 1500 Logistic Regression F1 Score ->  93.21092051220101\n"
     ]
    },
    {
     "name": "stderr",
     "output_type": "stream",
     "text": [
      "[Parallel(n_jobs=1)]: Done   1 out of   1 | elapsed:    0.9s finished\n",
      "[Parallel(n_jobs=1)]: Using backend SequentialBackend with 1 concurrent workers.\n"
     ]
    },
    {
     "name": "stdout",
     "output_type": "stream",
     "text": [
      "convergence after 27 epochs took 1 seconds\n",
      "sag l2 5.0 2500 Logistic Regression F1 Score ->  93.21092051220101\n"
     ]
    },
    {
     "name": "stderr",
     "output_type": "stream",
     "text": [
      "[Parallel(n_jobs=1)]: Done   1 out of   1 | elapsed:    0.7s finished\n",
      "[Parallel(n_jobs=1)]: Using backend SequentialBackend with 1 concurrent workers.\n"
     ]
    },
    {
     "name": "stdout",
     "output_type": "stream",
     "text": [
      "max_iter reached after 5 seconds\n",
      "sag none 1.0 250 Logistic Regression F1 Score ->  92.14885954381754\n"
     ]
    },
    {
     "name": "stderr",
     "output_type": "stream",
     "text": [
      "/Users/humaid/anaconda3/lib/python3.8/site-packages/sklearn/linear_model/_sag.py:328: ConvergenceWarning: The max_iter was reached which means the coef_ did not converge\n",
      "  warnings.warn(\"The max_iter was reached which means \"\n",
      "[Parallel(n_jobs=1)]: Done   1 out of   1 | elapsed:    5.1s finished\n",
      "[Parallel(n_jobs=1)]: Using backend SequentialBackend with 1 concurrent workers.\n"
     ]
    },
    {
     "name": "stdout",
     "output_type": "stream",
     "text": [
      "max_iter reached after 13 seconds\n",
      "sag none 1.0 500 Logistic Regression F1 Score ->  92.17098943323727\n"
     ]
    },
    {
     "name": "stderr",
     "output_type": "stream",
     "text": [
      "/Users/humaid/anaconda3/lib/python3.8/site-packages/sklearn/linear_model/_sag.py:328: ConvergenceWarning: The max_iter was reached which means the coef_ did not converge\n",
      "  warnings.warn(\"The max_iter was reached which means \"\n",
      "[Parallel(n_jobs=1)]: Done   1 out of   1 | elapsed:   12.3s finished\n",
      "[Parallel(n_jobs=1)]: Using backend SequentialBackend with 1 concurrent workers.\n"
     ]
    },
    {
     "name": "stdout",
     "output_type": "stream",
     "text": [
      "max_iter reached after 19 seconds\n",
      "sag none 1.0 1000 Logistic Regression F1 Score ->  92.141312184571\n"
     ]
    },
    {
     "name": "stderr",
     "output_type": "stream",
     "text": [
      "/Users/humaid/anaconda3/lib/python3.8/site-packages/sklearn/linear_model/_sag.py:328: ConvergenceWarning: The max_iter was reached which means the coef_ did not converge\n",
      "  warnings.warn(\"The max_iter was reached which means \"\n",
      "[Parallel(n_jobs=1)]: Done   1 out of   1 | elapsed:   19.0s finished\n",
      "[Parallel(n_jobs=1)]: Using backend SequentialBackend with 1 concurrent workers.\n"
     ]
    },
    {
     "name": "stdout",
     "output_type": "stream",
     "text": [
      "convergence after 1297 epochs took 27 seconds\n",
      "sag none 1.0 1500 Logistic Regression F1 Score ->  92.11538461538461\n"
     ]
    },
    {
     "name": "stderr",
     "output_type": "stream",
     "text": [
      "[Parallel(n_jobs=1)]: Done   1 out of   1 | elapsed:   27.3s finished\n",
      "[Parallel(n_jobs=1)]: Using backend SequentialBackend with 1 concurrent workers.\n"
     ]
    },
    {
     "name": "stdout",
     "output_type": "stream",
     "text": [
      "convergence after 1297 epochs took 28 seconds\n",
      "sag none 1.0 2500 Logistic Regression F1 Score ->  92.11538461538461\n"
     ]
    },
    {
     "name": "stderr",
     "output_type": "stream",
     "text": [
      "[Parallel(n_jobs=1)]: Done   1 out of   1 | elapsed:   27.6s finished\n",
      "/Users/humaid/anaconda3/lib/python3.8/site-packages/sklearn/linear_model/_logistic.py:1322: UserWarning: Setting penalty='none' will ignore the C and l1_ratio parameters\n",
      "  warnings.warn(\n",
      "[Parallel(n_jobs=1)]: Using backend SequentialBackend with 1 concurrent workers.\n"
     ]
    },
    {
     "name": "stdout",
     "output_type": "stream",
     "text": [
      "max_iter reached after 4 seconds\n",
      "sag none 2.0 250 Logistic Regression F1 Score ->  92.14885954381754\n"
     ]
    },
    {
     "name": "stderr",
     "output_type": "stream",
     "text": [
      "/Users/humaid/anaconda3/lib/python3.8/site-packages/sklearn/linear_model/_sag.py:328: ConvergenceWarning: The max_iter was reached which means the coef_ did not converge\n",
      "  warnings.warn(\"The max_iter was reached which means \"\n",
      "[Parallel(n_jobs=1)]: Done   1 out of   1 | elapsed:    4.9s finished\n",
      "/Users/humaid/anaconda3/lib/python3.8/site-packages/sklearn/linear_model/_logistic.py:1322: UserWarning: Setting penalty='none' will ignore the C and l1_ratio parameters\n",
      "  warnings.warn(\n",
      "[Parallel(n_jobs=1)]: Using backend SequentialBackend with 1 concurrent workers.\n"
     ]
    },
    {
     "name": "stdout",
     "output_type": "stream",
     "text": [
      "max_iter reached after 10 seconds\n",
      "sag none 2.0 500 Logistic Regression F1 Score ->  92.17098943323727\n"
     ]
    },
    {
     "name": "stderr",
     "output_type": "stream",
     "text": [
      "/Users/humaid/anaconda3/lib/python3.8/site-packages/sklearn/linear_model/_sag.py:328: ConvergenceWarning: The max_iter was reached which means the coef_ did not converge\n",
      "  warnings.warn(\"The max_iter was reached which means \"\n",
      "[Parallel(n_jobs=1)]: Done   1 out of   1 | elapsed:    9.8s finished\n",
      "/Users/humaid/anaconda3/lib/python3.8/site-packages/sklearn/linear_model/_logistic.py:1322: UserWarning: Setting penalty='none' will ignore the C and l1_ratio parameters\n",
      "  warnings.warn(\n",
      "[Parallel(n_jobs=1)]: Using backend SequentialBackend with 1 concurrent workers.\n"
     ]
    },
    {
     "name": "stdout",
     "output_type": "stream",
     "text": [
      "max_iter reached after 22 seconds\n",
      "sag none 2.0 1000 Logistic Regression F1 Score ->  92.141312184571\n"
     ]
    },
    {
     "name": "stderr",
     "output_type": "stream",
     "text": [
      "/Users/humaid/anaconda3/lib/python3.8/site-packages/sklearn/linear_model/_sag.py:328: ConvergenceWarning: The max_iter was reached which means the coef_ did not converge\n",
      "  warnings.warn(\"The max_iter was reached which means \"\n",
      "[Parallel(n_jobs=1)]: Done   1 out of   1 | elapsed:   21.2s finished\n",
      "/Users/humaid/anaconda3/lib/python3.8/site-packages/sklearn/linear_model/_logistic.py:1322: UserWarning: Setting penalty='none' will ignore the C and l1_ratio parameters\n",
      "  warnings.warn(\n",
      "[Parallel(n_jobs=1)]: Using backend SequentialBackend with 1 concurrent workers.\n"
     ]
    },
    {
     "name": "stdout",
     "output_type": "stream",
     "text": [
      "convergence after 1297 epochs took 28 seconds\n",
      "sag none 2.0 1500 Logistic Regression F1 Score ->  92.11538461538461\n"
     ]
    },
    {
     "name": "stderr",
     "output_type": "stream",
     "text": [
      "[Parallel(n_jobs=1)]: Done   1 out of   1 | elapsed:   28.1s finished\n",
      "/Users/humaid/anaconda3/lib/python3.8/site-packages/sklearn/linear_model/_logistic.py:1322: UserWarning: Setting penalty='none' will ignore the C and l1_ratio parameters\n",
      "  warnings.warn(\n",
      "[Parallel(n_jobs=1)]: Using backend SequentialBackend with 1 concurrent workers.\n"
     ]
    },
    {
     "name": "stdout",
     "output_type": "stream",
     "text": [
      "convergence after 1297 epochs took 29 seconds\n",
      "sag none 2.0 2500 Logistic Regression F1 Score ->  92.11538461538461\n"
     ]
    },
    {
     "name": "stderr",
     "output_type": "stream",
     "text": [
      "[Parallel(n_jobs=1)]: Done   1 out of   1 | elapsed:   29.6s finished\n",
      "/Users/humaid/anaconda3/lib/python3.8/site-packages/sklearn/linear_model/_logistic.py:1322: UserWarning: Setting penalty='none' will ignore the C and l1_ratio parameters\n",
      "  warnings.warn(\n",
      "[Parallel(n_jobs=1)]: Using backend SequentialBackend with 1 concurrent workers.\n"
     ]
    },
    {
     "name": "stdout",
     "output_type": "stream",
     "text": [
      "max_iter reached after 6 seconds\n",
      "sag none 3.0 250 Logistic Regression F1 Score ->  92.14885954381754\n"
     ]
    },
    {
     "name": "stderr",
     "output_type": "stream",
     "text": [
      "/Users/humaid/anaconda3/lib/python3.8/site-packages/sklearn/linear_model/_sag.py:328: ConvergenceWarning: The max_iter was reached which means the coef_ did not converge\n",
      "  warnings.warn(\"The max_iter was reached which means \"\n",
      "[Parallel(n_jobs=1)]: Done   1 out of   1 | elapsed:    5.5s finished\n",
      "/Users/humaid/anaconda3/lib/python3.8/site-packages/sklearn/linear_model/_logistic.py:1322: UserWarning: Setting penalty='none' will ignore the C and l1_ratio parameters\n",
      "  warnings.warn(\n",
      "[Parallel(n_jobs=1)]: Using backend SequentialBackend with 1 concurrent workers.\n"
     ]
    },
    {
     "name": "stdout",
     "output_type": "stream",
     "text": [
      "max_iter reached after 10 seconds\n",
      "sag none 3.0 500 Logistic Regression F1 Score ->  92.17098943323727\n"
     ]
    },
    {
     "name": "stderr",
     "output_type": "stream",
     "text": [
      "/Users/humaid/anaconda3/lib/python3.8/site-packages/sklearn/linear_model/_sag.py:328: ConvergenceWarning: The max_iter was reached which means the coef_ did not converge\n",
      "  warnings.warn(\"The max_iter was reached which means \"\n",
      "[Parallel(n_jobs=1)]: Done   1 out of   1 | elapsed:   10.6s finished\n",
      "/Users/humaid/anaconda3/lib/python3.8/site-packages/sklearn/linear_model/_logistic.py:1322: UserWarning: Setting penalty='none' will ignore the C and l1_ratio parameters\n",
      "  warnings.warn(\n",
      "[Parallel(n_jobs=1)]: Using backend SequentialBackend with 1 concurrent workers.\n"
     ]
    },
    {
     "name": "stdout",
     "output_type": "stream",
     "text": [
      "max_iter reached after 18 seconds\n",
      "sag none 3.0 1000 Logistic Regression F1 Score ->  92.141312184571\n"
     ]
    },
    {
     "name": "stderr",
     "output_type": "stream",
     "text": [
      "/Users/humaid/anaconda3/lib/python3.8/site-packages/sklearn/linear_model/_sag.py:328: ConvergenceWarning: The max_iter was reached which means the coef_ did not converge\n",
      "  warnings.warn(\"The max_iter was reached which means \"\n",
      "[Parallel(n_jobs=1)]: Done   1 out of   1 | elapsed:   18.0s finished\n",
      "/Users/humaid/anaconda3/lib/python3.8/site-packages/sklearn/linear_model/_logistic.py:1322: UserWarning: Setting penalty='none' will ignore the C and l1_ratio parameters\n",
      "  warnings.warn(\n",
      "[Parallel(n_jobs=1)]: Using backend SequentialBackend with 1 concurrent workers.\n"
     ]
    },
    {
     "name": "stdout",
     "output_type": "stream",
     "text": [
      "convergence after 1297 epochs took 27 seconds\n",
      "sag none 3.0 1500 Logistic Regression F1 Score ->  92.11538461538461\n"
     ]
    },
    {
     "name": "stderr",
     "output_type": "stream",
     "text": [
      "[Parallel(n_jobs=1)]: Done   1 out of   1 | elapsed:   26.9s finished\n",
      "/Users/humaid/anaconda3/lib/python3.8/site-packages/sklearn/linear_model/_logistic.py:1322: UserWarning: Setting penalty='none' will ignore the C and l1_ratio parameters\n",
      "  warnings.warn(\n",
      "[Parallel(n_jobs=1)]: Using backend SequentialBackend with 1 concurrent workers.\n"
     ]
    },
    {
     "name": "stdout",
     "output_type": "stream",
     "text": [
      "convergence after 1297 epochs took 28 seconds\n",
      "sag none 3.0 2500 Logistic Regression F1 Score ->  92.11538461538461\n"
     ]
    },
    {
     "name": "stderr",
     "output_type": "stream",
     "text": [
      "[Parallel(n_jobs=1)]: Done   1 out of   1 | elapsed:   27.1s finished\n",
      "/Users/humaid/anaconda3/lib/python3.8/site-packages/sklearn/linear_model/_logistic.py:1322: UserWarning: Setting penalty='none' will ignore the C and l1_ratio parameters\n",
      "  warnings.warn(\n",
      "[Parallel(n_jobs=1)]: Using backend SequentialBackend with 1 concurrent workers.\n"
     ]
    },
    {
     "name": "stdout",
     "output_type": "stream",
     "text": [
      "max_iter reached after 5 seconds\n",
      "sag none 4.0 250 Logistic Regression F1 Score ->  92.14885954381754\n"
     ]
    },
    {
     "name": "stderr",
     "output_type": "stream",
     "text": [
      "/Users/humaid/anaconda3/lib/python3.8/site-packages/sklearn/linear_model/_sag.py:328: ConvergenceWarning: The max_iter was reached which means the coef_ did not converge\n",
      "  warnings.warn(\"The max_iter was reached which means \"\n",
      "[Parallel(n_jobs=1)]: Done   1 out of   1 | elapsed:    5.2s finished\n",
      "/Users/humaid/anaconda3/lib/python3.8/site-packages/sklearn/linear_model/_logistic.py:1322: UserWarning: Setting penalty='none' will ignore the C and l1_ratio parameters\n",
      "  warnings.warn(\n",
      "[Parallel(n_jobs=1)]: Using backend SequentialBackend with 1 concurrent workers.\n"
     ]
    },
    {
     "name": "stdout",
     "output_type": "stream",
     "text": [
      "max_iter reached after 11 seconds\n",
      "sag none 4.0 500 Logistic Regression F1 Score ->  92.17098943323727\n"
     ]
    },
    {
     "name": "stderr",
     "output_type": "stream",
     "text": [
      "/Users/humaid/anaconda3/lib/python3.8/site-packages/sklearn/linear_model/_sag.py:328: ConvergenceWarning: The max_iter was reached which means the coef_ did not converge\n",
      "  warnings.warn(\"The max_iter was reached which means \"\n",
      "[Parallel(n_jobs=1)]: Done   1 out of   1 | elapsed:   10.8s finished\n",
      "/Users/humaid/anaconda3/lib/python3.8/site-packages/sklearn/linear_model/_logistic.py:1322: UserWarning: Setting penalty='none' will ignore the C and l1_ratio parameters\n",
      "  warnings.warn(\n",
      "[Parallel(n_jobs=1)]: Using backend SequentialBackend with 1 concurrent workers.\n"
     ]
    },
    {
     "name": "stdout",
     "output_type": "stream",
     "text": [
      "max_iter reached after 21 seconds\n",
      "sag none 4.0 1000 Logistic Regression F1 Score ->  92.141312184571\n"
     ]
    },
    {
     "name": "stderr",
     "output_type": "stream",
     "text": [
      "/Users/humaid/anaconda3/lib/python3.8/site-packages/sklearn/linear_model/_sag.py:328: ConvergenceWarning: The max_iter was reached which means the coef_ did not converge\n",
      "  warnings.warn(\"The max_iter was reached which means \"\n",
      "[Parallel(n_jobs=1)]: Done   1 out of   1 | elapsed:   21.9s finished\n",
      "/Users/humaid/anaconda3/lib/python3.8/site-packages/sklearn/linear_model/_logistic.py:1322: UserWarning: Setting penalty='none' will ignore the C and l1_ratio parameters\n",
      "  warnings.warn(\n",
      "[Parallel(n_jobs=1)]: Using backend SequentialBackend with 1 concurrent workers.\n"
     ]
    },
    {
     "name": "stdout",
     "output_type": "stream",
     "text": [
      "convergence after 1297 epochs took 27 seconds\n",
      "sag none 4.0 1500 Logistic Regression F1 Score ->  92.11538461538461\n"
     ]
    },
    {
     "name": "stderr",
     "output_type": "stream",
     "text": [
      "[Parallel(n_jobs=1)]: Done   1 out of   1 | elapsed:   26.4s finished\n",
      "/Users/humaid/anaconda3/lib/python3.8/site-packages/sklearn/linear_model/_logistic.py:1322: UserWarning: Setting penalty='none' will ignore the C and l1_ratio parameters\n",
      "  warnings.warn(\n",
      "[Parallel(n_jobs=1)]: Using backend SequentialBackend with 1 concurrent workers.\n"
     ]
    },
    {
     "name": "stdout",
     "output_type": "stream",
     "text": [
      "convergence after 1297 epochs took 24 seconds\n",
      "sag none 4.0 2500 Logistic Regression F1 Score ->  92.11538461538461\n"
     ]
    },
    {
     "name": "stderr",
     "output_type": "stream",
     "text": [
      "[Parallel(n_jobs=1)]: Done   1 out of   1 | elapsed:   24.1s finished\n",
      "/Users/humaid/anaconda3/lib/python3.8/site-packages/sklearn/linear_model/_logistic.py:1322: UserWarning: Setting penalty='none' will ignore the C and l1_ratio parameters\n",
      "  warnings.warn(\n",
      "[Parallel(n_jobs=1)]: Using backend SequentialBackend with 1 concurrent workers.\n"
     ]
    },
    {
     "name": "stdout",
     "output_type": "stream",
     "text": [
      "max_iter reached after 5 seconds\n",
      "sag none 5.0 250 Logistic Regression F1 Score ->  92.14885954381754\n"
     ]
    },
    {
     "name": "stderr",
     "output_type": "stream",
     "text": [
      "/Users/humaid/anaconda3/lib/python3.8/site-packages/sklearn/linear_model/_sag.py:328: ConvergenceWarning: The max_iter was reached which means the coef_ did not converge\n",
      "  warnings.warn(\"The max_iter was reached which means \"\n",
      "[Parallel(n_jobs=1)]: Done   1 out of   1 | elapsed:    5.2s finished\n",
      "/Users/humaid/anaconda3/lib/python3.8/site-packages/sklearn/linear_model/_logistic.py:1322: UserWarning: Setting penalty='none' will ignore the C and l1_ratio parameters\n",
      "  warnings.warn(\n",
      "[Parallel(n_jobs=1)]: Using backend SequentialBackend with 1 concurrent workers.\n"
     ]
    },
    {
     "name": "stdout",
     "output_type": "stream",
     "text": [
      "max_iter reached after 11 seconds\n",
      "sag none 5.0 500 Logistic Regression F1 Score ->  92.17098943323727\n"
     ]
    },
    {
     "name": "stderr",
     "output_type": "stream",
     "text": [
      "/Users/humaid/anaconda3/lib/python3.8/site-packages/sklearn/linear_model/_sag.py:328: ConvergenceWarning: The max_iter was reached which means the coef_ did not converge\n",
      "  warnings.warn(\"The max_iter was reached which means \"\n",
      "[Parallel(n_jobs=1)]: Done   1 out of   1 | elapsed:   10.7s finished\n",
      "/Users/humaid/anaconda3/lib/python3.8/site-packages/sklearn/linear_model/_logistic.py:1322: UserWarning: Setting penalty='none' will ignore the C and l1_ratio parameters\n",
      "  warnings.warn(\n",
      "[Parallel(n_jobs=1)]: Using backend SequentialBackend with 1 concurrent workers.\n"
     ]
    },
    {
     "name": "stdout",
     "output_type": "stream",
     "text": [
      "max_iter reached after 21 seconds\n",
      "sag none 5.0 1000 Logistic Regression F1 Score ->  92.141312184571\n"
     ]
    },
    {
     "name": "stderr",
     "output_type": "stream",
     "text": [
      "/Users/humaid/anaconda3/lib/python3.8/site-packages/sklearn/linear_model/_sag.py:328: ConvergenceWarning: The max_iter was reached which means the coef_ did not converge\n",
      "  warnings.warn(\"The max_iter was reached which means \"\n",
      "[Parallel(n_jobs=1)]: Done   1 out of   1 | elapsed:   20.5s finished\n",
      "/Users/humaid/anaconda3/lib/python3.8/site-packages/sklearn/linear_model/_logistic.py:1322: UserWarning: Setting penalty='none' will ignore the C and l1_ratio parameters\n",
      "  warnings.warn(\n",
      "[Parallel(n_jobs=1)]: Using backend SequentialBackend with 1 concurrent workers.\n"
     ]
    },
    {
     "name": "stdout",
     "output_type": "stream",
     "text": [
      "convergence after 1297 epochs took 26 seconds\n",
      "sag none 5.0 1500 Logistic Regression F1 Score ->  92.11538461538461\n"
     ]
    },
    {
     "name": "stderr",
     "output_type": "stream",
     "text": [
      "[Parallel(n_jobs=1)]: Done   1 out of   1 | elapsed:   26.6s finished\n",
      "/Users/humaid/anaconda3/lib/python3.8/site-packages/sklearn/linear_model/_logistic.py:1322: UserWarning: Setting penalty='none' will ignore the C and l1_ratio parameters\n",
      "  warnings.warn(\n",
      "[Parallel(n_jobs=1)]: Using backend SequentialBackend with 1 concurrent workers.\n"
     ]
    },
    {
     "name": "stdout",
     "output_type": "stream",
     "text": [
      "convergence after 1297 epochs took 26 seconds\n",
      "sag none 5.0 2500 Logistic Regression F1 Score ->  92.11538461538461\n"
     ]
    },
    {
     "name": "stderr",
     "output_type": "stream",
     "text": [
      "[Parallel(n_jobs=1)]: Done   1 out of   1 | elapsed:   26.3s finished\n",
      "[Parallel(n_jobs=1)]: Using backend SequentialBackend with 1 concurrent workers.\n",
      "[Parallel(n_jobs=1)]: Done   1 out of   1 | elapsed:    0.7s finished\n",
      "[Parallel(n_jobs=1)]: Using backend SequentialBackend with 1 concurrent workers.\n"
     ]
    },
    {
     "name": "stdout",
     "output_type": "stream",
     "text": [
      "newton-cg l2 1.0 250 Logistic Regression F1 Score ->  92.61583011583011\n"
     ]
    },
    {
     "name": "stderr",
     "output_type": "stream",
     "text": [
      "[Parallel(n_jobs=1)]: Done   1 out of   1 | elapsed:    0.7s finished\n",
      "[Parallel(n_jobs=1)]: Using backend SequentialBackend with 1 concurrent workers.\n"
     ]
    },
    {
     "name": "stdout",
     "output_type": "stream",
     "text": [
      "newton-cg l2 1.0 500 Logistic Regression F1 Score ->  92.61583011583011\n"
     ]
    },
    {
     "name": "stderr",
     "output_type": "stream",
     "text": [
      "[Parallel(n_jobs=1)]: Done   1 out of   1 | elapsed:    0.7s finished\n",
      "[Parallel(n_jobs=1)]: Using backend SequentialBackend with 1 concurrent workers.\n"
     ]
    },
    {
     "name": "stdout",
     "output_type": "stream",
     "text": [
      "newton-cg l2 1.0 1000 Logistic Regression F1 Score ->  92.61583011583011\n"
     ]
    },
    {
     "name": "stderr",
     "output_type": "stream",
     "text": [
      "[Parallel(n_jobs=1)]: Done   1 out of   1 | elapsed:    0.7s finished\n",
      "[Parallel(n_jobs=1)]: Using backend SequentialBackend with 1 concurrent workers.\n"
     ]
    },
    {
     "name": "stdout",
     "output_type": "stream",
     "text": [
      "newton-cg l2 1.0 1500 Logistic Regression F1 Score ->  92.61583011583011\n"
     ]
    },
    {
     "name": "stderr",
     "output_type": "stream",
     "text": [
      "[Parallel(n_jobs=1)]: Done   1 out of   1 | elapsed:    0.7s finished\n",
      "[Parallel(n_jobs=1)]: Using backend SequentialBackend with 1 concurrent workers.\n"
     ]
    },
    {
     "name": "stdout",
     "output_type": "stream",
     "text": [
      "newton-cg l2 1.0 2500 Logistic Regression F1 Score ->  92.61583011583011\n"
     ]
    },
    {
     "name": "stderr",
     "output_type": "stream",
     "text": [
      "[Parallel(n_jobs=1)]: Done   1 out of   1 | elapsed:    0.7s finished\n",
      "[Parallel(n_jobs=1)]: Using backend SequentialBackend with 1 concurrent workers.\n"
     ]
    },
    {
     "name": "stdout",
     "output_type": "stream",
     "text": [
      "newton-cg l2 2.0 250 Logistic Regression F1 Score ->  93.02100941801498\n"
     ]
    },
    {
     "name": "stderr",
     "output_type": "stream",
     "text": [
      "[Parallel(n_jobs=1)]: Done   1 out of   1 | elapsed:    0.7s finished\n",
      "[Parallel(n_jobs=1)]: Using backend SequentialBackend with 1 concurrent workers.\n"
     ]
    },
    {
     "name": "stdout",
     "output_type": "stream",
     "text": [
      "newton-cg l2 2.0 500 Logistic Regression F1 Score ->  93.02100941801498\n"
     ]
    },
    {
     "name": "stderr",
     "output_type": "stream",
     "text": [
      "[Parallel(n_jobs=1)]: Done   1 out of   1 | elapsed:    0.7s finished\n",
      "[Parallel(n_jobs=1)]: Using backend SequentialBackend with 1 concurrent workers.\n"
     ]
    },
    {
     "name": "stdout",
     "output_type": "stream",
     "text": [
      "newton-cg l2 2.0 1000 Logistic Regression F1 Score ->  93.02100941801498\n"
     ]
    },
    {
     "name": "stderr",
     "output_type": "stream",
     "text": [
      "[Parallel(n_jobs=1)]: Done   1 out of   1 | elapsed:    0.7s finished\n",
      "[Parallel(n_jobs=1)]: Using backend SequentialBackend with 1 concurrent workers.\n"
     ]
    },
    {
     "name": "stdout",
     "output_type": "stream",
     "text": [
      "newton-cg l2 2.0 1500 Logistic Regression F1 Score ->  93.02100941801498\n"
     ]
    },
    {
     "name": "stderr",
     "output_type": "stream",
     "text": [
      "[Parallel(n_jobs=1)]: Done   1 out of   1 | elapsed:    0.7s finished\n",
      "[Parallel(n_jobs=1)]: Using backend SequentialBackend with 1 concurrent workers.\n"
     ]
    },
    {
     "name": "stdout",
     "output_type": "stream",
     "text": [
      "newton-cg l2 2.0 2500 Logistic Regression F1 Score ->  93.02100941801498\n"
     ]
    },
    {
     "name": "stderr",
     "output_type": "stream",
     "text": [
      "[Parallel(n_jobs=1)]: Done   1 out of   1 | elapsed:    0.8s finished\n",
      "[Parallel(n_jobs=1)]: Using backend SequentialBackend with 1 concurrent workers.\n"
     ]
    },
    {
     "name": "stdout",
     "output_type": "stream",
     "text": [
      "newton-cg l2 3.0 250 Logistic Regression F1 Score ->  93.16920106203234\n"
     ]
    },
    {
     "name": "stderr",
     "output_type": "stream",
     "text": [
      "[Parallel(n_jobs=1)]: Done   1 out of   1 | elapsed:    0.8s finished\n",
      "[Parallel(n_jobs=1)]: Using backend SequentialBackend with 1 concurrent workers.\n"
     ]
    },
    {
     "name": "stdout",
     "output_type": "stream",
     "text": [
      "newton-cg l2 3.0 500 Logistic Regression F1 Score ->  93.16920106203234\n"
     ]
    },
    {
     "name": "stderr",
     "output_type": "stream",
     "text": [
      "[Parallel(n_jobs=1)]: Done   1 out of   1 | elapsed:    0.7s finished\n",
      "[Parallel(n_jobs=1)]: Using backend SequentialBackend with 1 concurrent workers.\n"
     ]
    },
    {
     "name": "stdout",
     "output_type": "stream",
     "text": [
      "newton-cg l2 3.0 1000 Logistic Regression F1 Score ->  93.16920106203234\n"
     ]
    },
    {
     "name": "stderr",
     "output_type": "stream",
     "text": [
      "[Parallel(n_jobs=1)]: Done   1 out of   1 | elapsed:    0.7s finished\n",
      "[Parallel(n_jobs=1)]: Using backend SequentialBackend with 1 concurrent workers.\n"
     ]
    },
    {
     "name": "stdout",
     "output_type": "stream",
     "text": [
      "newton-cg l2 3.0 1500 Logistic Regression F1 Score ->  93.16920106203234\n"
     ]
    },
    {
     "name": "stderr",
     "output_type": "stream",
     "text": [
      "[Parallel(n_jobs=1)]: Done   1 out of   1 | elapsed:    0.8s finished\n",
      "[Parallel(n_jobs=1)]: Using backend SequentialBackend with 1 concurrent workers.\n"
     ]
    },
    {
     "name": "stdout",
     "output_type": "stream",
     "text": [
      "newton-cg l2 3.0 2500 Logistic Regression F1 Score ->  93.16920106203234\n"
     ]
    },
    {
     "name": "stderr",
     "output_type": "stream",
     "text": [
      "[Parallel(n_jobs=1)]: Done   1 out of   1 | elapsed:    0.8s finished\n",
      "[Parallel(n_jobs=1)]: Using backend SequentialBackend with 1 concurrent workers.\n"
     ]
    },
    {
     "name": "stdout",
     "output_type": "stream",
     "text": [
      "newton-cg l2 4.0 250 Logistic Regression F1 Score ->  93.21747525947383\n"
     ]
    },
    {
     "name": "stderr",
     "output_type": "stream",
     "text": [
      "[Parallel(n_jobs=1)]: Done   1 out of   1 | elapsed:    0.8s finished\n",
      "[Parallel(n_jobs=1)]: Using backend SequentialBackend with 1 concurrent workers.\n"
     ]
    },
    {
     "name": "stdout",
     "output_type": "stream",
     "text": [
      "newton-cg l2 4.0 500 Logistic Regression F1 Score ->  93.21747525947383\n"
     ]
    },
    {
     "name": "stderr",
     "output_type": "stream",
     "text": [
      "[Parallel(n_jobs=1)]: Done   1 out of   1 | elapsed:    0.8s finished\n",
      "[Parallel(n_jobs=1)]: Using backend SequentialBackend with 1 concurrent workers.\n"
     ]
    },
    {
     "name": "stdout",
     "output_type": "stream",
     "text": [
      "newton-cg l2 4.0 1000 Logistic Regression F1 Score ->  93.21747525947383\n"
     ]
    },
    {
     "name": "stderr",
     "output_type": "stream",
     "text": [
      "[Parallel(n_jobs=1)]: Done   1 out of   1 | elapsed:    0.8s finished\n",
      "[Parallel(n_jobs=1)]: Using backend SequentialBackend with 1 concurrent workers.\n"
     ]
    },
    {
     "name": "stdout",
     "output_type": "stream",
     "text": [
      "newton-cg l2 4.0 1500 Logistic Regression F1 Score ->  93.21747525947383\n"
     ]
    },
    {
     "name": "stderr",
     "output_type": "stream",
     "text": [
      "[Parallel(n_jobs=1)]: Done   1 out of   1 | elapsed:    0.8s finished\n",
      "[Parallel(n_jobs=1)]: Using backend SequentialBackend with 1 concurrent workers.\n"
     ]
    },
    {
     "name": "stdout",
     "output_type": "stream",
     "text": [
      "newton-cg l2 4.0 2500 Logistic Regression F1 Score ->  93.21747525947383\n"
     ]
    },
    {
     "name": "stderr",
     "output_type": "stream",
     "text": [
      "[Parallel(n_jobs=1)]: Done   1 out of   1 | elapsed:    0.8s finished\n",
      "[Parallel(n_jobs=1)]: Using backend SequentialBackend with 1 concurrent workers.\n"
     ]
    },
    {
     "name": "stdout",
     "output_type": "stream",
     "text": [
      "newton-cg l2 5.0 250 Logistic Regression F1 Score ->  93.21092051220101\n"
     ]
    },
    {
     "name": "stderr",
     "output_type": "stream",
     "text": [
      "[Parallel(n_jobs=1)]: Done   1 out of   1 | elapsed:    0.8s finished\n",
      "[Parallel(n_jobs=1)]: Using backend SequentialBackend with 1 concurrent workers.\n"
     ]
    },
    {
     "name": "stdout",
     "output_type": "stream",
     "text": [
      "newton-cg l2 5.0 500 Logistic Regression F1 Score ->  93.21092051220101\n"
     ]
    },
    {
     "name": "stderr",
     "output_type": "stream",
     "text": [
      "[Parallel(n_jobs=1)]: Done   1 out of   1 | elapsed:    0.8s finished\n",
      "[Parallel(n_jobs=1)]: Using backend SequentialBackend with 1 concurrent workers.\n"
     ]
    },
    {
     "name": "stdout",
     "output_type": "stream",
     "text": [
      "newton-cg l2 5.0 1000 Logistic Regression F1 Score ->  93.21092051220101\n"
     ]
    },
    {
     "name": "stderr",
     "output_type": "stream",
     "text": [
      "[Parallel(n_jobs=1)]: Done   1 out of   1 | elapsed:    0.8s finished\n",
      "[Parallel(n_jobs=1)]: Using backend SequentialBackend with 1 concurrent workers.\n"
     ]
    },
    {
     "name": "stdout",
     "output_type": "stream",
     "text": [
      "newton-cg l2 5.0 1500 Logistic Regression F1 Score ->  93.21092051220101\n"
     ]
    },
    {
     "name": "stderr",
     "output_type": "stream",
     "text": [
      "[Parallel(n_jobs=1)]: Done   1 out of   1 | elapsed:    0.8s finished\n",
      "[Parallel(n_jobs=1)]: Using backend SequentialBackend with 1 concurrent workers.\n"
     ]
    },
    {
     "name": "stdout",
     "output_type": "stream",
     "text": [
      "newton-cg l2 5.0 2500 Logistic Regression F1 Score ->  93.21092051220101\n"
     ]
    },
    {
     "name": "stderr",
     "output_type": "stream",
     "text": [
      "[Parallel(n_jobs=1)]: Done   1 out of   1 | elapsed:    1.4s finished\n",
      "[Parallel(n_jobs=1)]: Using backend SequentialBackend with 1 concurrent workers.\n"
     ]
    },
    {
     "name": "stdout",
     "output_type": "stream",
     "text": [
      "newton-cg none 1.0 250 Logistic Regression F1 Score ->  91.75678923335737\n"
     ]
    },
    {
     "name": "stderr",
     "output_type": "stream",
     "text": [
      "[Parallel(n_jobs=1)]: Done   1 out of   1 | elapsed:    1.4s finished\n",
      "[Parallel(n_jobs=1)]: Using backend SequentialBackend with 1 concurrent workers.\n"
     ]
    },
    {
     "name": "stdout",
     "output_type": "stream",
     "text": [
      "newton-cg none 1.0 500 Logistic Regression F1 Score ->  91.75678923335737\n"
     ]
    },
    {
     "name": "stderr",
     "output_type": "stream",
     "text": [
      "[Parallel(n_jobs=1)]: Done   1 out of   1 | elapsed:    1.4s finished\n",
      "[Parallel(n_jobs=1)]: Using backend SequentialBackend with 1 concurrent workers.\n"
     ]
    },
    {
     "name": "stdout",
     "output_type": "stream",
     "text": [
      "newton-cg none 1.0 1000 Logistic Regression F1 Score ->  91.75678923335737\n"
     ]
    },
    {
     "name": "stderr",
     "output_type": "stream",
     "text": [
      "[Parallel(n_jobs=1)]: Done   1 out of   1 | elapsed:    1.4s finished\n",
      "[Parallel(n_jobs=1)]: Using backend SequentialBackend with 1 concurrent workers.\n"
     ]
    },
    {
     "name": "stdout",
     "output_type": "stream",
     "text": [
      "newton-cg none 1.0 1500 Logistic Regression F1 Score ->  91.75678923335737\n"
     ]
    },
    {
     "name": "stderr",
     "output_type": "stream",
     "text": [
      "[Parallel(n_jobs=1)]: Done   1 out of   1 | elapsed:    1.5s finished\n",
      "/Users/humaid/anaconda3/lib/python3.8/site-packages/sklearn/linear_model/_logistic.py:1322: UserWarning: Setting penalty='none' will ignore the C and l1_ratio parameters\n",
      "  warnings.warn(\n",
      "[Parallel(n_jobs=1)]: Using backend SequentialBackend with 1 concurrent workers.\n"
     ]
    },
    {
     "name": "stdout",
     "output_type": "stream",
     "text": [
      "newton-cg none 1.0 2500 Logistic Regression F1 Score ->  91.75678923335737\n"
     ]
    },
    {
     "name": "stderr",
     "output_type": "stream",
     "text": [
      "[Parallel(n_jobs=1)]: Done   1 out of   1 | elapsed:    1.4s finished\n",
      "/Users/humaid/anaconda3/lib/python3.8/site-packages/sklearn/linear_model/_logistic.py:1322: UserWarning: Setting penalty='none' will ignore the C and l1_ratio parameters\n",
      "  warnings.warn(\n",
      "[Parallel(n_jobs=1)]: Using backend SequentialBackend with 1 concurrent workers.\n"
     ]
    },
    {
     "name": "stdout",
     "output_type": "stream",
     "text": [
      "newton-cg none 2.0 250 Logistic Regression F1 Score ->  91.75678923335737\n"
     ]
    },
    {
     "name": "stderr",
     "output_type": "stream",
     "text": [
      "[Parallel(n_jobs=1)]: Done   1 out of   1 | elapsed:    1.4s finished\n",
      "/Users/humaid/anaconda3/lib/python3.8/site-packages/sklearn/linear_model/_logistic.py:1322: UserWarning: Setting penalty='none' will ignore the C and l1_ratio parameters\n",
      "  warnings.warn(\n",
      "[Parallel(n_jobs=1)]: Using backend SequentialBackend with 1 concurrent workers.\n"
     ]
    },
    {
     "name": "stdout",
     "output_type": "stream",
     "text": [
      "newton-cg none 2.0 500 Logistic Regression F1 Score ->  91.75678923335737\n"
     ]
    },
    {
     "name": "stderr",
     "output_type": "stream",
     "text": [
      "[Parallel(n_jobs=1)]: Done   1 out of   1 | elapsed:    1.4s finished\n",
      "/Users/humaid/anaconda3/lib/python3.8/site-packages/sklearn/linear_model/_logistic.py:1322: UserWarning: Setting penalty='none' will ignore the C and l1_ratio parameters\n",
      "  warnings.warn(\n",
      "[Parallel(n_jobs=1)]: Using backend SequentialBackend with 1 concurrent workers.\n"
     ]
    },
    {
     "name": "stdout",
     "output_type": "stream",
     "text": [
      "newton-cg none 2.0 1000 Logistic Regression F1 Score ->  91.75678923335737\n"
     ]
    },
    {
     "name": "stderr",
     "output_type": "stream",
     "text": [
      "[Parallel(n_jobs=1)]: Done   1 out of   1 | elapsed:    1.4s finished\n",
      "/Users/humaid/anaconda3/lib/python3.8/site-packages/sklearn/linear_model/_logistic.py:1322: UserWarning: Setting penalty='none' will ignore the C and l1_ratio parameters\n",
      "  warnings.warn(\n",
      "[Parallel(n_jobs=1)]: Using backend SequentialBackend with 1 concurrent workers.\n"
     ]
    },
    {
     "name": "stdout",
     "output_type": "stream",
     "text": [
      "newton-cg none 2.0 1500 Logistic Regression F1 Score ->  91.75678923335737\n"
     ]
    },
    {
     "name": "stderr",
     "output_type": "stream",
     "text": [
      "[Parallel(n_jobs=1)]: Done   1 out of   1 | elapsed:    1.4s finished\n",
      "/Users/humaid/anaconda3/lib/python3.8/site-packages/sklearn/linear_model/_logistic.py:1322: UserWarning: Setting penalty='none' will ignore the C and l1_ratio parameters\n",
      "  warnings.warn(\n",
      "[Parallel(n_jobs=1)]: Using backend SequentialBackend with 1 concurrent workers.\n"
     ]
    },
    {
     "name": "stdout",
     "output_type": "stream",
     "text": [
      "newton-cg none 2.0 2500 Logistic Regression F1 Score ->  91.75678923335737\n"
     ]
    },
    {
     "name": "stderr",
     "output_type": "stream",
     "text": [
      "[Parallel(n_jobs=1)]: Done   1 out of   1 | elapsed:    1.4s finished\n",
      "/Users/humaid/anaconda3/lib/python3.8/site-packages/sklearn/linear_model/_logistic.py:1322: UserWarning: Setting penalty='none' will ignore the C and l1_ratio parameters\n",
      "  warnings.warn(\n",
      "[Parallel(n_jobs=1)]: Using backend SequentialBackend with 1 concurrent workers.\n"
     ]
    },
    {
     "name": "stdout",
     "output_type": "stream",
     "text": [
      "newton-cg none 3.0 250 Logistic Regression F1 Score ->  91.75678923335737\n"
     ]
    },
    {
     "name": "stderr",
     "output_type": "stream",
     "text": [
      "[Parallel(n_jobs=1)]: Done   1 out of   1 | elapsed:    1.4s finished\n",
      "/Users/humaid/anaconda3/lib/python3.8/site-packages/sklearn/linear_model/_logistic.py:1322: UserWarning: Setting penalty='none' will ignore the C and l1_ratio parameters\n",
      "  warnings.warn(\n",
      "[Parallel(n_jobs=1)]: Using backend SequentialBackend with 1 concurrent workers.\n"
     ]
    },
    {
     "name": "stdout",
     "output_type": "stream",
     "text": [
      "newton-cg none 3.0 500 Logistic Regression F1 Score ->  91.75678923335737\n"
     ]
    },
    {
     "name": "stderr",
     "output_type": "stream",
     "text": [
      "[Parallel(n_jobs=1)]: Done   1 out of   1 | elapsed:    1.4s finished\n",
      "/Users/humaid/anaconda3/lib/python3.8/site-packages/sklearn/linear_model/_logistic.py:1322: UserWarning: Setting penalty='none' will ignore the C and l1_ratio parameters\n",
      "  warnings.warn(\n",
      "[Parallel(n_jobs=1)]: Using backend SequentialBackend with 1 concurrent workers.\n"
     ]
    },
    {
     "name": "stdout",
     "output_type": "stream",
     "text": [
      "newton-cg none 3.0 1000 Logistic Regression F1 Score ->  91.75678923335737\n"
     ]
    },
    {
     "name": "stderr",
     "output_type": "stream",
     "text": [
      "[Parallel(n_jobs=1)]: Done   1 out of   1 | elapsed:    1.4s finished\n",
      "/Users/humaid/anaconda3/lib/python3.8/site-packages/sklearn/linear_model/_logistic.py:1322: UserWarning: Setting penalty='none' will ignore the C and l1_ratio parameters\n",
      "  warnings.warn(\n",
      "[Parallel(n_jobs=1)]: Using backend SequentialBackend with 1 concurrent workers.\n"
     ]
    },
    {
     "name": "stdout",
     "output_type": "stream",
     "text": [
      "newton-cg none 3.0 1500 Logistic Regression F1 Score ->  91.75678923335737\n"
     ]
    },
    {
     "name": "stderr",
     "output_type": "stream",
     "text": [
      "[Parallel(n_jobs=1)]: Done   1 out of   1 | elapsed:    1.4s finished\n",
      "/Users/humaid/anaconda3/lib/python3.8/site-packages/sklearn/linear_model/_logistic.py:1322: UserWarning: Setting penalty='none' will ignore the C and l1_ratio parameters\n",
      "  warnings.warn(\n",
      "[Parallel(n_jobs=1)]: Using backend SequentialBackend with 1 concurrent workers.\n"
     ]
    },
    {
     "name": "stdout",
     "output_type": "stream",
     "text": [
      "newton-cg none 3.0 2500 Logistic Regression F1 Score ->  91.75678923335737\n"
     ]
    },
    {
     "name": "stderr",
     "output_type": "stream",
     "text": [
      "[Parallel(n_jobs=1)]: Done   1 out of   1 | elapsed:    1.4s finished\n",
      "/Users/humaid/anaconda3/lib/python3.8/site-packages/sklearn/linear_model/_logistic.py:1322: UserWarning: Setting penalty='none' will ignore the C and l1_ratio parameters\n",
      "  warnings.warn(\n",
      "[Parallel(n_jobs=1)]: Using backend SequentialBackend with 1 concurrent workers.\n"
     ]
    },
    {
     "name": "stdout",
     "output_type": "stream",
     "text": [
      "newton-cg none 4.0 250 Logistic Regression F1 Score ->  91.75678923335737\n"
     ]
    },
    {
     "name": "stderr",
     "output_type": "stream",
     "text": [
      "[Parallel(n_jobs=1)]: Done   1 out of   1 | elapsed:    1.4s finished\n",
      "/Users/humaid/anaconda3/lib/python3.8/site-packages/sklearn/linear_model/_logistic.py:1322: UserWarning: Setting penalty='none' will ignore the C and l1_ratio parameters\n",
      "  warnings.warn(\n",
      "[Parallel(n_jobs=1)]: Using backend SequentialBackend with 1 concurrent workers.\n"
     ]
    },
    {
     "name": "stdout",
     "output_type": "stream",
     "text": [
      "newton-cg none 4.0 500 Logistic Regression F1 Score ->  91.75678923335737\n"
     ]
    },
    {
     "name": "stderr",
     "output_type": "stream",
     "text": [
      "[Parallel(n_jobs=1)]: Done   1 out of   1 | elapsed:    1.4s finished\n",
      "/Users/humaid/anaconda3/lib/python3.8/site-packages/sklearn/linear_model/_logistic.py:1322: UserWarning: Setting penalty='none' will ignore the C and l1_ratio parameters\n",
      "  warnings.warn(\n",
      "[Parallel(n_jobs=1)]: Using backend SequentialBackend with 1 concurrent workers.\n"
     ]
    },
    {
     "name": "stdout",
     "output_type": "stream",
     "text": [
      "newton-cg none 4.0 1000 Logistic Regression F1 Score ->  91.75678923335737\n"
     ]
    },
    {
     "name": "stderr",
     "output_type": "stream",
     "text": [
      "[Parallel(n_jobs=1)]: Done   1 out of   1 | elapsed:    1.4s finished\n",
      "/Users/humaid/anaconda3/lib/python3.8/site-packages/sklearn/linear_model/_logistic.py:1322: UserWarning: Setting penalty='none' will ignore the C and l1_ratio parameters\n",
      "  warnings.warn(\n",
      "[Parallel(n_jobs=1)]: Using backend SequentialBackend with 1 concurrent workers.\n"
     ]
    },
    {
     "name": "stdout",
     "output_type": "stream",
     "text": [
      "newton-cg none 4.0 1500 Logistic Regression F1 Score ->  91.75678923335737\n"
     ]
    },
    {
     "name": "stderr",
     "output_type": "stream",
     "text": [
      "[Parallel(n_jobs=1)]: Done   1 out of   1 | elapsed:    1.4s finished\n",
      "/Users/humaid/anaconda3/lib/python3.8/site-packages/sklearn/linear_model/_logistic.py:1322: UserWarning: Setting penalty='none' will ignore the C and l1_ratio parameters\n",
      "  warnings.warn(\n",
      "[Parallel(n_jobs=1)]: Using backend SequentialBackend with 1 concurrent workers.\n"
     ]
    },
    {
     "name": "stdout",
     "output_type": "stream",
     "text": [
      "newton-cg none 4.0 2500 Logistic Regression F1 Score ->  91.75678923335737\n"
     ]
    },
    {
     "name": "stderr",
     "output_type": "stream",
     "text": [
      "[Parallel(n_jobs=1)]: Done   1 out of   1 | elapsed:    1.4s finished\n",
      "/Users/humaid/anaconda3/lib/python3.8/site-packages/sklearn/linear_model/_logistic.py:1322: UserWarning: Setting penalty='none' will ignore the C and l1_ratio parameters\n",
      "  warnings.warn(\n",
      "[Parallel(n_jobs=1)]: Using backend SequentialBackend with 1 concurrent workers.\n"
     ]
    },
    {
     "name": "stdout",
     "output_type": "stream",
     "text": [
      "newton-cg none 5.0 250 Logistic Regression F1 Score ->  91.75678923335737\n"
     ]
    },
    {
     "name": "stderr",
     "output_type": "stream",
     "text": [
      "[Parallel(n_jobs=1)]: Done   1 out of   1 | elapsed:    1.4s finished\n",
      "/Users/humaid/anaconda3/lib/python3.8/site-packages/sklearn/linear_model/_logistic.py:1322: UserWarning: Setting penalty='none' will ignore the C and l1_ratio parameters\n",
      "  warnings.warn(\n",
      "[Parallel(n_jobs=1)]: Using backend SequentialBackend with 1 concurrent workers.\n"
     ]
    },
    {
     "name": "stdout",
     "output_type": "stream",
     "text": [
      "newton-cg none 5.0 500 Logistic Regression F1 Score ->  91.75678923335737\n"
     ]
    },
    {
     "name": "stderr",
     "output_type": "stream",
     "text": [
      "[Parallel(n_jobs=1)]: Done   1 out of   1 | elapsed:    1.5s finished\n",
      "/Users/humaid/anaconda3/lib/python3.8/site-packages/sklearn/linear_model/_logistic.py:1322: UserWarning: Setting penalty='none' will ignore the C and l1_ratio parameters\n",
      "  warnings.warn(\n",
      "[Parallel(n_jobs=1)]: Using backend SequentialBackend with 1 concurrent workers.\n"
     ]
    },
    {
     "name": "stdout",
     "output_type": "stream",
     "text": [
      "newton-cg none 5.0 1000 Logistic Regression F1 Score ->  91.75678923335737\n"
     ]
    },
    {
     "name": "stderr",
     "output_type": "stream",
     "text": [
      "[Parallel(n_jobs=1)]: Done   1 out of   1 | elapsed:    1.5s finished\n",
      "/Users/humaid/anaconda3/lib/python3.8/site-packages/sklearn/linear_model/_logistic.py:1322: UserWarning: Setting penalty='none' will ignore the C and l1_ratio parameters\n",
      "  warnings.warn(\n",
      "[Parallel(n_jobs=1)]: Using backend SequentialBackend with 1 concurrent workers.\n"
     ]
    },
    {
     "name": "stdout",
     "output_type": "stream",
     "text": [
      "newton-cg none 5.0 1500 Logistic Regression F1 Score ->  91.75678923335737\n"
     ]
    },
    {
     "name": "stderr",
     "output_type": "stream",
     "text": [
      "[Parallel(n_jobs=1)]: Done   1 out of   1 | elapsed:    1.4s finished\n",
      "[Parallel(n_jobs=1)]: Using backend SequentialBackend with 1 concurrent workers.\n"
     ]
    },
    {
     "name": "stdout",
     "output_type": "stream",
     "text": [
      "newton-cg none 5.0 2500 Logistic Regression F1 Score ->  91.75678923335737\n"
     ]
    },
    {
     "name": "stderr",
     "output_type": "stream",
     "text": [
      "[Parallel(n_jobs=1)]: Done   1 out of   1 | elapsed:    0.3s finished\n",
      "[Parallel(n_jobs=1)]: Using backend SequentialBackend with 1 concurrent workers.\n"
     ]
    },
    {
     "name": "stdout",
     "output_type": "stream",
     "text": [
      "lbfgs l2 1.0 250 Logistic Regression F1 Score ->  92.61583011583011\n"
     ]
    },
    {
     "name": "stderr",
     "output_type": "stream",
     "text": [
      "[Parallel(n_jobs=1)]: Done   1 out of   1 | elapsed:    0.3s finished\n",
      "[Parallel(n_jobs=1)]: Using backend SequentialBackend with 1 concurrent workers.\n"
     ]
    },
    {
     "name": "stdout",
     "output_type": "stream",
     "text": [
      "lbfgs l2 1.0 500 Logistic Regression F1 Score ->  92.61583011583011\n"
     ]
    },
    {
     "name": "stderr",
     "output_type": "stream",
     "text": [
      "[Parallel(n_jobs=1)]: Done   1 out of   1 | elapsed:    0.3s finished\n",
      "[Parallel(n_jobs=1)]: Using backend SequentialBackend with 1 concurrent workers.\n"
     ]
    },
    {
     "name": "stdout",
     "output_type": "stream",
     "text": [
      "lbfgs l2 1.0 1000 Logistic Regression F1 Score ->  92.61583011583011\n"
     ]
    },
    {
     "name": "stderr",
     "output_type": "stream",
     "text": [
      "[Parallel(n_jobs=1)]: Done   1 out of   1 | elapsed:    0.3s finished\n",
      "[Parallel(n_jobs=1)]: Using backend SequentialBackend with 1 concurrent workers.\n"
     ]
    },
    {
     "name": "stdout",
     "output_type": "stream",
     "text": [
      "lbfgs l2 1.0 1500 Logistic Regression F1 Score ->  92.61583011583011\n"
     ]
    },
    {
     "name": "stderr",
     "output_type": "stream",
     "text": [
      "[Parallel(n_jobs=1)]: Done   1 out of   1 | elapsed:    0.3s finished\n",
      "[Parallel(n_jobs=1)]: Using backend SequentialBackend with 1 concurrent workers.\n"
     ]
    },
    {
     "name": "stdout",
     "output_type": "stream",
     "text": [
      "lbfgs l2 1.0 2500 Logistic Regression F1 Score ->  92.61583011583011\n"
     ]
    },
    {
     "name": "stderr",
     "output_type": "stream",
     "text": [
      "[Parallel(n_jobs=1)]: Done   1 out of   1 | elapsed:    0.4s finished\n",
      "[Parallel(n_jobs=1)]: Using backend SequentialBackend with 1 concurrent workers.\n"
     ]
    },
    {
     "name": "stdout",
     "output_type": "stream",
     "text": [
      "lbfgs l2 2.0 250 Logistic Regression F1 Score ->  93.02100941801498\n"
     ]
    },
    {
     "name": "stderr",
     "output_type": "stream",
     "text": [
      "[Parallel(n_jobs=1)]: Done   1 out of   1 | elapsed:    0.4s finished\n",
      "[Parallel(n_jobs=1)]: Using backend SequentialBackend with 1 concurrent workers.\n"
     ]
    },
    {
     "name": "stdout",
     "output_type": "stream",
     "text": [
      "lbfgs l2 2.0 500 Logistic Regression F1 Score ->  93.02100941801498\n"
     ]
    },
    {
     "name": "stderr",
     "output_type": "stream",
     "text": [
      "[Parallel(n_jobs=1)]: Done   1 out of   1 | elapsed:    0.4s finished\n",
      "[Parallel(n_jobs=1)]: Using backend SequentialBackend with 1 concurrent workers.\n"
     ]
    },
    {
     "name": "stdout",
     "output_type": "stream",
     "text": [
      "lbfgs l2 2.0 1000 Logistic Regression F1 Score ->  93.02100941801498\n"
     ]
    },
    {
     "name": "stderr",
     "output_type": "stream",
     "text": [
      "[Parallel(n_jobs=1)]: Done   1 out of   1 | elapsed:    0.4s finished\n",
      "[Parallel(n_jobs=1)]: Using backend SequentialBackend with 1 concurrent workers.\n"
     ]
    },
    {
     "name": "stdout",
     "output_type": "stream",
     "text": [
      "lbfgs l2 2.0 1500 Logistic Regression F1 Score ->  93.02100941801498\n"
     ]
    },
    {
     "name": "stderr",
     "output_type": "stream",
     "text": [
      "[Parallel(n_jobs=1)]: Done   1 out of   1 | elapsed:    0.4s finished\n",
      "[Parallel(n_jobs=1)]: Using backend SequentialBackend with 1 concurrent workers.\n"
     ]
    },
    {
     "name": "stdout",
     "output_type": "stream",
     "text": [
      "lbfgs l2 2.0 2500 Logistic Regression F1 Score ->  93.02100941801498\n"
     ]
    },
    {
     "name": "stderr",
     "output_type": "stream",
     "text": [
      "[Parallel(n_jobs=1)]: Done   1 out of   1 | elapsed:    0.5s finished\n",
      "[Parallel(n_jobs=1)]: Using backend SequentialBackend with 1 concurrent workers.\n"
     ]
    },
    {
     "name": "stdout",
     "output_type": "stream",
     "text": [
      "lbfgs l2 3.0 250 Logistic Regression F1 Score ->  93.16920106203234\n"
     ]
    },
    {
     "name": "stderr",
     "output_type": "stream",
     "text": [
      "[Parallel(n_jobs=1)]: Done   1 out of   1 | elapsed:    0.4s finished\n",
      "[Parallel(n_jobs=1)]: Using backend SequentialBackend with 1 concurrent workers.\n"
     ]
    },
    {
     "name": "stdout",
     "output_type": "stream",
     "text": [
      "lbfgs l2 3.0 500 Logistic Regression F1 Score ->  93.16920106203234\n"
     ]
    },
    {
     "name": "stderr",
     "output_type": "stream",
     "text": [
      "[Parallel(n_jobs=1)]: Done   1 out of   1 | elapsed:    0.5s finished\n",
      "[Parallel(n_jobs=1)]: Using backend SequentialBackend with 1 concurrent workers.\n"
     ]
    },
    {
     "name": "stdout",
     "output_type": "stream",
     "text": [
      "lbfgs l2 3.0 1000 Logistic Regression F1 Score ->  93.16920106203234\n"
     ]
    },
    {
     "name": "stderr",
     "output_type": "stream",
     "text": [
      "[Parallel(n_jobs=1)]: Done   1 out of   1 | elapsed:    0.5s finished\n",
      "[Parallel(n_jobs=1)]: Using backend SequentialBackend with 1 concurrent workers.\n"
     ]
    },
    {
     "name": "stdout",
     "output_type": "stream",
     "text": [
      "lbfgs l2 3.0 1500 Logistic Regression F1 Score ->  93.16920106203234\n"
     ]
    },
    {
     "name": "stderr",
     "output_type": "stream",
     "text": [
      "[Parallel(n_jobs=1)]: Done   1 out of   1 | elapsed:    0.5s finished\n",
      "[Parallel(n_jobs=1)]: Using backend SequentialBackend with 1 concurrent workers.\n"
     ]
    },
    {
     "name": "stdout",
     "output_type": "stream",
     "text": [
      "lbfgs l2 3.0 2500 Logistic Regression F1 Score ->  93.16920106203234\n"
     ]
    },
    {
     "name": "stderr",
     "output_type": "stream",
     "text": [
      "[Parallel(n_jobs=1)]: Done   1 out of   1 | elapsed:    0.6s finished\n",
      "[Parallel(n_jobs=1)]: Using backend SequentialBackend with 1 concurrent workers.\n"
     ]
    },
    {
     "name": "stdout",
     "output_type": "stream",
     "text": [
      "lbfgs l2 4.0 250 Logistic Regression F1 Score ->  93.21747525947383\n"
     ]
    },
    {
     "name": "stderr",
     "output_type": "stream",
     "text": [
      "[Parallel(n_jobs=1)]: Done   1 out of   1 | elapsed:    0.6s finished\n",
      "[Parallel(n_jobs=1)]: Using backend SequentialBackend with 1 concurrent workers.\n"
     ]
    },
    {
     "name": "stdout",
     "output_type": "stream",
     "text": [
      "lbfgs l2 4.0 500 Logistic Regression F1 Score ->  93.21747525947383\n"
     ]
    },
    {
     "name": "stderr",
     "output_type": "stream",
     "text": [
      "[Parallel(n_jobs=1)]: Done   1 out of   1 | elapsed:    0.6s finished\n",
      "[Parallel(n_jobs=1)]: Using backend SequentialBackend with 1 concurrent workers.\n"
     ]
    },
    {
     "name": "stdout",
     "output_type": "stream",
     "text": [
      "lbfgs l2 4.0 1000 Logistic Regression F1 Score ->  93.21747525947383\n"
     ]
    },
    {
     "name": "stderr",
     "output_type": "stream",
     "text": [
      "[Parallel(n_jobs=1)]: Done   1 out of   1 | elapsed:    0.6s finished\n",
      "[Parallel(n_jobs=1)]: Using backend SequentialBackend with 1 concurrent workers.\n"
     ]
    },
    {
     "name": "stdout",
     "output_type": "stream",
     "text": [
      "lbfgs l2 4.0 1500 Logistic Regression F1 Score ->  93.21747525947383\n"
     ]
    },
    {
     "name": "stderr",
     "output_type": "stream",
     "text": [
      "[Parallel(n_jobs=1)]: Done   1 out of   1 | elapsed:    0.6s finished\n",
      "[Parallel(n_jobs=1)]: Using backend SequentialBackend with 1 concurrent workers.\n"
     ]
    },
    {
     "name": "stdout",
     "output_type": "stream",
     "text": [
      "lbfgs l2 4.0 2500 Logistic Regression F1 Score ->  93.21747525947383\n"
     ]
    },
    {
     "name": "stderr",
     "output_type": "stream",
     "text": [
      "[Parallel(n_jobs=1)]: Done   1 out of   1 | elapsed:    0.8s finished\n",
      "[Parallel(n_jobs=1)]: Using backend SequentialBackend with 1 concurrent workers.\n"
     ]
    },
    {
     "name": "stdout",
     "output_type": "stream",
     "text": [
      "lbfgs l2 5.0 250 Logistic Regression F1 Score ->  93.21092051220101\n"
     ]
    },
    {
     "name": "stderr",
     "output_type": "stream",
     "text": [
      "[Parallel(n_jobs=1)]: Done   1 out of   1 | elapsed:    1.1s finished\n",
      "[Parallel(n_jobs=1)]: Using backend SequentialBackend with 1 concurrent workers.\n"
     ]
    },
    {
     "name": "stdout",
     "output_type": "stream",
     "text": [
      "lbfgs l2 5.0 500 Logistic Regression F1 Score ->  93.21092051220101\n"
     ]
    },
    {
     "name": "stderr",
     "output_type": "stream",
     "text": [
      "[Parallel(n_jobs=1)]: Done   1 out of   1 | elapsed:    0.8s finished\n",
      "[Parallel(n_jobs=1)]: Using backend SequentialBackend with 1 concurrent workers.\n"
     ]
    },
    {
     "name": "stdout",
     "output_type": "stream",
     "text": [
      "lbfgs l2 5.0 1000 Logistic Regression F1 Score ->  93.21092051220101\n"
     ]
    },
    {
     "name": "stderr",
     "output_type": "stream",
     "text": [
      "[Parallel(n_jobs=1)]: Done   1 out of   1 | elapsed:    0.8s finished\n",
      "[Parallel(n_jobs=1)]: Using backend SequentialBackend with 1 concurrent workers.\n"
     ]
    },
    {
     "name": "stdout",
     "output_type": "stream",
     "text": [
      "lbfgs l2 5.0 1500 Logistic Regression F1 Score ->  93.21092051220101\n"
     ]
    },
    {
     "name": "stderr",
     "output_type": "stream",
     "text": [
      "[Parallel(n_jobs=1)]: Done   1 out of   1 | elapsed:    0.7s finished\n",
      "[Parallel(n_jobs=1)]: Using backend SequentialBackend with 1 concurrent workers.\n"
     ]
    },
    {
     "name": "stdout",
     "output_type": "stream",
     "text": [
      "lbfgs l2 5.0 2500 Logistic Regression F1 Score ->  93.21092051220101\n"
     ]
    },
    {
     "name": "stderr",
     "output_type": "stream",
     "text": [
      "[Parallel(n_jobs=1)]: Done   1 out of   1 | elapsed:    0.4s finished\n",
      "[Parallel(n_jobs=1)]: Using backend SequentialBackend with 1 concurrent workers.\n"
     ]
    },
    {
     "name": "stdout",
     "output_type": "stream",
     "text": [
      "lbfgs none 1.0 250 Logistic Regression F1 Score ->  92.45147375988498\n"
     ]
    },
    {
     "name": "stderr",
     "output_type": "stream",
     "text": [
      "[Parallel(n_jobs=1)]: Done   1 out of   1 | elapsed:    0.4s finished\n",
      "[Parallel(n_jobs=1)]: Using backend SequentialBackend with 1 concurrent workers.\n"
     ]
    },
    {
     "name": "stdout",
     "output_type": "stream",
     "text": [
      "lbfgs none 1.0 500 Logistic Regression F1 Score ->  92.45147375988498\n"
     ]
    },
    {
     "name": "stderr",
     "output_type": "stream",
     "text": [
      "[Parallel(n_jobs=1)]: Done   1 out of   1 | elapsed:    0.4s finished\n",
      "[Parallel(n_jobs=1)]: Using backend SequentialBackend with 1 concurrent workers.\n"
     ]
    },
    {
     "name": "stdout",
     "output_type": "stream",
     "text": [
      "lbfgs none 1.0 1000 Logistic Regression F1 Score ->  92.45147375988498\n"
     ]
    },
    {
     "name": "stderr",
     "output_type": "stream",
     "text": [
      "[Parallel(n_jobs=1)]: Done   1 out of   1 | elapsed:    0.4s finished\n",
      "[Parallel(n_jobs=1)]: Using backend SequentialBackend with 1 concurrent workers.\n"
     ]
    },
    {
     "name": "stdout",
     "output_type": "stream",
     "text": [
      "lbfgs none 1.0 1500 Logistic Regression F1 Score ->  92.45147375988498\n"
     ]
    },
    {
     "name": "stderr",
     "output_type": "stream",
     "text": [
      "[Parallel(n_jobs=1)]: Done   1 out of   1 | elapsed:    0.4s finished\n",
      "/Users/humaid/anaconda3/lib/python3.8/site-packages/sklearn/linear_model/_logistic.py:1322: UserWarning: Setting penalty='none' will ignore the C and l1_ratio parameters\n",
      "  warnings.warn(\n",
      "[Parallel(n_jobs=1)]: Using backend SequentialBackend with 1 concurrent workers.\n"
     ]
    },
    {
     "name": "stdout",
     "output_type": "stream",
     "text": [
      "lbfgs none 1.0 2500 Logistic Regression F1 Score ->  92.45147375988498\n"
     ]
    },
    {
     "name": "stderr",
     "output_type": "stream",
     "text": [
      "[Parallel(n_jobs=1)]: Done   1 out of   1 | elapsed:    0.4s finished\n",
      "/Users/humaid/anaconda3/lib/python3.8/site-packages/sklearn/linear_model/_logistic.py:1322: UserWarning: Setting penalty='none' will ignore the C and l1_ratio parameters\n",
      "  warnings.warn(\n",
      "[Parallel(n_jobs=1)]: Using backend SequentialBackend with 1 concurrent workers.\n"
     ]
    },
    {
     "name": "stdout",
     "output_type": "stream",
     "text": [
      "lbfgs none 2.0 250 Logistic Regression F1 Score ->  92.45147375988498\n"
     ]
    },
    {
     "name": "stderr",
     "output_type": "stream",
     "text": [
      "[Parallel(n_jobs=1)]: Done   1 out of   1 | elapsed:    0.4s finished\n",
      "/Users/humaid/anaconda3/lib/python3.8/site-packages/sklearn/linear_model/_logistic.py:1322: UserWarning: Setting penalty='none' will ignore the C and l1_ratio parameters\n",
      "  warnings.warn(\n",
      "[Parallel(n_jobs=1)]: Using backend SequentialBackend with 1 concurrent workers.\n"
     ]
    },
    {
     "name": "stdout",
     "output_type": "stream",
     "text": [
      "lbfgs none 2.0 500 Logistic Regression F1 Score ->  92.45147375988498\n"
     ]
    },
    {
     "name": "stderr",
     "output_type": "stream",
     "text": [
      "[Parallel(n_jobs=1)]: Done   1 out of   1 | elapsed:    0.4s finished\n",
      "/Users/humaid/anaconda3/lib/python3.8/site-packages/sklearn/linear_model/_logistic.py:1322: UserWarning: Setting penalty='none' will ignore the C and l1_ratio parameters\n",
      "  warnings.warn(\n",
      "[Parallel(n_jobs=1)]: Using backend SequentialBackend with 1 concurrent workers.\n"
     ]
    },
    {
     "name": "stdout",
     "output_type": "stream",
     "text": [
      "lbfgs none 2.0 1000 Logistic Regression F1 Score ->  92.45147375988498\n"
     ]
    },
    {
     "name": "stderr",
     "output_type": "stream",
     "text": [
      "[Parallel(n_jobs=1)]: Done   1 out of   1 | elapsed:    0.4s finished\n",
      "/Users/humaid/anaconda3/lib/python3.8/site-packages/sklearn/linear_model/_logistic.py:1322: UserWarning: Setting penalty='none' will ignore the C and l1_ratio parameters\n",
      "  warnings.warn(\n",
      "[Parallel(n_jobs=1)]: Using backend SequentialBackend with 1 concurrent workers.\n"
     ]
    },
    {
     "name": "stdout",
     "output_type": "stream",
     "text": [
      "lbfgs none 2.0 1500 Logistic Regression F1 Score ->  92.45147375988498\n"
     ]
    },
    {
     "name": "stderr",
     "output_type": "stream",
     "text": [
      "[Parallel(n_jobs=1)]: Done   1 out of   1 | elapsed:    0.4s finished\n",
      "/Users/humaid/anaconda3/lib/python3.8/site-packages/sklearn/linear_model/_logistic.py:1322: UserWarning: Setting penalty='none' will ignore the C and l1_ratio parameters\n",
      "  warnings.warn(\n",
      "[Parallel(n_jobs=1)]: Using backend SequentialBackend with 1 concurrent workers.\n"
     ]
    },
    {
     "name": "stdout",
     "output_type": "stream",
     "text": [
      "lbfgs none 2.0 2500 Logistic Regression F1 Score ->  92.45147375988498\n"
     ]
    },
    {
     "name": "stderr",
     "output_type": "stream",
     "text": [
      "[Parallel(n_jobs=1)]: Done   1 out of   1 | elapsed:    0.4s finished\n",
      "/Users/humaid/anaconda3/lib/python3.8/site-packages/sklearn/linear_model/_logistic.py:1322: UserWarning: Setting penalty='none' will ignore the C and l1_ratio parameters\n",
      "  warnings.warn(\n",
      "[Parallel(n_jobs=1)]: Using backend SequentialBackend with 1 concurrent workers.\n"
     ]
    },
    {
     "name": "stdout",
     "output_type": "stream",
     "text": [
      "lbfgs none 3.0 250 Logistic Regression F1 Score ->  92.45147375988498\n"
     ]
    },
    {
     "name": "stderr",
     "output_type": "stream",
     "text": [
      "[Parallel(n_jobs=1)]: Done   1 out of   1 | elapsed:    0.4s finished\n",
      "/Users/humaid/anaconda3/lib/python3.8/site-packages/sklearn/linear_model/_logistic.py:1322: UserWarning: Setting penalty='none' will ignore the C and l1_ratio parameters\n",
      "  warnings.warn(\n",
      "[Parallel(n_jobs=1)]: Using backend SequentialBackend with 1 concurrent workers.\n"
     ]
    },
    {
     "name": "stdout",
     "output_type": "stream",
     "text": [
      "lbfgs none 3.0 500 Logistic Regression F1 Score ->  92.45147375988498\n"
     ]
    },
    {
     "name": "stderr",
     "output_type": "stream",
     "text": [
      "[Parallel(n_jobs=1)]: Done   1 out of   1 | elapsed:    0.4s finished\n",
      "/Users/humaid/anaconda3/lib/python3.8/site-packages/sklearn/linear_model/_logistic.py:1322: UserWarning: Setting penalty='none' will ignore the C and l1_ratio parameters\n",
      "  warnings.warn(\n",
      "[Parallel(n_jobs=1)]: Using backend SequentialBackend with 1 concurrent workers.\n"
     ]
    },
    {
     "name": "stdout",
     "output_type": "stream",
     "text": [
      "lbfgs none 3.0 1000 Logistic Regression F1 Score ->  92.45147375988498\n"
     ]
    },
    {
     "name": "stderr",
     "output_type": "stream",
     "text": [
      "[Parallel(n_jobs=1)]: Done   1 out of   1 | elapsed:    0.4s finished\n",
      "/Users/humaid/anaconda3/lib/python3.8/site-packages/sklearn/linear_model/_logistic.py:1322: UserWarning: Setting penalty='none' will ignore the C and l1_ratio parameters\n",
      "  warnings.warn(\n",
      "[Parallel(n_jobs=1)]: Using backend SequentialBackend with 1 concurrent workers.\n"
     ]
    },
    {
     "name": "stdout",
     "output_type": "stream",
     "text": [
      "lbfgs none 3.0 1500 Logistic Regression F1 Score ->  92.45147375988498\n"
     ]
    },
    {
     "name": "stderr",
     "output_type": "stream",
     "text": [
      "[Parallel(n_jobs=1)]: Done   1 out of   1 | elapsed:    0.4s finished\n",
      "/Users/humaid/anaconda3/lib/python3.8/site-packages/sklearn/linear_model/_logistic.py:1322: UserWarning: Setting penalty='none' will ignore the C and l1_ratio parameters\n",
      "  warnings.warn(\n",
      "[Parallel(n_jobs=1)]: Using backend SequentialBackend with 1 concurrent workers.\n"
     ]
    },
    {
     "name": "stdout",
     "output_type": "stream",
     "text": [
      "lbfgs none 3.0 2500 Logistic Regression F1 Score ->  92.45147375988498\n"
     ]
    },
    {
     "name": "stderr",
     "output_type": "stream",
     "text": [
      "[Parallel(n_jobs=1)]: Done   1 out of   1 | elapsed:    0.4s finished\n",
      "/Users/humaid/anaconda3/lib/python3.8/site-packages/sklearn/linear_model/_logistic.py:1322: UserWarning: Setting penalty='none' will ignore the C and l1_ratio parameters\n",
      "  warnings.warn(\n",
      "[Parallel(n_jobs=1)]: Using backend SequentialBackend with 1 concurrent workers.\n"
     ]
    },
    {
     "name": "stdout",
     "output_type": "stream",
     "text": [
      "lbfgs none 4.0 250 Logistic Regression F1 Score ->  92.45147375988498\n"
     ]
    },
    {
     "name": "stderr",
     "output_type": "stream",
     "text": [
      "[Parallel(n_jobs=1)]: Done   1 out of   1 | elapsed:    0.4s finished\n",
      "/Users/humaid/anaconda3/lib/python3.8/site-packages/sklearn/linear_model/_logistic.py:1322: UserWarning: Setting penalty='none' will ignore the C and l1_ratio parameters\n",
      "  warnings.warn(\n",
      "[Parallel(n_jobs=1)]: Using backend SequentialBackend with 1 concurrent workers.\n"
     ]
    },
    {
     "name": "stdout",
     "output_type": "stream",
     "text": [
      "lbfgs none 4.0 500 Logistic Regression F1 Score ->  92.45147375988498\n"
     ]
    },
    {
     "name": "stderr",
     "output_type": "stream",
     "text": [
      "[Parallel(n_jobs=1)]: Done   1 out of   1 | elapsed:    0.4s finished\n",
      "/Users/humaid/anaconda3/lib/python3.8/site-packages/sklearn/linear_model/_logistic.py:1322: UserWarning: Setting penalty='none' will ignore the C and l1_ratio parameters\n",
      "  warnings.warn(\n",
      "[Parallel(n_jobs=1)]: Using backend SequentialBackend with 1 concurrent workers.\n"
     ]
    },
    {
     "name": "stdout",
     "output_type": "stream",
     "text": [
      "lbfgs none 4.0 1000 Logistic Regression F1 Score ->  92.45147375988498\n"
     ]
    },
    {
     "name": "stderr",
     "output_type": "stream",
     "text": [
      "[Parallel(n_jobs=1)]: Done   1 out of   1 | elapsed:    0.4s finished\n",
      "/Users/humaid/anaconda3/lib/python3.8/site-packages/sklearn/linear_model/_logistic.py:1322: UserWarning: Setting penalty='none' will ignore the C and l1_ratio parameters\n",
      "  warnings.warn(\n",
      "[Parallel(n_jobs=1)]: Using backend SequentialBackend with 1 concurrent workers.\n"
     ]
    },
    {
     "name": "stdout",
     "output_type": "stream",
     "text": [
      "lbfgs none 4.0 1500 Logistic Regression F1 Score ->  92.45147375988498\n"
     ]
    },
    {
     "name": "stderr",
     "output_type": "stream",
     "text": [
      "[Parallel(n_jobs=1)]: Done   1 out of   1 | elapsed:    0.4s finished\n",
      "/Users/humaid/anaconda3/lib/python3.8/site-packages/sklearn/linear_model/_logistic.py:1322: UserWarning: Setting penalty='none' will ignore the C and l1_ratio parameters\n",
      "  warnings.warn(\n",
      "[Parallel(n_jobs=1)]: Using backend SequentialBackend with 1 concurrent workers.\n"
     ]
    },
    {
     "name": "stdout",
     "output_type": "stream",
     "text": [
      "lbfgs none 4.0 2500 Logistic Regression F1 Score ->  92.45147375988498\n"
     ]
    },
    {
     "name": "stderr",
     "output_type": "stream",
     "text": [
      "[Parallel(n_jobs=1)]: Done   1 out of   1 | elapsed:    0.4s finished\n",
      "/Users/humaid/anaconda3/lib/python3.8/site-packages/sklearn/linear_model/_logistic.py:1322: UserWarning: Setting penalty='none' will ignore the C and l1_ratio parameters\n",
      "  warnings.warn(\n",
      "[Parallel(n_jobs=1)]: Using backend SequentialBackend with 1 concurrent workers.\n"
     ]
    },
    {
     "name": "stdout",
     "output_type": "stream",
     "text": [
      "lbfgs none 5.0 250 Logistic Regression F1 Score ->  92.45147375988498\n"
     ]
    },
    {
     "name": "stderr",
     "output_type": "stream",
     "text": [
      "[Parallel(n_jobs=1)]: Done   1 out of   1 | elapsed:    0.4s finished\n",
      "/Users/humaid/anaconda3/lib/python3.8/site-packages/sklearn/linear_model/_logistic.py:1322: UserWarning: Setting penalty='none' will ignore the C and l1_ratio parameters\n",
      "  warnings.warn(\n",
      "[Parallel(n_jobs=1)]: Using backend SequentialBackend with 1 concurrent workers.\n"
     ]
    },
    {
     "name": "stdout",
     "output_type": "stream",
     "text": [
      "lbfgs none 5.0 500 Logistic Regression F1 Score ->  92.45147375988498\n"
     ]
    },
    {
     "name": "stderr",
     "output_type": "stream",
     "text": [
      "[Parallel(n_jobs=1)]: Done   1 out of   1 | elapsed:    0.4s finished\n",
      "/Users/humaid/anaconda3/lib/python3.8/site-packages/sklearn/linear_model/_logistic.py:1322: UserWarning: Setting penalty='none' will ignore the C and l1_ratio parameters\n",
      "  warnings.warn(\n",
      "[Parallel(n_jobs=1)]: Using backend SequentialBackend with 1 concurrent workers.\n"
     ]
    },
    {
     "name": "stdout",
     "output_type": "stream",
     "text": [
      "lbfgs none 5.0 1000 Logistic Regression F1 Score ->  92.45147375988498\n"
     ]
    },
    {
     "name": "stderr",
     "output_type": "stream",
     "text": [
      "[Parallel(n_jobs=1)]: Done   1 out of   1 | elapsed:    0.4s finished\n",
      "/Users/humaid/anaconda3/lib/python3.8/site-packages/sklearn/linear_model/_logistic.py:1322: UserWarning: Setting penalty='none' will ignore the C and l1_ratio parameters\n",
      "  warnings.warn(\n",
      "[Parallel(n_jobs=1)]: Using backend SequentialBackend with 1 concurrent workers.\n"
     ]
    },
    {
     "name": "stdout",
     "output_type": "stream",
     "text": [
      "lbfgs none 5.0 1500 Logistic Regression F1 Score ->  92.45147375988498\n",
      "lbfgs none 5.0 2500 Logistic Regression F1 Score ->  92.45147375988498\n"
     ]
    },
    {
     "name": "stderr",
     "output_type": "stream",
     "text": [
      "[Parallel(n_jobs=1)]: Done   1 out of   1 | elapsed:    0.4s finished\n"
     ]
    }
   ],
   "source": [
    "from sklearn.linear_model import LogisticRegression\n",
    " \n",
    "Switch_LR_penalty ={\n",
    "'newton-cg' : ['l2', 'none'],\n",
    "'lbfgs' : ['l2', 'none'],\n",
    "'liblinear' : ['l1', 'l2'],\n",
    "'sag' : ['l2', 'none'],\n",
    "'saga'     : ['l1', 'l2', 'none']\n",
    "}\n",
    "LR_C_list = [1.0,2.0,3.0,4.0,5.0]\n",
    "LR_MAX_ITER_list = [250,500,1000,1500,2500]\n",
    "LR_Solver_list = ['liblinear', 'saga','sag','newton-cg', 'lbfgs']\n",
    "LR_Prediction = np.empty((0,8))\n",
    " \n",
    "for lr_solver in LR_Solver_list:\n",
    "    LR_Penalty_list = Switch_LR_penalty.get(lr_solver, -1)\n",
    "    for lr_penalty in LR_Penalty_list:\n",
    "        for lr_c in LR_C_list:\n",
    "            for lr_max_iter in LR_MAX_ITER_list:\n",
    "                Logistic_Reg = LogisticRegression(verbose=1, solver=lr_solver,random_state=0, C=lr_c, penalty=lr_penalty,max_iter=lr_max_iter)\n",
    "                model=Logistic_Reg.fit(Train_Corpus_WO_Label_Tfidf,Train_Label)\n",
    "                predictions_Logreg = Logistic_Reg.predict(Validation_Corpus_WO_Label_Tfidf)\n",
    "                print(lr_solver , lr_penalty , lr_c, lr_max_iter,\"Logistic Regression F1 Score -> \",f1_score(Validation_Label,predictions_Logreg)*100)\n",
    "                LR_Prediction = np.append(LR_Prediction, np.array([[lr_solver,lr_penalty, lr_c, lr_max_iter,accuracy_score(Validation_Label,predictions_Logreg)*100,precision_score(Validation_Label, predictions_Logreg)*100,recall_score(Validation_Label, predictions_Logreg)*100,f1_score(Validation_Label,predictions_Logreg)*100]]), axis=0)\n"
   ]
  },
  {
   "cell_type": "code",
   "execution_count": 46,
   "metadata": {},
   "outputs": [
    {
     "data": {
      "text/plain": [
       "array(['liblinear', 'l1', '2.0', '250', '93.5576923076923',\n",
       "       '93.51585014409221', '93.60576923076923', '93.56078808265256'],\n",
       "      dtype='<U32')"
      ]
     },
     "execution_count": 46,
     "metadata": {},
     "output_type": "execute_result"
    }
   ],
   "source": [
    "LR_Prediction[np.argmax(LR_Prediction[:,-1])]"
   ]
  },
  {
   "cell_type": "code",
   "execution_count": 50,
   "metadata": {},
   "outputs": [
    {
     "data": {
      "text/plain": [
       "array(['newton-cg', 'none', '1.0', '250', '91.7548076923077',\n",
       "       '91.7347429120615', '91.77884615384615', '91.75678923335737'],\n",
       "      dtype='<U32')"
      ]
     },
     "execution_count": 50,
     "metadata": {},
     "output_type": "execute_result"
    }
   ],
   "source": [
    "LR_Prediction[np.argmin(LR_Prediction[:,-1])]"
   ]
  },
  {
   "cell_type": "code",
   "execution_count": 48,
   "metadata": {},
   "outputs": [
    {
     "data": {
      "text/plain": [
       "array(['rbf', 'scale', '3.0', '2', '94.13461538461539',\n",
       "       '94.34782608695652', '93.89423076923077', '94.12048192771084'],\n",
       "      dtype='<U32')"
      ]
     },
     "execution_count": 48,
     "metadata": {},
     "output_type": "execute_result"
    }
   ],
   "source": [
    "SVM_Prediction[np.argmax(SVM_Prediction[:,-1])]"
   ]
  },
  {
   "cell_type": "code",
   "execution_count": 49,
   "metadata": {},
   "outputs": [
    {
     "data": {
      "text/plain": [
       "array(['poly', 'auto', '1.0', '2', '50.0', '50.0', '100.0',\n",
       "       '66.66666666666666'], dtype='<U32')"
      ]
     },
     "execution_count": 49,
     "metadata": {},
     "output_type": "execute_result"
    }
   ],
   "source": [
    "SVM_Prediction[np.argmin(SVM_Prediction[:,-1])]"
   ]
  },
  {
   "cell_type": "code",
   "execution_count": 18,
   "metadata": {
    "id": "ypatnU-MJTA3"
   },
   "outputs": [],
   "source": [
    "Test_Corpus_WO_Label_Tfidf = Tfidf_vector.transform(Test_Corpus_WO_Label)"
   ]
  },
  {
   "cell_type": "code",
   "execution_count": 52,
   "metadata": {},
   "outputs": [
    {
     "name": "stdout",
     "output_type": "stream",
     "text": [
      "Naive Bayes Accuracy Score ->  87.66826923076924\n",
      "Naive Bayes Recall Score ->  90.99427381572099\n",
      "Naive Bayes Precision Score ->  83.71647509578544\n",
      "Naive Bayes F1 Score ->  87.2037914691943\n"
     ]
    }
   ],
   "source": [
    "# Test dataset used for predicting labels\n",
    "test_predictions_NB = nb.predict(Test_Corpus_WO_Label_Tfidf)\n",
    "print(\"Naive Bayes Accuracy Score -> \",accuracy_score(test_predictions_NB, Test_Label)*100)\n",
    "print(\"Naive Bayes Recall Score -> \",recall_score(test_predictions_NB, Test_Label)*100)\n",
    "print(\"Naive Bayes Precision Score -> \",precision_score(test_predictions_NB, Test_Label)*100)\n",
    "print(\"Naive Bayes F1 Score -> \",f1_score(test_predictions_NB, Test_Label)*100)"
   ]
  },
  {
   "cell_type": "code",
   "execution_count": 57,
   "metadata": {},
   "outputs": [
    {
     "name": "stdout",
     "output_type": "stream",
     "text": [
      "SVM Accuracy Score ->  94.32692307692308\n",
      "SVM Recall Score ->  94.56207892204043\n",
      "SVM Precision Score ->  94.10919540229885\n",
      "SVM F1 Score ->  94.33509361497839\n"
     ]
    }
   ],
   "source": [
    "# SVM Classifier\n",
    "SVM = svm.SVC(C=float(SVM_Prediction[np.argmax(SVM_Prediction[:,-1])][2]), kernel=SVM_Prediction[np.argmax(SVM_Prediction[:,-1])][0], gamma=SVM_Prediction[np.argmax(SVM_Prediction[:,-1])][1])\n",
    "SVM.fit(Train_Corpus_WO_Label_Tfidf,Train_Label)\n",
    "test_predictions_SVM = SVM.predict(Test_Corpus_WO_Label_Tfidf)\n",
    "print(\"SVM Accuracy Score -> \",accuracy_score(test_predictions_SVM, Test_Label)*100)\n",
    "print(\"SVM Recall Score -> \",recall_score(test_predictions_SVM, Test_Label)*100)\n",
    "print(\"SVM Precision Score -> \",precision_score(test_predictions_SVM, Test_Label)*100)\n",
    "print(\"SVM F1 Score -> \",f1_score(test_predictions_SVM, Test_Label)*100)"
   ]
  },
  {
   "cell_type": "code",
   "execution_count": 51,
   "metadata": {},
   "outputs": [
    {
     "name": "stdout",
     "output_type": "stream",
     "text": [
      "[LibLinear]Logistic Regression Accuracy Score ->  93.19711538461539\n",
      "Logistic Regression Recall Score ->  93.1611669057867\n",
      "Logistic Regression Precision Score ->  93.29501915708812\n",
      "Logistic Regression F1 Score ->  93.22804498683895\n"
     ]
    }
   ],
   "source": [
    "# Logistic Regression\n",
    "from sklearn.linear_model import LogisticRegression\n",
    " \n",
    "Logistic_Reg = LogisticRegression(verbose=1, solver=LR_Prediction[np.argmax(LR_Prediction[:,-1])][0],random_state=0, C=float(LR_Prediction[np.argmax(LR_Prediction[:,-1])][2]), penalty=LR_Prediction[np.argmax(LR_Prediction[:,-1])][1],max_iter=int(LR_Prediction[np.argmax(LR_Prediction[:,-1])][3]))\n",
    "model=Logistic_Reg.fit(Train_Corpus_WO_Label_Tfidf,Train_Label)\n",
    "test_predictions_Logreg = Logistic_Reg.predict(Test_Corpus_WO_Label_Tfidf)\n",
    "print(\"Logistic Regression Accuracy Score -> \",accuracy_score(test_predictions_Logreg, Test_Label)*100)\n",
    "print(\"Logistic Regression Recall Score -> \",recall_score(test_predictions_Logreg, Test_Label)*100)\n",
    "print(\"Logistic Regression Precision Score -> \",precision_score(test_predictions_Logreg, Test_Label)*100)\n",
    "print(\"Logistic Regression F1 Score -> \",f1_score(test_predictions_Logreg, Test_Label)*100)\n"
   ]
  }
 ],
 "metadata": {
  "colab": {
   "authorship_tag": "ABX9TyO71kLZbDzClRD/TqpxcChX",
   "collapsed_sections": [],
   "name": "Fake News Detection.ipynb",
   "provenance": []
  },
  "kernelspec": {
   "display_name": "Python 3",
   "language": "python",
   "name": "python3"
  },
  "language_info": {
   "codemirror_mode": {
    "name": "ipython",
    "version": 3
   },
   "file_extension": ".py",
   "mimetype": "text/x-python",
   "name": "python",
   "nbconvert_exporter": "python",
   "pygments_lexer": "ipython3",
   "version": "3.8.8"
  }
 },
 "nbformat": 4,
 "nbformat_minor": 1
}
